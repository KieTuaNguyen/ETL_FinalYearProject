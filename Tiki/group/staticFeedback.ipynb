{
 "cells": [
  {
   "cell_type": "code",
   "execution_count": 9,
   "metadata": {},
   "outputs": [],
   "source": [
    "import pandas as pd\n",
    "import requests\n",
    "import random\n",
    "import time\n",
    "\n",
    "HEADERS = {\"User-Agent\": \"Mozilla/5.0 (Windows NT 10.0; Win64; x64) AppleWebKit/537.36 (KHTML, like Gecko) Chrome/121.0.0.0 Safari/537.36 Edg/121.0.0.0\",\n",
    "           \"Accept-Language\": 'en-US,en;q=0.9',\n",
    "           \"Accept-Encoding\": \"gzip, deflate, br, zstd\",\n",
    "           \"Referer\": \"https://tiki.vn/\",\n",
    "           \"From\": \"\",\n",
    "           \"af-ac-enc-dat\": \"\",\n",
    "           \"x-api-source\": \"pc\"}\n",
    "\n",
    "URL = \"https://tiki.vn/api/v2/reviews\"\n",
    "PARAMS = {\"limit\": 20, \"spid\": 271966792, \"product_id\": 184036446}\n",
    "\n",
    "feedback_data = []\n",
    "\n",
    "# Get the total number of pages\n",
    "response = requests.get(URL, headers=HEADERS, params=PARAMS)\n",
    "data = response.json()\n",
    "total_pages = data.get(\"paging\", {}).get(\"last_page\", 1)\n",
    "\n",
    "# Fetch data from each page\n",
    "for page in range(1, total_pages + 1):\n",
    "    PARAMS[\"page\"] = page\n",
    "    response = requests.get(URL, headers=HEADERS, params=PARAMS)\n",
    "    time.sleep(random.uniform(3.2, 8.7))\n",
    "    data = response.json()\n",
    "\n",
    "    stars = data.get(\"stars\", {})\n",
    "    OneStarCount = stars.get(\"1\", {}).get(\"count\", 0)\n",
    "    TwoStarCount = stars.get(\"2\", {}).get(\"count\", 0)\n",
    "    ThreeStarCount = stars.get(\"3\", {}).get(\"count\", 0)\n",
    "    FourStarCount = stars.get(\"4\", {}).get(\"count\", 0)\n",
    "    FiveStarCount = stars.get(\"5\", {}).get(\"count\", 0)\n",
    "    reviews_count = data.get(\"reviews_count\", 0)\n",
    "\n",
    "    review_data = data.get(\"data\", [])\n",
    "    for review in review_data:\n",
    "        review_id = review.get(\"id\")\n",
    "        review_title = review.get(\"title\")\n",
    "        review_content = review.get(\"content\")\n",
    "        review_upvote = review.get(\"thank_count\", 0)\n",
    "        review_rating = review.get(\"rating\")\n",
    "        review_created_at = review.get(\"created_at\")\n",
    "        reviewer = review.get(\"created_by\", {})\n",
    "        user_id = reviewer.get(\"id\")\n",
    "        username = reviewer.get(\"name\")\n",
    "        joined_time = reviewer.get(\"created_time\")\n",
    "        total_reviews = reviewer.get(\"contribute_info\", {}).get(\"summary\", {}).get(\"total_review\", 0)\n",
    "        total_upvotes = reviewer.get(\"contribute_info\", {}).get(\"summary\", {}).get(\"total_thank\", 0)\n",
    "        feedback_data.append([OneStarCount, TwoStarCount, ThreeStarCount, FourStarCount, FiveStarCount, reviews_count, review_id, review_title, review_content, review_upvote, review_rating, review_created_at, user_id, username, joined_time, total_reviews, total_upvotes])\n",
    "\n",
    "feedback_df = pd.DataFrame(feedback_data, columns=[\"OneStarCount\", \"TwoStarCount\", \"ThreeStarCount\", \"FourStarCount\", \"FiveStarCount\", \"reviews_count\", \"review_id\", \"review_title\", \"review_content\", \"review_upvote\", \"review_rating\", \"review_created_at\", \"user_id\", \"username\", \"joined_time\", \"total_reviews\", \"total_upvotes\"])"
   ]
  },
  {
   "cell_type": "code",
   "execution_count": 10,
   "metadata": {},
   "outputs": [],
   "source": [
    "feedback_df.to_csv(\"feedback.csv\", index=False, encoding=\"utf-8-sig\")"
   ]
  }
 ],
 "metadata": {
  "kernelspec": {
   "display_name": "Python 3",
   "language": "python",
   "name": "python3"
  },
  "language_info": {
   "codemirror_mode": {
    "name": "ipython",
    "version": 3
   },
   "file_extension": ".py",
   "mimetype": "text/x-python",
   "name": "python",
   "nbconvert_exporter": "python",
   "pygments_lexer": "ipython3",
   "version": "3.12.1"
  }
 },
 "nbformat": 4,
 "nbformat_minor": 2
}
