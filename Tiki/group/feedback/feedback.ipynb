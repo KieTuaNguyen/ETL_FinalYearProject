{
 "cells": [
  {
   "cell_type": "code",
   "execution_count": 1,
   "metadata": {},
   "outputs": [],
   "source": [
    "# Import libs\n",
    "import pandas as pd"
   ]
  },
  {
   "cell_type": "code",
   "execution_count": 2,
   "metadata": {},
   "outputs": [
    {
     "data": {
      "text/html": [
       "<div>\n",
       "<style scoped>\n",
       "    .dataframe tbody tr th:only-of-type {\n",
       "        vertical-align: middle;\n",
       "    }\n",
       "\n",
       "    .dataframe tbody tr th {\n",
       "        vertical-align: top;\n",
       "    }\n",
       "\n",
       "    .dataframe thead th {\n",
       "        text-align: right;\n",
       "    }\n",
       "</style>\n",
       "<table border=\"1\" class=\"dataframe\">\n",
       "  <thead>\n",
       "    <tr style=\"text-align: right;\">\n",
       "      <th></th>\n",
       "      <th>GeneralFeedbackID</th>\n",
       "      <th>Title</th>\n",
       "      <th>Content</th>\n",
       "      <th>Upvote</th>\n",
       "      <th>Rating</th>\n",
       "      <th>CreatedDate</th>\n",
       "      <th>UserID</th>\n",
       "      <th>ProductID</th>\n",
       "      <th>FeedbackDetailID</th>\n",
       "    </tr>\n",
       "  </thead>\n",
       "  <tbody>\n",
       "    <tr>\n",
       "      <th>0</th>\n",
       "      <td>19708302</td>\n",
       "      <td>Cực kì hài lòng</td>\n",
       "      <td>Đợt này mua tặng 2 cây trắng đen nhưng quên ch...</td>\n",
       "      <td>3</td>\n",
       "      <td>5</td>\n",
       "      <td>1704256818</td>\n",
       "      <td>5178168</td>\n",
       "      <td>184036446.0</td>\n",
       "      <td>1</td>\n",
       "    </tr>\n",
       "    <tr>\n",
       "      <th>1</th>\n",
       "      <td>19708307</td>\n",
       "      <td>Cực kì hài lòng</td>\n",
       "      <td>Đợt này mua tặng 2 cây trắng (giao từ Hanoi) đ...</td>\n",
       "      <td>2</td>\n",
       "      <td>5</td>\n",
       "      <td>1704256916</td>\n",
       "      <td>5178168</td>\n",
       "      <td>184059211.0</td>\n",
       "      <td>2</td>\n",
       "    </tr>\n",
       "    <tr>\n",
       "      <th>2</th>\n",
       "      <td>17356319</td>\n",
       "      <td>Cực kì hài lòng</td>\n",
       "      <td>5* cho máy còn nguyên seal, hàng chính hãng VN...</td>\n",
       "      <td>184</td>\n",
       "      <td>5</td>\n",
       "      <td>1660043992</td>\n",
       "      <td>945720</td>\n",
       "      <td>123345348.0</td>\n",
       "      <td>3</td>\n",
       "    </tr>\n",
       "    <tr>\n",
       "      <th>3</th>\n",
       "      <td>19694107</td>\n",
       "      <td>Rất không hài lòng</td>\n",
       "      <td>Mua xài mới có 1 ngày mà đã lỗi, có cuộc gọi t...</td>\n",
       "      <td>1</td>\n",
       "      <td>1</td>\n",
       "      <td>1703434010</td>\n",
       "      <td>15052027</td>\n",
       "      <td>197214029.0</td>\n",
       "      <td>4</td>\n",
       "    </tr>\n",
       "    <tr>\n",
       "      <th>4</th>\n",
       "      <td>18794713</td>\n",
       "      <td>Cực kì hài lòng</td>\n",
       "      <td>Chất lượng sản phẩm của Shop rất tốt đẹp full ...</td>\n",
       "      <td>20</td>\n",
       "      <td>5</td>\n",
       "      <td>1676287655</td>\n",
       "      <td>28830179</td>\n",
       "      <td>271966786.0</td>\n",
       "      <td>5</td>\n",
       "    </tr>\n",
       "  </tbody>\n",
       "</table>\n",
       "</div>"
      ],
      "text/plain": [
       "   GeneralFeedbackID               Title  \\\n",
       "0           19708302     Cực kì hài lòng   \n",
       "1           19708307     Cực kì hài lòng   \n",
       "2           17356319     Cực kì hài lòng   \n",
       "3           19694107  Rất không hài lòng   \n",
       "4           18794713     Cực kì hài lòng   \n",
       "\n",
       "                                             Content  Upvote  Rating  \\\n",
       "0  Đợt này mua tặng 2 cây trắng đen nhưng quên ch...       3       5   \n",
       "1  Đợt này mua tặng 2 cây trắng (giao từ Hanoi) đ...       2       5   \n",
       "2  5* cho máy còn nguyên seal, hàng chính hãng VN...     184       5   \n",
       "3  Mua xài mới có 1 ngày mà đã lỗi, có cuộc gọi t...       1       1   \n",
       "4  Chất lượng sản phẩm của Shop rất tốt đẹp full ...      20       5   \n",
       "\n",
       "   CreatedDate    UserID    ProductID  FeedbackDetailID  \n",
       "0   1704256818   5178168  184036446.0                 1  \n",
       "1   1704256916   5178168  184059211.0                 2  \n",
       "2   1660043992    945720  123345348.0                 3  \n",
       "3   1703434010  15052027  197214029.0                 4  \n",
       "4   1676287655  28830179  271966786.0                 5  "
      ]
     },
     "execution_count": 2,
     "metadata": {},
     "output_type": "execute_result"
    }
   ],
   "source": [
    "# Load data\n",
    "data = pd.read_csv('feedback_detail.csv')\n",
    "data = pd.DataFrame(data)\n",
    "data.head()"
   ]
  },
  {
   "cell_type": "code",
   "execution_count": 3,
   "metadata": {},
   "outputs": [],
   "source": [
    "# Drop columns\n",
    "data = data.drop(columns=['ProductID'])"
   ]
  },
  {
   "cell_type": "code",
   "execution_count": 4,
   "metadata": {},
   "outputs": [
    {
     "data": {
      "text/plain": [
       "Index(['GeneralFeedbackID', 'Title', 'Content', 'Upvote', 'Rating',\n",
       "       'CreatedDate', 'UserID', 'FeedbackDetailID'],\n",
       "      dtype='object')"
      ]
     },
     "execution_count": 4,
     "metadata": {},
     "output_type": "execute_result"
    }
   ],
   "source": [
    "data.columns"
   ]
  },
  {
   "cell_type": "code",
   "execution_count": 5,
   "metadata": {},
   "outputs": [
    {
     "data": {
      "text/plain": [
       "GeneralFeedbackID     int64\n",
       "Title                object\n",
       "Content              object\n",
       "Upvote                int64\n",
       "Rating                int64\n",
       "CreatedDate           int64\n",
       "UserID                int64\n",
       "FeedbackDetailID      int64\n",
       "dtype: object"
      ]
     },
     "execution_count": 5,
     "metadata": {},
     "output_type": "execute_result"
    }
   ],
   "source": [
    "# Check the datatype\n",
    "data.dtypes"
   ]
  },
  {
   "cell_type": "code",
   "execution_count": 6,
   "metadata": {},
   "outputs": [],
   "source": [
    "def categorize_feedback(feedback):\n",
    "    if isinstance(feedback, str):\n",
    "        product_keywords = ['sản phẩm', 'máy', 'hàng', 'chất lượng']\n",
    "        service_keywords = ['giao hàng', 'đóng gói', 'shipper', 'shop']\n",
    "        \n",
    "        if any(keyword in feedback.lower() for keyword in product_keywords):\n",
    "            return 'Product'\n",
    "        elif any(keyword in feedback.lower() for keyword in service_keywords):\n",
    "            return 'Service'\n",
    "        else:\n",
    "            return 'Unknown'\n",
    "    else:\n",
    "        return 'Unknown'\n",
    "\n",
    "data['Category'] = data['Content'].apply(categorize_feedback)"
   ]
  },
  {
   "cell_type": "code",
   "execution_count": 7,
   "metadata": {},
   "outputs": [
    {
     "name": "stdout",
     "output_type": "stream",
     "text": [
      "Feedback counts by category:\n",
      "Category\n",
      "Unknown    6236\n",
      "Product    2559\n",
      "Service      79\n",
      "Name: count, dtype: int64\n"
     ]
    }
   ],
   "source": [
    "category_counts = data['Category'].value_counts()\n",
    "print(\"Feedback counts by category:\")\n",
    "print(category_counts)"
   ]
  },
  {
   "cell_type": "code",
   "execution_count": 9,
   "metadata": {},
   "outputs": [],
   "source": [
    "from textblob import TextBlob\n",
    "\n",
    "def analyze_sentiment(feedback):\n",
    "    if isinstance(feedback, str):\n",
    "        analysis = TextBlob(feedback)\n",
    "        if analysis.sentiment.polarity > 0:\n",
    "            return 'Positive'\n",
    "        elif analysis.sentiment.polarity < 0:\n",
    "            return 'Negative'\n",
    "        else:\n",
    "            return 'Neutral'\n",
    "    else:\n",
    "        return 'Unknown'\n",
    "\n",
    "data['Sentiment'] = data['Content'].apply(analyze_sentiment)"
   ]
  },
  {
   "cell_type": "code",
   "execution_count": 10,
   "metadata": {},
   "outputs": [
    {
     "name": "stdout",
     "output_type": "stream",
     "text": [
      "Product feedback sentiment counts:\n",
      "Sentiment\n",
      "Neutral     2123\n",
      "Positive     347\n",
      "Negative      89\n",
      "Name: count, dtype: int64\n",
      "\n",
      "Service feedback sentiment counts:\n",
      "Sentiment\n",
      "Neutral     69\n",
      "Positive     8\n",
      "Negative     2\n",
      "Name: count, dtype: int64\n"
     ]
    }
   ],
   "source": [
    "print(\"Product feedback sentiment counts:\")\n",
    "print(data[data['Category'] == 'Product']['Sentiment'].value_counts())\n",
    "\n",
    "print(\"\\nService feedback sentiment counts:\")\n",
    "print(data[data['Category'] == 'Service']['Sentiment'].value_counts())"
   ]
  },
  {
   "cell_type": "code",
   "execution_count": 19,
   "metadata": {},
   "outputs": [
    {
     "name": "stderr",
     "output_type": "stream",
     "text": [
      "[nltk_data] Downloading package punkt to\n",
      "[nltk_data]     C:\\Users\\kietd\\AppData\\Roaming\\nltk_data...\n",
      "[nltk_data]   Package punkt is already up-to-date!\n",
      "c:\\Users\\kietd\\AppData\\Local\\Programs\\Python\\Python312\\Lib\\site-packages\\sumy\\summarizers\\lsa.py:76: UserWarning: Number of words (2369) is lower than number of sentences (2864). LSA algorithm may not work properly.\n",
      "  warn(message % (words_count, sentences_count))\n"
     ]
    },
    {
     "name": "stdout",
     "output_type": "stream",
     "text": [
      "Product feedback summary:\n",
      "sản phẩm giống quảng cáo, giao hàng nhanh đúng hẹn, máy hoạt động tốt, không gặp vấn đề gì, nhưng lúc bóc seal xong phát hiện có một vết xước nhẹ trên tay thỏ gần loa thoại chưa biết lý do, nên cho 3 sao thôi nhé. Hình chụp trăng ngoài cửa sổ sau 6 tháng dùng máy Tiki giao hàng nhanh, đóng gói cẩn thận, mình dùng được tuần rồi cũng chưa thấy vấn đề gì Tốt, sản phẩm chính hãng, có kích hoạt bảo ngay ngay mua thành công điện thoại chính hãng, và còn nguyên seal, mua vì cái form máy bo tròn mềm mại dễ bỏ túi chứ chức năng thì cũng k khác gì đời 12 và 13 Độ phân giải của điện thoại này rất tệ. -  Màn hinh iPhone 15 Pro Max có kích thước lớn, sử dụng công nghệ  Super Retina XDR cùng độ phân giải cao, mang tới chất lượng hình ảnh hiển thị sắc nét, chân thực và sống động.\n",
      "\n",
      "Service feedback summary:\n",
      "Mình mua không ngay sale, nhưng được voucher giảm 1,5tr thanh qua ví moca, và app shopback hoàn tiền thì giá cũng khá ổn so với ngoài store, và có được màu mình thích, chứ ngoài store hết màu liên tục và giá cao hơn Giao nhanh trong ngày, đóng gói siêu siêu cẩn thận, highly recommend khi mua đồ điện tử giá trị cao trên Tiki 💙💙💙 Giao nhanh, đóng gói cẩn thận, team seal nguyên vẹn Mình mua đợt 12/12 đc giảm giá còn đc áp coupon và khuyến mãi hoàn 3 triệu từ thẻ Sacombank-Tiki nữa 🥰🥰 Đt dùng mượt mà, nay nhận được tbao hoàn tiền từ shopback 700k nữa hihi. Làm ăn kém quá Hỗ trợ nhanh chóng, đóng gói cần thận, nhận được nhiều ưu đãi hấp dẫn Đóng gói cẩn thận, giao đúng hạn Mua xong mới phát hiện có nút homenicator 😁 vẫn chưa phải nhận dạng khuôn mặt ko full màn hình 😁 so với Gen 10 thì Gen 10 ok hơn Ship nhanh thật lợi hại Good, đóng gói cẩn thận, nguyên seal, bảo hành đến tháng 11/2023 Đánh giá 1 sao vì shipper quá bố láo.\n"
     ]
    }
   ],
   "source": [
    "import nltk\n",
    "from sumy.parsers.plaintext import PlaintextParser\n",
    "from sumy.nlp.tokenizers import Tokenizer\n",
    "from sumy.summarizers.lsa import LsaSummarizer\n",
    "\n",
    "def generate_summary(feedback):\n",
    "    parser = PlaintextParser.from_string(feedback, Tokenizer(\"english\"))\n",
    "    summarizer = LsaSummarizer()\n",
    "    summary = summarizer(parser.document, 3)  # Generate 3 sentence summary\n",
    "    return ' '.join(str(sentence) for sentence in summary)\n",
    "\n",
    "product_feedback = ' '.join(data[data['Category'] == 'Product']['Content'])\n",
    "product_summary = generate_summary(product_feedback)\n",
    "\n",
    "service_feedback = ' '.join(data[data['Category'] == 'Service']['Content'])\n",
    "service_summary = generate_summary(service_feedback)\n",
    "\n",
    "print(\"Product feedback summary:\")\n",
    "print(product_summary)\n",
    "\n",
    "print(\"\\nService feedback summary:\")\n",
    "print(service_summary)"
   ]
  }
 ],
 "metadata": {
  "kernelspec": {
   "display_name": "Python 3",
   "language": "python",
   "name": "python3"
  },
  "language_info": {
   "codemirror_mode": {
    "name": "ipython",
    "version": 3
   },
   "file_extension": ".py",
   "mimetype": "text/x-python",
   "name": "python",
   "nbconvert_exporter": "python",
   "pygments_lexer": "ipython3",
   "version": "3.12.1"
  }
 },
 "nbformat": 4,
 "nbformat_minor": 2
}
