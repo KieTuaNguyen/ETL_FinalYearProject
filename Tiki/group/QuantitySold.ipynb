{
 "cells": [
  {
   "cell_type": "code",
   "execution_count": 1,
   "metadata": {},
   "outputs": [],
   "source": [
    "import pandas as pd\n",
    "import requests\n",
    "import time"
   ]
  },
  {
   "cell_type": "code",
   "execution_count": 2,
   "metadata": {},
   "outputs": [],
   "source": [
    "HEADERS = {\n",
    "    \"User-Agent\": \"Mozilla/5.0 (Windows NT 10.0; Win64; x64) AppleWebKit/537.36 (KHTML, like Gecko) Chrome/121.0.0.0 Safari/537.36 Edg/121.0.0.0\",\n",
    "    \"Accept-Language\": 'en-US,en;q=0.9',\n",
    "    \"Accept-Encoding\": \"gzip, deflate, br, zstd\",\n",
    "    \"Referer\": \"https://tiki.vn/\",\n",
    "    \"From\": \"\",\n",
    "    \"af-ac-enc-dat\": \"\",\n",
    "    \"x-api-source\": \"pc\"\n",
    "}"
   ]
  },
  {
   "cell_type": "code",
   "execution_count": 3,
   "metadata": {},
   "outputs": [],
   "source": [
    "URL = \"https://api.tiki.vn/raiden/v2/menu-config?platform=desktop\""
   ]
  },
  {
   "cell_type": "code",
   "execution_count": 4,
   "metadata": {},
   "outputs": [],
   "source": [
    "response = requests.get(URL, headers=HEADERS)\n",
    "data = response.json()"
   ]
  },
  {
   "cell_type": "code",
   "execution_count": 5,
   "metadata": {},
   "outputs": [],
   "source": [
    "groups = data[\"menu_block\"][\"items\"]\n",
    "group_list = []\n",
    "\n",
    "for group in groups:\n",
    "    text = group[\"text\"]\n",
    "    link = group[\"link\"]\n",
    "    # Extract category ID from the link\n",
    "    group_id = link.split(\"/\")[-1][1:]  \n",
    "    group_list.append([group_id, text])\n",
    "\n",
    "group_df = pd.DataFrame(group_list, columns=[\"Group_ID\", \"Group_Name\"])"
   ]
  },
  {
   "cell_type": "code",
   "execution_count": 6,
   "metadata": {},
   "outputs": [],
   "source": [
    "URL = \"https://tiki.vn/api/personalish/v1/blocks/listings\""
   ]
  },
  {
   "cell_type": "code",
   "execution_count": 7,
   "metadata": {},
   "outputs": [],
   "source": [
    "def fetch_total_units_sold(group_id, page):\n",
    "    PARAMS = {\"category\": group_id, \"page\": page}\n",
    "    response = requests.get(URL, headers=HEADERS, params=PARAMS)\n",
    "    data = response.json()\n",
    "\n",
    "    total_units_sold = 0\n",
    "\n",
    "    if 'data' in data:\n",
    "        # Iterate through the data list\n",
    "        for item in data['data']:\n",
    "            if 'quantity_sold' in item and isinstance(item['quantity_sold'], dict) and 'value' in item['quantity_sold']:\n",
    "                # Add the 'value' to the total units sold\n",
    "                total_units_sold += item['quantity_sold']['value']\n",
    "\n",
    "    return total_units_sold"
   ]
  },
  {
   "cell_type": "code",
   "execution_count": 8,
   "metadata": {},
   "outputs": [
    {
     "name": "stdout",
     "output_type": "stream",
     "text": [
      "Total units sold for ID:8322 - Nhà Sách Tiki: 5995718\n",
      "Total units sold for ID:1883 - Nhà Cửa - Đời Sống: 1592658\n",
      "Total units sold for ID:1789 - Điện Thoại - Máy Tính Bảng: 60164\n",
      "Total units sold for ID:2549 - Đồ Chơi - Mẹ & Bé: 2575949\n",
      "Total units sold for ID:1815 - Thiết Bị Số - Phụ Kiện Số: 661903\n",
      "Total units sold for ID:1882 - Điện Gia Dụng: 868028\n",
      "Total units sold for ID:1520 - Làm Đẹp - Sức Khỏe: 2678523\n",
      "Total units sold for ID:8594 - Ô Tô - Xe Máy - Xe Đạp: 244510\n",
      "Total units sold for ID:931 - Thời trang nữ: 170353\n",
      "Total units sold for ID:4384 - Bách Hóa Online: 2372692\n",
      "Total units sold for ID:1975 - Thể Thao - Dã Ngoại: 374503\n",
      "Total units sold for ID:915 - Thời trang nam: 304324\n",
      "Total units sold for ID:17166 - Cross Border - Hàng Quốc Tế: 10227\n",
      "Total units sold for ID:1846 - Laptop - Máy Vi Tính - Linh kiện: 252823\n",
      "Total units sold for ID:1686 - Giày - Dép nam: 81204\n",
      "Total units sold for ID:4221 - Điện Tử - Điện Lạnh: 41730\n",
      "Total units sold for ID:1703 - Giày - Dép nữ: 96948\n",
      "Total units sold for ID:1801 - Máy Ảnh - Máy Quay Phim: 159005\n",
      "Total units sold for ID:27498 - Phụ kiện thời trang: 199012\n",
      "Total units sold for ID:44792 - NGON: 193348\n",
      "Total units sold for ID:8371 - Đồng hồ và Trang sức: 68457\n",
      "Total units sold for ID:6000 - Balo và Vali: 150404\n",
      "Total units sold for ID:11312 - Voucher - Dịch vụ: 5094491\n",
      "Total units sold for ID:976 - Túi thời trang nữ: 34794\n",
      "Total units sold for ID:27616 - Túi thời trang nam: 89163\n"
     ]
    }
   ],
   "source": [
    "# Iterate over groups to get total units sold\n",
    "for _, row in group_df.iterrows():\n",
    "    group_id = row[\"Group_ID\"]\n",
    "    group_name = row[\"Group_Name\"]\n",
    "    \n",
    "    total_units_sold = 0\n",
    "\n",
    "    # Fetch total number of items for the current group \n",
    "    PARAMS = {\"category\": group_id, \"page\": 1}\n",
    "    response = requests.get(URL, headers=HEADERS, params=PARAMS)\n",
    "    data = response.json()\n",
    "    last_page = data.get(\"paging\", {}).get(\"last_page\", 1)\n",
    "\n",
    "    for page in range(1, last_page + 1):\n",
    "        total_units_sold += fetch_total_units_sold(group_id, page)\n",
    "        time.sleep(3)\n",
    "\n",
    "    print(f\"Total units sold for ID:{group_id} - {group_name}: {total_units_sold}\")"
   ]
  },
  {
   "cell_type": "markdown",
   "metadata": {},
   "source": [
    "Based on the data of total units sold for product categories, here's some analysis:\n",
    "\n",
    "- **Insights on High Performing Categories**: Identify and highlight categories with significantly high sales numbers. \n",
    "Categories like **Nhà Sách Tiki** and **Đồ Chơi - Mẹ & Bé** stand out with remarkably high total units sold, indicating strong consumer demand and market presence. **Nhà Sách Tiki** has sold a total of **5,995,718** units, while **Đồ Chơi - Mẹ & Bé** has sold 2,575,949 units.\n",
    "\n",
    "\n",
    "- **Identify Low Performing Categories**: Highlight categories with relatively low sales numbers. \n",
    "**Cross Border - Hàng Quốc Tế** and **Điện Tử - Điện Lạnh** have significantly lower sales compared to other categories, indicating potential areas for improvement or strategic focus.\n"
   ]
  }
 ],
 "metadata": {
  "kernelspec": {
   "display_name": "Python 3",
   "language": "python",
   "name": "python3"
  },
  "language_info": {
   "codemirror_mode": {
    "name": "ipython",
    "version": 3
   },
   "file_extension": ".py",
   "mimetype": "text/x-python",
   "name": "python",
   "nbconvert_exporter": "python",
   "pygments_lexer": "ipython3",
   "version": "3.12.1"
  }
 },
 "nbformat": 4,
 "nbformat_minor": 2
}
