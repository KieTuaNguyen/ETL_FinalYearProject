{
 "cells": [
  {
   "cell_type": "code",
   "execution_count": 11,
   "metadata": {},
   "outputs": [],
   "source": [
    "import pandas as pd\n",
    "import requests\n",
    "import time"
   ]
  },
  {
   "cell_type": "code",
   "execution_count": 12,
   "metadata": {},
   "outputs": [],
   "source": [
    "HEADERS = {\n",
    "    \"User-Agent\": \"Mozilla/5.0 (Windows NT 10.0; Win64; x64) AppleWebKit/537.36 (KHTML, like Gecko) Chrome/121.0.0.0 Safari/537.36 Edg/121.0.0.0\",\n",
    "    \"Accept-Language\": 'en-US,en;q=0.9',\n",
    "    \"Accept-Encoding\": \"gzip, deflate, br, zstd\",\n",
    "    \"Referer\": \"https://tiki.vn/\",\n",
    "    \"From\": \"\",\n",
    "    \"af-ac-enc-dat\": \"\",\n",
    "    \"x-api-source\": \"pc\"\n",
    "}"
   ]
  },
  {
   "cell_type": "code",
   "execution_count": 13,
   "metadata": {},
   "outputs": [],
   "source": [
    "URL = \"https://api.tiki.vn/raiden/v2/menu-config?platform=desktop\""
   ]
  },
  {
   "cell_type": "code",
   "execution_count": 14,
   "metadata": {},
   "outputs": [],
   "source": [
    "response = requests.get(URL, headers=HEADERS)\n",
    "data = response.json()"
   ]
  },
  {
   "cell_type": "code",
   "execution_count": 19,
   "metadata": {},
   "outputs": [
    {
     "name": "stdout",
     "output_type": "stream",
     "text": [
      "Empty DataFrame\n",
      "Columns: [Group_ID, Group_Name]\n",
      "Index: []\n"
     ]
    }
   ],
   "source": [
    "groups = data[\"menu_block\"][\"items\"]\n",
    "group_list = []\n",
    "\n",
    "for group in groups:\n",
    "    text = group[\"text\"]\n",
    "    link = group[\"link\"]\n",
    "    # Extract category ID from the link\n",
    "    group_id = link.split(\"/\")[-1][1:]  \n",
    "    group_list.append([group_id, text])\n",
    "\n",
    "group_df = pd.DataFrame(group_list, columns=[\"Group_ID\", \"Group_Name\"])\n",
    "filtered_df = group_df[group_df['Group_ID'].isin([8322, 17166])]\n",
    "\n",
    "# Print filtered_df to verify the result\n",
    "print(filtered_df)\n"
   ]
  },
  {
   "cell_type": "markdown",
   "metadata": {},
   "source": [
    "### Choosing the Group ID: 8322 and 17166"
   ]
  },
  {
   "cell_type": "code",
   "execution_count": 18,
   "metadata": {},
   "outputs": [
    {
     "data": {
      "text/html": [
       "<div>\n",
       "<style scoped>\n",
       "    .dataframe tbody tr th:only-of-type {\n",
       "        vertical-align: middle;\n",
       "    }\n",
       "\n",
       "    .dataframe tbody tr th {\n",
       "        vertical-align: top;\n",
       "    }\n",
       "\n",
       "    .dataframe thead th {\n",
       "        text-align: right;\n",
       "    }\n",
       "</style>\n",
       "<table border=\"1\" class=\"dataframe\">\n",
       "  <thead>\n",
       "    <tr style=\"text-align: right;\">\n",
       "      <th></th>\n",
       "      <th>Group_ID</th>\n",
       "      <th>Group_Name</th>\n",
       "    </tr>\n",
       "  </thead>\n",
       "  <tbody>\n",
       "  </tbody>\n",
       "</table>\n",
       "</div>"
      ],
      "text/plain": [
       "Empty DataFrame\n",
       "Columns: [Group_ID, Group_Name]\n",
       "Index: []"
      ]
     },
     "execution_count": 18,
     "metadata": {},
     "output_type": "execute_result"
    }
   ],
   "source": [
    "# Filtering 8322 and 17166 \n",
    "filtered_df = group_df[group_df['Group_ID'].isin([8322, 17166])]\n",
    "filtered_df"
   ]
  },
  {
   "cell_type": "code",
   "execution_count": 17,
   "metadata": {},
   "outputs": [
    {
     "ename": "KeyError",
     "evalue": "'Name'",
     "output_type": "error",
     "traceback": [
      "\u001b[1;31m---------------------------------------------------------------------------\u001b[0m",
      "\u001b[1;31mKeyError\u001b[0m                                  Traceback (most recent call last)",
      "File \u001b[1;32mc:\\Users\\kietd\\AppData\\Local\\Programs\\Python\\Python312\\Lib\\site-packages\\pandas\\core\\indexes\\base.py:3802\u001b[0m, in \u001b[0;36mIndex.get_loc\u001b[1;34m(self, key)\u001b[0m\n\u001b[0;32m   3801\u001b[0m \u001b[38;5;28;01mtry\u001b[39;00m:\n\u001b[1;32m-> 3802\u001b[0m     \u001b[38;5;28;01mreturn\u001b[39;00m \u001b[38;5;28;43mself\u001b[39;49m\u001b[38;5;241;43m.\u001b[39;49m\u001b[43m_engine\u001b[49m\u001b[38;5;241;43m.\u001b[39;49m\u001b[43mget_loc\u001b[49m\u001b[43m(\u001b[49m\u001b[43mcasted_key\u001b[49m\u001b[43m)\u001b[49m\n\u001b[0;32m   3803\u001b[0m \u001b[38;5;28;01mexcept\u001b[39;00m \u001b[38;5;167;01mKeyError\u001b[39;00m \u001b[38;5;28;01mas\u001b[39;00m err:\n",
      "File \u001b[1;32mindex.pyx:153\u001b[0m, in \u001b[0;36mpandas._libs.index.IndexEngine.get_loc\u001b[1;34m()\u001b[0m\n",
      "File \u001b[1;32mindex.pyx:182\u001b[0m, in \u001b[0;36mpandas._libs.index.IndexEngine.get_loc\u001b[1;34m()\u001b[0m\n",
      "File \u001b[1;32mpandas\\\\_libs\\\\hashtable_class_helper.pxi:7081\u001b[0m, in \u001b[0;36mpandas._libs.hashtable.PyObjectHashTable.get_item\u001b[1;34m()\u001b[0m\n",
      "File \u001b[1;32mpandas\\\\_libs\\\\hashtable_class_helper.pxi:7089\u001b[0m, in \u001b[0;36mpandas._libs.hashtable.PyObjectHashTable.get_item\u001b[1;34m()\u001b[0m\n",
      "\u001b[1;31mKeyError\u001b[0m: 'Name'",
      "\nThe above exception was the direct cause of the following exception:\n",
      "\u001b[1;31mKeyError\u001b[0m                                  Traceback (most recent call last)",
      "Cell \u001b[1;32mIn[17], line 18\u001b[0m\n\u001b[0;32m     15\u001b[0m parent_name \u001b[38;5;241m=\u001b[39m parent_category[\u001b[38;5;124m\"\u001b[39m\u001b[38;5;124mname\u001b[39m\u001b[38;5;124m\"\u001b[39m]\n\u001b[0;32m     17\u001b[0m \u001b[38;5;66;03m# Get group name \u001b[39;00m\n\u001b[1;32m---> 18\u001b[0m group_name \u001b[38;5;241m=\u001b[39m \u001b[43mgroup_df\u001b[49m\u001b[43m[\u001b[49m\u001b[43mgroup_df\u001b[49m\u001b[43m[\u001b[49m\u001b[38;5;124;43m\"\u001b[39;49m\u001b[38;5;124;43mGroup_ID\u001b[39;49m\u001b[38;5;124;43m\"\u001b[39;49m\u001b[43m]\u001b[49m\u001b[43m \u001b[49m\u001b[38;5;241;43m==\u001b[39;49m\u001b[43m \u001b[49m\u001b[43mgroup_id\u001b[49m\u001b[43m]\u001b[49m\u001b[43m[\u001b[49m\u001b[38;5;124;43m\"\u001b[39;49m\u001b[38;5;124;43mName\u001b[39;49m\u001b[38;5;124;43m\"\u001b[39;49m\u001b[43m]\u001b[49m\u001b[38;5;241m.\u001b[39mitem()\n\u001b[0;32m     20\u001b[0m parent_category_list\u001b[38;5;241m.\u001b[39mappend([group_id, group_name, parent_id, parent_name])\n\u001b[0;32m     22\u001b[0m \u001b[38;5;66;03m# Now fetch child categories\u001b[39;00m\n",
      "File \u001b[1;32mc:\\Users\\kietd\\AppData\\Local\\Programs\\Python\\Python312\\Lib\\site-packages\\pandas\\core\\frame.py:4090\u001b[0m, in \u001b[0;36mDataFrame.__getitem__\u001b[1;34m(self, key)\u001b[0m\n\u001b[0;32m   4088\u001b[0m \u001b[38;5;28;01mif\u001b[39;00m \u001b[38;5;28mself\u001b[39m\u001b[38;5;241m.\u001b[39mcolumns\u001b[38;5;241m.\u001b[39mnlevels \u001b[38;5;241m>\u001b[39m \u001b[38;5;241m1\u001b[39m:\n\u001b[0;32m   4089\u001b[0m     \u001b[38;5;28;01mreturn\u001b[39;00m \u001b[38;5;28mself\u001b[39m\u001b[38;5;241m.\u001b[39m_getitem_multilevel(key)\n\u001b[1;32m-> 4090\u001b[0m indexer \u001b[38;5;241m=\u001b[39m \u001b[38;5;28;43mself\u001b[39;49m\u001b[38;5;241;43m.\u001b[39;49m\u001b[43mcolumns\u001b[49m\u001b[38;5;241;43m.\u001b[39;49m\u001b[43mget_loc\u001b[49m\u001b[43m(\u001b[49m\u001b[43mkey\u001b[49m\u001b[43m)\u001b[49m\n\u001b[0;32m   4091\u001b[0m \u001b[38;5;28;01mif\u001b[39;00m is_integer(indexer):\n\u001b[0;32m   4092\u001b[0m     indexer \u001b[38;5;241m=\u001b[39m [indexer]\n",
      "File \u001b[1;32mc:\\Users\\kietd\\AppData\\Local\\Programs\\Python\\Python312\\Lib\\site-packages\\pandas\\core\\indexes\\base.py:3809\u001b[0m, in \u001b[0;36mIndex.get_loc\u001b[1;34m(self, key)\u001b[0m\n\u001b[0;32m   3804\u001b[0m     \u001b[38;5;28;01mif\u001b[39;00m \u001b[38;5;28misinstance\u001b[39m(casted_key, \u001b[38;5;28mslice\u001b[39m) \u001b[38;5;129;01mor\u001b[39;00m (\n\u001b[0;32m   3805\u001b[0m         \u001b[38;5;28misinstance\u001b[39m(casted_key, abc\u001b[38;5;241m.\u001b[39mIterable)\n\u001b[0;32m   3806\u001b[0m         \u001b[38;5;129;01mand\u001b[39;00m \u001b[38;5;28many\u001b[39m(\u001b[38;5;28misinstance\u001b[39m(x, \u001b[38;5;28mslice\u001b[39m) \u001b[38;5;28;01mfor\u001b[39;00m x \u001b[38;5;129;01min\u001b[39;00m casted_key)\n\u001b[0;32m   3807\u001b[0m     ):\n\u001b[0;32m   3808\u001b[0m         \u001b[38;5;28;01mraise\u001b[39;00m InvalidIndexError(key)\n\u001b[1;32m-> 3809\u001b[0m     \u001b[38;5;28;01mraise\u001b[39;00m \u001b[38;5;167;01mKeyError\u001b[39;00m(key) \u001b[38;5;28;01mfrom\u001b[39;00m \u001b[38;5;21;01merr\u001b[39;00m\n\u001b[0;32m   3810\u001b[0m \u001b[38;5;28;01mexcept\u001b[39;00m \u001b[38;5;167;01mTypeError\u001b[39;00m:\n\u001b[0;32m   3811\u001b[0m     \u001b[38;5;66;03m# If we have a listlike key, _check_indexing_error will raise\u001b[39;00m\n\u001b[0;32m   3812\u001b[0m     \u001b[38;5;66;03m#  InvalidIndexError. Otherwise we fall through and re-raise\u001b[39;00m\n\u001b[0;32m   3813\u001b[0m     \u001b[38;5;66;03m#  the TypeError.\u001b[39;00m\n\u001b[0;32m   3814\u001b[0m     \u001b[38;5;28mself\u001b[39m\u001b[38;5;241m.\u001b[39m_check_indexing_error(key)\n",
      "\u001b[1;31mKeyError\u001b[0m: 'Name'"
     ]
    }
   ],
   "source": [
    "parent_category_list = []\n",
    "child_category_list = []\n",
    "\n",
    "for group_id in group_df[\"Group_ID\"]:\n",
    "    parent_url = f\"https://tiki.vn/api/v2/categories?parent_id={group_id}\"   \n",
    "    parent_response = requests.get(parent_url, headers=HEADERS)\n",
    "    \n",
    "    if parent_response.status_code == 200:\n",
    "        parent_data = parent_response.json()\n",
    "        if not parent_data[\"data\"]:\n",
    "            parent_category_list.append([group_id, group_df[group_df[\"Group_ID\"] == group_id][\"Name\"].item(), None, None])\n",
    "        else:\n",
    "            for parent_category in parent_data[\"data\"]:\n",
    "                parent_id = parent_category[\"id\"]\n",
    "                parent_name = parent_category[\"name\"]\n",
    "                \n",
    "                # Get group name \n",
    "                group_name = group_df[group_df[\"Group_ID\"] == group_id][\"Name\"].item()\n",
    "                \n",
    "                parent_category_list.append([group_id, group_name, parent_id, parent_name])\n",
    "                \n",
    "                # Now fetch child categories\n",
    "                child_url = f\"https://tiki.vn/api/v2/categories?parent_id={parent_id}\" \n",
    "                child_response = requests.get(child_url, headers=HEADERS)\n",
    "                \n",
    "                if child_response.status_code == 200:\n",
    "                    child_data = child_response.json()\n",
    "                    if not child_data[\"data\"]:\n",
    "                        child_category_list.append([group_id, group_name, parent_id, parent_name, None, None])\n",
    "                    else:\n",
    "                        for child_category in child_data[\"data\"]:\n",
    "                            child_id = child_category[\"id\"]\n",
    "                            child_name = child_category[\"name\"]\n",
    "                            \n",
    "                            child_category_list.append([group_id, group_name, parent_id, parent_name, child_id, child_name])\n",
    "\n",
    "parent_category = pd.DataFrame(parent_category_list, columns=[\"Group_ID\", \"Group_Name\", \"Parent_ID\", \"Parent_Name\"])\n",
    "child_category = pd.DataFrame(child_category_list, columns=[\"Group_ID\", \"Group_Name\", \"Parent_ID\", \"Parent_Name\", \"Child_ID\", \"Child_Name\"])"
   ]
  },
  {
   "cell_type": "code",
   "execution_count": null,
   "metadata": {},
   "outputs": [
    {
     "name": "stdout",
     "output_type": "stream",
     "text": [
      "    Group_ID                   Group_Name\n",
      "0       8322                Nhà Sách Tiki\n",
      "12     17166  Cross Border - Hàng Quốc Tế\n"
     ]
    }
   ],
   "source": [
    "import pandas as pd\n",
    "\n",
    "# Assuming you already have group_df\n",
    "\n",
    "# Create DataFrame from the given data\n",
    "data = {\n",
    "    'Group_ID': [8322, 1883, 1789, 2549, 1815, 1882, 1520, 8594, 931, 4384, \n",
    "                 1975, 915, 17166, 1846, 1686, 4221, 1703, 1801, 27498, \n",
    "                 44792, 8371, 6000, 11312, 976, 27616],\n",
    "    'Group_Name': ['Nhà Sách Tiki', 'Nhà Cửa - Đời Sống', 'Điện Thoại - Máy Tính Bảng', \n",
    "                   'Đồ Chơi - Mẹ & Bé', 'Thiết Bị Số - Phụ Kiện Số', 'Điện Gia Dụng', \n",
    "                   'Làm Đẹp - Sức Khỏe', 'Ô Tô - Xe Máy - Xe Đạp', 'Thời trang nữ', \n",
    "                   'Bách Hóa Online', 'Thể Thao - Dã Ngoại', 'Thời trang nam', \n",
    "                   'Cross Border - Hàng Quốc Tế', 'Laptop - Máy Vi Tính - Linh kiện', \n",
    "                   'Giày - Dép nam', 'Điện Tử - Điện Lạnh', 'Giày - Dép nữ', \n",
    "                   'Máy Ảnh - Máy Quay Phim', 'Phụ kiện thời trang', 'NGON', \n",
    "                   'Đồng hồ và Trang sức', 'Balo và Vali', 'Voucher - Dịch vụ', \n",
    "                   'Túi thời trang nữ', 'Túi thời trang nam']\n",
    "}\n",
    "\n",
    "group_df = pd.DataFrame(data)\n",
    "\n",
    "# Select rows with Group_ID 8322 and 17166\n",
    "filtered_df = group_df[group_df['Group_ID'].isin([8322, 17166])]\n",
    "\n",
    "# Print filtered_df to verify the result\n",
    "print(filtered_df[['Group_ID', 'Group_Name']])\n"
   ]
  }
 ],
 "metadata": {
  "kernelspec": {
   "display_name": "Python 3",
   "language": "python",
   "name": "python3"
  },
  "language_info": {
   "codemirror_mode": {
    "name": "ipython",
    "version": 3
   },
   "file_extension": ".py",
   "mimetype": "text/x-python",
   "name": "python",
   "nbconvert_exporter": "python",
   "pygments_lexer": "ipython3",
   "version": "3.12.1"
  }
 },
 "nbformat": 4,
 "nbformat_minor": 2
}
