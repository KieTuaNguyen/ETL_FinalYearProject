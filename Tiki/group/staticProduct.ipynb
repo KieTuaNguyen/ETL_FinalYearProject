{
 "cells": [
  {
   "cell_type": "code",
   "execution_count": 9,
   "metadata": {},
   "outputs": [],
   "source": [
    "import pandas as pd\n",
    "import requests\n",
    "import random\n",
    "import time\n",
    "\n",
    "HEADERS = {\n",
    "    \"User-Agent\": \"Mozilla/5.0 (Windows NT 10.0; Win64; x64) AppleWebKit/537.36 (KHTML, like Gecko) Chrome/121.0.0.0 Safari/537.36 Edg/121.0.0.0\",\n",
    "    \"Accept-Language\": 'en-US,en;q=0.9',\n",
    "    \"Accept-Encoding\": \"gzip, deflate, br, zstd\",\n",
    "    \"Referer\": \"https://tiki.vn/\",\n",
    "    \"From\": \"\",\n",
    "    \"af-ac-enc-dat\": \"\",\n",
    "    \"x-api-source\": \"pc\"\n",
    "}\n",
    "\n",
    "product_id = 247867291\n",
    "\n",
    "URL = f\"https://tiki.vn/api/v2/products/{product_id}\"\n",
    "PARAMS = {\n",
    "}\n",
    "\n",
    "response = requests.get(URL, headers=HEADERS, params=PARAMS)\n",
    "data = response.json()\n",
    "\n",
    "product_data = {\n",
    "    'product_id': data['id'],\n",
    "    'product_name': data['name'],\n",
    "    'product_url': data['short_url'],\n",
    "    'pricing_current': data.get('price', 0),  # Use get() method to handle missing key\n",
    "    'pricing_original': data.get('original_price', 0),  # Use get() method to handle missing key\n",
    "    'product_image_url': data['thumbnail_url'],\n",
    "    'inventory_status': data['inventory_status'],\n",
    "    'inventory_type': data['inventory_type'],\n",
    "    'created_date': data.get('day_ago_created', 0),  # Use get() method to handle missing key\n",
    "    'quantity_sold': data.get('all_time_quantity_sold', 0),  # Use get() method to handle missing key\n",
    "    'brand_id': data['brand']['id'],\n",
    "    'brand_name': data['brand']['name'],\n",
    "    'brand_slug': data['brand']['slug'],\n",
    "    'seller_id': data['current_seller']['id'],\n",
    "    'seller_name': data['current_seller']['name'],\n",
    "    'seller_link': data['current_seller']['link'],\n",
    "    'seller_image_url': data['current_seller']['logo']\n",
    "}\n",
    "\n",
    "# Get the category ID\n",
    "if data['categories']['is_leaf']:\n",
    "    category_id = data['categories']['id']\n",
    "else:\n",
    "    category_id = data['breadcrumbs'][-2]['category_id']\n",
    "product_data['category_id'] = category_id"
   ]
  },
  {
   "cell_type": "code",
   "execution_count": null,
   "metadata": {},
   "outputs": [],
   "source": [
    "product_df = pd.DataFrame([product_data])\n",
    "product_data.head()"
   ]
  },
  {
   "cell_type": "code",
   "execution_count": null,
   "metadata": {},
   "outputs": [],
   "source": [
    "# https://vcdn.tikicdn.com/cache/w100/ts/seller/ + seller img"
   ]
  }
 ],
 "metadata": {
  "kernelspec": {
   "display_name": "Python 3",
   "language": "python",
   "name": "python3"
  },
  "language_info": {
   "codemirror_mode": {
    "name": "ipython",
    "version": 3
   },
   "file_extension": ".py",
   "mimetype": "text/x-python",
   "name": "python",
   "nbconvert_exporter": "python",
   "pygments_lexer": "ipython3",
   "version": "3.12.1"
  }
 },
 "nbformat": 4,
 "nbformat_minor": 2
}
