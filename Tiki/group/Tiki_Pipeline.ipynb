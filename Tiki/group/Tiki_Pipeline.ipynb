{
 "cells": [
  {
   "cell_type": "markdown",
   "metadata": {},
   "source": [
    "### LIBRARY"
   ]
  },
  {
   "cell_type": "code",
   "execution_count": 40,
   "metadata": {},
   "outputs": [],
   "source": [
    "import pandas as pd\n",
    "import requests\n",
    "import random\n",
    "import time"
   ]
  },
  {
   "cell_type": "markdown",
   "metadata": {},
   "source": [
    "### SET UP THE ENVIRONMENT"
   ]
  },
  {
   "cell_type": "code",
   "execution_count": 41,
   "metadata": {},
   "outputs": [],
   "source": [
    "HEADERS = {\n",
    "    \"User-Agent\": \"Mozilla/5.0 (Windows NT 10.0; Win64; x64) AppleWebKit/537.36 (KHTML, like Gecko) Chrome/121.0.0.0 Safari/537.36 Edg/121.0.0.0\",\n",
    "    \"Accept-Language\": 'en-US,en;q=0.9',\n",
    "    \"Accept-Encoding\": \"gzip, deflate, br, zstd\",\n",
    "    \"Referer\": \"https://tiki.vn/\",\n",
    "    \"From\": \"\",\n",
    "    \"af-ac-enc-dat\": \"\",\n",
    "    \"x-api-source\": \"pc\"\n",
    "}"
   ]
  },
  {
   "cell_type": "markdown",
   "metadata": {},
   "source": [
    "### EXTRACT GROUP DATA"
   ]
  },
  {
   "cell_type": "code",
   "execution_count": 42,
   "metadata": {},
   "outputs": [],
   "source": [
    "URL = \"https://api.tiki.vn/raiden/v2/menu-config?platform=desktop\""
   ]
  },
  {
   "cell_type": "code",
   "execution_count": 43,
   "metadata": {},
   "outputs": [
    {
     "name": "stdout",
     "output_type": "stream",
     "text": [
      "Success to fetch 26 groups.\n"
     ]
    }
   ],
   "source": [
    "response = requests.get(URL, headers=HEADERS)\n",
    "time.sleep(random.uniform(3.2, 8.7))\n",
    "if response.status_code == 200:\n",
    "    data = response.json()\n",
    "    print(f\"Success to fetch {len(data[\"menu_block\"][\"items\"])} groups.\")\n",
    "else:\n",
    "    print(\"Failed to fetch data:\", response.status_code)\n"
   ]
  },
  {
   "cell_type": "markdown",
   "metadata": {},
   "source": [
    "### EXTRACT GROUP ID\n",
    "Extract the group id = 8322, 1846, 1789"
   ]
  },
  {
   "cell_type": "code",
   "execution_count": 44,
   "metadata": {},
   "outputs": [],
   "source": [
    "group = data[\"menu_block\"][\"items\"]\n",
    "group_list = []\n",
    "for group in group:\n",
    "    link = group[\"link\"]\n",
    "    group_id = link.split(\"/\")[-1][1:]\n",
    "    text = group[\"text\"]\n",
    "    \n",
    "    if group_id in [\"8322\", \"1846\", \"1789\"]:\n",
    "        group_list.append([group_id, text])\n",
    "\n",
    "group = pd.DataFrame(group_list, columns=[\"GroupID\", \"Name\"])"
   ]
  },
  {
   "cell_type": "code",
   "execution_count": 45,
   "metadata": {},
   "outputs": [
    {
     "data": {
      "text/html": [
       "<div>\n",
       "<style scoped>\n",
       "    .dataframe tbody tr th:only-of-type {\n",
       "        vertical-align: middle;\n",
       "    }\n",
       "\n",
       "    .dataframe tbody tr th {\n",
       "        vertical-align: top;\n",
       "    }\n",
       "\n",
       "    .dataframe thead th {\n",
       "        text-align: right;\n",
       "    }\n",
       "</style>\n",
       "<table border=\"1\" class=\"dataframe\">\n",
       "  <thead>\n",
       "    <tr style=\"text-align: right;\">\n",
       "      <th></th>\n",
       "      <th>GroupID</th>\n",
       "      <th>Name</th>\n",
       "    </tr>\n",
       "  </thead>\n",
       "  <tbody>\n",
       "    <tr>\n",
       "      <th>0</th>\n",
       "      <td>8322</td>\n",
       "      <td>Nhà Sách Tiki</td>\n",
       "    </tr>\n",
       "    <tr>\n",
       "      <th>1</th>\n",
       "      <td>1789</td>\n",
       "      <td>Điện Thoại - Máy Tính Bảng</td>\n",
       "    </tr>\n",
       "    <tr>\n",
       "      <th>2</th>\n",
       "      <td>1846</td>\n",
       "      <td>Laptop - Máy Vi Tính - Linh kiện</td>\n",
       "    </tr>\n",
       "  </tbody>\n",
       "</table>\n",
       "</div>"
      ],
      "text/plain": [
       "  GroupID                              Name\n",
       "0    8322                     Nhà Sách Tiki\n",
       "1    1789        Điện Thoại - Máy Tính Bảng\n",
       "2    1846  Laptop - Máy Vi Tính - Linh kiện"
      ]
     },
     "execution_count": 45,
     "metadata": {},
     "output_type": "execute_result"
    }
   ],
   "source": [
    "group"
   ]
  },
  {
   "cell_type": "markdown",
   "metadata": {},
   "source": [
    "### EXTRACT CATEGORY HIERARCHY"
   ]
  },
  {
   "cell_type": "code",
   "execution_count": 46,
   "metadata": {},
   "outputs": [],
   "source": [
    "master_category_list = []\n",
    "category_list = []\n",
    "sub_category_list = []\n",
    "\n",
    "for group_id in group[\"GroupID\"]:\n",
    "    parent_url = f\"https://tiki.vn/api/v2/categories?parent_id={group_id}\"\n",
    "    parent_response = requests.get(parent_url, headers=HEADERS)\n",
    "    time.sleep(random.uniform(3.2, 8.7))\n",
    "    \n",
    "    if parent_response.status_code == 200:\n",
    "        parent_data = parent_response.json()\n",
    "        if not parent_data[\"data\"]:\n",
    "            master_category_list.append([None, group_id, group[group[\"GroupID\"] == group_id][\"Name\"].item()])\n",
    "        else:\n",
    "            for parent_category in parent_data[\"data\"]:\n",
    "                parent_id = parent_category[\"id\"]\n",
    "                parent_name = parent_category[\"name\"]\n",
    "                master_category_list.append([parent_id, group_id, parent_name])\n",
    "                \n",
    "                child_url = f\"https://tiki.vn/api/v2/categories?parent_id={parent_id}\"\n",
    "                child_response = requests.get(child_url, headers=HEADERS)\n",
    "                time.sleep(random.uniform(3.2, 8.7))\n",
    "                \n",
    "                if child_response.status_code == 200:\n",
    "                    child_data = child_response.json()\n",
    "                    if not child_data[\"data\"]:\n",
    "                        category_list.append([None, parent_id, None])\n",
    "                    else:\n",
    "                        for child_category in child_data[\"data\"]:\n",
    "                            child_id = child_category[\"id\"]\n",
    "                            child_name = child_category[\"name\"]\n",
    "                            category_list.append([child_id, parent_id, child_name])\n",
    "                            \n",
    "                            # Fetch type information\n",
    "                            type_url = f\"https://tiki.vn/api/v2/categories?parent_id={child_id}\"\n",
    "                            type_response = requests.get(type_url, headers=HEADERS)\n",
    "                            time.sleep(random.uniform(3.2, 8.7))\n",
    "                            \n",
    "                            if type_response.status_code == 200:\n",
    "                                type_data = type_response.json()\n",
    "                                if type_data[\"data\"]:\n",
    "                                    for type_item in type_data[\"data\"]:\n",
    "                                        type_id = type_item.get(\"id\")\n",
    "                                        type_name = type_item.get(\"name\")\n",
    "                                        sub_category_list.append([type_id, child_id, type_name])\n",
    "                                else:\n",
    "                                    sub_category_list.append([None, child_id, None])\n",
    "\n",
    "master_category = pd.DataFrame(master_category_list, columns=[\"MasterCategoryID\", \"GroupID\", \"Name\"])\n",
    "category = pd.DataFrame(category_list, columns=[\"CategoryID\", \"MasterCategoryID\", \"Name\"])\n",
    "sub_category = pd.DataFrame(sub_category_list, columns=[\"SubCategoryID\", \"CategoryID\", \"Name\"])"
   ]
  },
  {
   "cell_type": "code",
   "execution_count": 47,
   "metadata": {},
   "outputs": [
    {
     "name": "stdout",
     "output_type": "stream",
     "text": [
      "Success to fetch 15 master categories.\n",
      "Success to fetch 136 categories.\n",
      "Success to fetch 466 sub categories.\n"
     ]
    }
   ],
   "source": [
    "print(f\"Success to fetch {len(master_category)} master categories.\")\n",
    "print(f\"Success to fetch {len(category)} categories.\")\n",
    "print(f\"Success to fetch {len(sub_category)} sub categories.\")"
   ]
  }
 ],
 "metadata": {
  "kernelspec": {
   "display_name": "Python 3",
   "language": "python",
   "name": "python3"
  },
  "language_info": {
   "codemirror_mode": {
    "name": "ipython",
    "version": 3
   },
   "file_extension": ".py",
   "mimetype": "text/x-python",
   "name": "python",
   "nbconvert_exporter": "python",
   "pygments_lexer": "ipython3",
   "version": "3.12.1"
  }
 },
 "nbformat": 4,
 "nbformat_minor": 2
}
