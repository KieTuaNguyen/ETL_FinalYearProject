{
 "cells": [
  {
   "cell_type": "markdown",
   "metadata": {},
   "source": [
    "### LIBRARY"
   ]
  },
  {
   "cell_type": "code",
   "execution_count": 1,
   "metadata": {},
   "outputs": [],
   "source": [
    "import pandas as pd\n",
    "import requests\n",
    "import random\n",
    "import time\n",
    "import math"
   ]
  },
  {
   "cell_type": "markdown",
   "metadata": {},
   "source": [
    "### SET UP THE ENVIRONMENT"
   ]
  },
  {
   "cell_type": "code",
   "execution_count": 2,
   "metadata": {},
   "outputs": [],
   "source": [
    "HEADERS = {\n",
    "    \"User-Agent\": \"Mozilla/5.0 (Windows NT 10.0; Win64; x64) AppleWebKit/537.36 (KHTML, like Gecko) Chrome/121.0.0.0 Safari/537.36 Edg/121.0.0.0\",\n",
    "    \"Accept-Language\": 'en-US,en;q=0.9',\n",
    "    \"Accept-Encoding\": \"gzip, deflate, br, zstd\",\n",
    "    \"Referer\": \"https://tiki.vn/\",\n",
    "    \"From\": \"\",\n",
    "    \"af-ac-enc-dat\": \"\",\n",
    "    \"x-api-source\": \"pc\"\n",
    "}"
   ]
  },
  {
   "cell_type": "markdown",
   "metadata": {},
   "source": [
    "### EXTRACT GROUP DATA"
   ]
  },
  {
   "cell_type": "code",
   "execution_count": 3,
   "metadata": {},
   "outputs": [],
   "source": [
    "URL = \"https://api.tiki.vn/raiden/v2/menu-config?platform=desktop\""
   ]
  },
  {
   "cell_type": "code",
   "execution_count": 4,
   "metadata": {},
   "outputs": [
    {
     "name": "stdout",
     "output_type": "stream",
     "text": [
      "Success to fetch 26 groups.\n"
     ]
    }
   ],
   "source": [
    "response = requests.get(URL, headers=HEADERS)\n",
    "\n",
    "if response.status_code == 200:\n",
    "    data = response.json()\n",
    "    print(f\"Success to fetch {len(data[\"menu_block\"][\"items\"])} groups.\")\n",
    "else:\n",
    "    print(\"Failed to fetch data:\", response.status_code)"
   ]
  },
  {
   "cell_type": "markdown",
   "metadata": {},
   "source": [
    "### EXTRACT GROUP ID"
   ]
  },
  {
   "cell_type": "code",
   "execution_count": 5,
   "metadata": {},
   "outputs": [
    {
     "data": {
      "text/html": [
       "<div>\n",
       "<style scoped>\n",
       "    .dataframe tbody tr th:only-of-type {\n",
       "        vertical-align: middle;\n",
       "    }\n",
       "\n",
       "    .dataframe tbody tr th {\n",
       "        vertical-align: top;\n",
       "    }\n",
       "\n",
       "    .dataframe thead th {\n",
       "        text-align: right;\n",
       "    }\n",
       "</style>\n",
       "<table border=\"1\" class=\"dataframe\">\n",
       "  <thead>\n",
       "    <tr style=\"text-align: right;\">\n",
       "      <th></th>\n",
       "      <th>group_id</th>\n",
       "      <th>group_name</th>\n",
       "    </tr>\n",
       "  </thead>\n",
       "  <tbody>\n",
       "    <tr>\n",
       "      <th>0</th>\n",
       "      <td>8322</td>\n",
       "      <td>Nhà Sách Tiki</td>\n",
       "    </tr>\n",
       "    <tr>\n",
       "      <th>1</th>\n",
       "      <td>1883</td>\n",
       "      <td>Nhà Cửa - Đời Sống</td>\n",
       "    </tr>\n",
       "    <tr>\n",
       "      <th>2</th>\n",
       "      <td>1789</td>\n",
       "      <td>Điện Thoại - Máy Tính Bảng</td>\n",
       "    </tr>\n",
       "    <tr>\n",
       "      <th>3</th>\n",
       "      <td>2549</td>\n",
       "      <td>Đồ Chơi - Mẹ &amp; Bé</td>\n",
       "    </tr>\n",
       "    <tr>\n",
       "      <th>4</th>\n",
       "      <td>1815</td>\n",
       "      <td>Thiết Bị Số - Phụ Kiện Số</td>\n",
       "    </tr>\n",
       "  </tbody>\n",
       "</table>\n",
       "</div>"
      ],
      "text/plain": [
       "  group_id                  group_name\n",
       "0     8322               Nhà Sách Tiki\n",
       "1     1883          Nhà Cửa - Đời Sống\n",
       "2     1789  Điện Thoại - Máy Tính Bảng\n",
       "3     2549           Đồ Chơi - Mẹ & Bé\n",
       "4     1815   Thiết Bị Số - Phụ Kiện Số"
      ]
     },
     "execution_count": 5,
     "metadata": {},
     "output_type": "execute_result"
    }
   ],
   "source": [
    "group = data[\"menu_block\"][\"items\"]\n",
    "group_list = []\n",
    "\n",
    "for group in group:\n",
    "    text = group[\"text\"]\n",
    "    link = group[\"link\"]\n",
    "    # Extract category ID from the link\n",
    "    group_id = link.split(\"/\")[-1][1:]  \n",
    "    group_list.append([group_id, text])\n",
    "\n",
    "group = pd.DataFrame(group_list, columns=[\"group_id\", \"group_name\"])\n",
    "group.head()"
   ]
  },
  {
   "cell_type": "markdown",
   "metadata": {},
   "source": [
    "### EXTRACT CATEGORY ID"
   ]
  },
  {
   "cell_type": "code",
   "execution_count": 6,
   "metadata": {},
   "outputs": [],
   "source": [
    "category = group"
   ]
  },
  {
   "cell_type": "code",
   "execution_count": 7,
   "metadata": {},
   "outputs": [
    {
     "name": "stdout",
     "output_type": "stream",
     "text": [
      "Success to fetch 230 categories.\n",
      "Success to fetch 1372 sub-categories.\n"
     ]
    }
   ],
   "source": [
    "parent_category_list = []\n",
    "child_category_list = []\n",
    "\n",
    "for group_id in category[\"group_id\"]:\n",
    "    parent_url = f\"https://tiki.vn/api/v2/categories?parent_id={group_id}\"\n",
    "    parent_response = requests.get(parent_url, headers=HEADERS)\n",
    "    if parent_response.status_code == 200:\n",
    "        parent_data = parent_response.json()\n",
    "        if not parent_data[\"data\"]:\n",
    "            parent_category_list.append([group_id, category[category[\"group_id\"] == group_id][\"Name\"].item(), None, None])\n",
    "        else:\n",
    "            for parent_category in parent_data[\"data\"]:\n",
    "                parent_id = parent_category[\"id\"]\n",
    "                parent_name = parent_category[\"name\"]\n",
    "                # Get group name\n",
    "                group_name = category[category[\"group_id\"] == group_id][\"group_name\"].item()\n",
    "                parent_category_list.append([group_id, group_name, parent_id, parent_name])\n",
    "                # Now fetch child categories\n",
    "                child_url = f\"https://tiki.vn/api/v2/categories?parent_id={parent_id}\"\n",
    "                child_response = requests.get(child_url, headers=HEADERS)\n",
    "                if child_response.status_code == 200:\n",
    "                    child_data = child_response.json()\n",
    "                    if not child_data[\"data\"]:\n",
    "                        child_category_list.append([group_id, group_name, parent_id, parent_name, None, None])\n",
    "                    else:\n",
    "                        for child_category in child_data[\"data\"]:\n",
    "                            child_id = child_category[\"id\"]\n",
    "                            child_name = child_category[\"name\"]\n",
    "                            child_count = child_category[\"product_count\"]\n",
    "                            child_category_list.append([group_id, group_name, parent_id, parent_name, child_id, child_name, child_count])\n",
    "    else:\n",
    "        print(f\"Failed to fetch category data for group ID: {group_id}\")\n",
    "\n",
    "print(f\"Success to fetch {len(parent_category_list)} categories.\")\n",
    "print(f\"Success to fetch {len(child_category_list)} sub-categories.\")"
   ]
  },
  {
   "cell_type": "code",
   "execution_count": 8,
   "metadata": {},
   "outputs": [
    {
     "data": {
      "text/html": [
       "<div>\n",
       "<style scoped>\n",
       "    .dataframe tbody tr th:only-of-type {\n",
       "        vertical-align: middle;\n",
       "    }\n",
       "\n",
       "    .dataframe tbody tr th {\n",
       "        vertical-align: top;\n",
       "    }\n",
       "\n",
       "    .dataframe thead th {\n",
       "        text-align: right;\n",
       "    }\n",
       "</style>\n",
       "<table border=\"1\" class=\"dataframe\">\n",
       "  <thead>\n",
       "    <tr style=\"text-align: right;\">\n",
       "      <th></th>\n",
       "      <th>group_id</th>\n",
       "      <th>group_name</th>\n",
       "      <th>parent_id</th>\n",
       "      <th>parent_name</th>\n",
       "      <th>child_id</th>\n",
       "      <th>child_name</th>\n",
       "      <th>product_count</th>\n",
       "    </tr>\n",
       "  </thead>\n",
       "  <tbody>\n",
       "    <tr>\n",
       "      <th>0</th>\n",
       "      <td>8322</td>\n",
       "      <td>Nhà Sách Tiki</td>\n",
       "      <td>320</td>\n",
       "      <td>English Books</td>\n",
       "      <td>623.0</td>\n",
       "      <td>Art &amp; Photography</td>\n",
       "      <td>576.0</td>\n",
       "    </tr>\n",
       "    <tr>\n",
       "      <th>1</th>\n",
       "      <td>8322</td>\n",
       "      <td>Nhà Sách Tiki</td>\n",
       "      <td>320</td>\n",
       "      <td>English Books</td>\n",
       "      <td>27.0</td>\n",
       "      <td>Biographies &amp; Memoirs</td>\n",
       "      <td>314.0</td>\n",
       "    </tr>\n",
       "    <tr>\n",
       "      <th>2</th>\n",
       "      <td>8322</td>\n",
       "      <td>Nhà Sách Tiki</td>\n",
       "      <td>320</td>\n",
       "      <td>English Books</td>\n",
       "      <td>4.0</td>\n",
       "      <td>Business &amp; Economics</td>\n",
       "      <td>654.0</td>\n",
       "    </tr>\n",
       "    <tr>\n",
       "      <th>3</th>\n",
       "      <td>8322</td>\n",
       "      <td>Nhà Sách Tiki</td>\n",
       "      <td>320</td>\n",
       "      <td>English Books</td>\n",
       "      <td>614.0</td>\n",
       "      <td>How-to - Self Help</td>\n",
       "      <td>662.0</td>\n",
       "    </tr>\n",
       "    <tr>\n",
       "      <th>4</th>\n",
       "      <td>8322</td>\n",
       "      <td>Nhà Sách Tiki</td>\n",
       "      <td>320</td>\n",
       "      <td>English Books</td>\n",
       "      <td>7.0</td>\n",
       "      <td>Children's Books</td>\n",
       "      <td>7592.0</td>\n",
       "    </tr>\n",
       "    <tr>\n",
       "      <th>...</th>\n",
       "      <td>...</td>\n",
       "      <td>...</td>\n",
       "      <td>...</td>\n",
       "      <td>...</td>\n",
       "      <td>...</td>\n",
       "      <td>...</td>\n",
       "      <td>...</td>\n",
       "    </tr>\n",
       "    <tr>\n",
       "      <th>1367</th>\n",
       "      <td>15078</td>\n",
       "      <td>Chăm sóc nhà cửa</td>\n",
       "      <td>4441</td>\n",
       "      <td>Diệt côn trùng</td>\n",
       "      <td>68132.0</td>\n",
       "      <td>Diệt côn trùng dạng bột</td>\n",
       "      <td>168.0</td>\n",
       "    </tr>\n",
       "    <tr>\n",
       "      <th>1368</th>\n",
       "      <td>15078</td>\n",
       "      <td>Chăm sóc nhà cửa</td>\n",
       "      <td>4441</td>\n",
       "      <td>Diệt côn trùng</td>\n",
       "      <td>68133.0</td>\n",
       "      <td>Diệt côn trùng dạng nhang đốt</td>\n",
       "      <td>24.0</td>\n",
       "    </tr>\n",
       "    <tr>\n",
       "      <th>1369</th>\n",
       "      <td>15078</td>\n",
       "      <td>Chăm sóc nhà cửa</td>\n",
       "      <td>4441</td>\n",
       "      <td>Diệt côn trùng</td>\n",
       "      <td>68137.0</td>\n",
       "      <td>Diệt côn trùng dạng nước và tinh dầu</td>\n",
       "      <td>380.0</td>\n",
       "    </tr>\n",
       "    <tr>\n",
       "      <th>1370</th>\n",
       "      <td>15078</td>\n",
       "      <td>Chăm sóc nhà cửa</td>\n",
       "      <td>4441</td>\n",
       "      <td>Diệt côn trùng</td>\n",
       "      <td>68138.0</td>\n",
       "      <td>Diệt côn trùng dạng sáp và viên nén</td>\n",
       "      <td>109.0</td>\n",
       "    </tr>\n",
       "    <tr>\n",
       "      <th>1371</th>\n",
       "      <td>15078</td>\n",
       "      <td>Chăm sóc nhà cửa</td>\n",
       "      <td>4441</td>\n",
       "      <td>Diệt côn trùng</td>\n",
       "      <td>68139.0</td>\n",
       "      <td>Diệt côn trùng dạng xịt</td>\n",
       "      <td>141.0</td>\n",
       "    </tr>\n",
       "  </tbody>\n",
       "</table>\n",
       "<p>1372 rows × 7 columns</p>\n",
       "</div>"
      ],
      "text/plain": [
       "     group_id        group_name  parent_id     parent_name  child_id  \\\n",
       "0        8322     Nhà Sách Tiki        320   English Books     623.0   \n",
       "1        8322     Nhà Sách Tiki        320   English Books      27.0   \n",
       "2        8322     Nhà Sách Tiki        320   English Books       4.0   \n",
       "3        8322     Nhà Sách Tiki        320   English Books     614.0   \n",
       "4        8322     Nhà Sách Tiki        320   English Books       7.0   \n",
       "...       ...               ...        ...             ...       ...   \n",
       "1367    15078  Chăm sóc nhà cửa       4441  Diệt côn trùng   68132.0   \n",
       "1368    15078  Chăm sóc nhà cửa       4441  Diệt côn trùng   68133.0   \n",
       "1369    15078  Chăm sóc nhà cửa       4441  Diệt côn trùng   68137.0   \n",
       "1370    15078  Chăm sóc nhà cửa       4441  Diệt côn trùng   68138.0   \n",
       "1371    15078  Chăm sóc nhà cửa       4441  Diệt côn trùng   68139.0   \n",
       "\n",
       "                                child_name  product_count  \n",
       "0                        Art & Photography          576.0  \n",
       "1                    Biographies & Memoirs          314.0  \n",
       "2                     Business & Economics          654.0  \n",
       "3                       How-to - Self Help          662.0  \n",
       "4                         Children's Books         7592.0  \n",
       "...                                    ...            ...  \n",
       "1367               Diệt côn trùng dạng bột          168.0  \n",
       "1368         Diệt côn trùng dạng nhang đốt           24.0  \n",
       "1369  Diệt côn trùng dạng nước và tinh dầu          380.0  \n",
       "1370   Diệt côn trùng dạng sáp và viên nén          109.0  \n",
       "1371               Diệt côn trùng dạng xịt          141.0  \n",
       "\n",
       "[1372 rows x 7 columns]"
      ]
     },
     "execution_count": 8,
     "metadata": {},
     "output_type": "execute_result"
    }
   ],
   "source": [
    "category = pd.DataFrame(child_category_list, columns=[\"group_id\", \"group_name\", \"parent_id\", \"parent_name\", \"child_id\", \"child_name\", \"product_count\"])\n",
    "category"
   ]
  }
 ],
 "metadata": {
  "kernelspec": {
   "display_name": "Python 3",
   "language": "python",
   "name": "python3"
  },
  "language_info": {
   "codemirror_mode": {
    "name": "ipython",
    "version": 3
   },
   "file_extension": ".py",
   "mimetype": "text/x-python",
   "name": "python",
   "nbconvert_exporter": "python",
   "pygments_lexer": "ipython3",
   "version": "3.12.1"
  }
 },
 "nbformat": 4,
 "nbformat_minor": 2
}
