{
 "cells": [
  {
   "cell_type": "markdown",
   "metadata": {},
   "source": [
    "### LIBRARY"
   ]
  },
  {
   "cell_type": "code",
   "execution_count": 76,
   "metadata": {},
   "outputs": [],
   "source": [
    "import pandas as pd\n",
    "import requests\n",
    "import random\n",
    "import time"
   ]
  },
  {
   "cell_type": "markdown",
   "metadata": {},
   "source": [
    "### SET UP THE ENVIRONMENT"
   ]
  },
  {
   "cell_type": "code",
   "execution_count": 77,
   "metadata": {},
   "outputs": [],
   "source": [
    "HEADERS = {\n",
    "    \"User-Agent\": \"Mozilla/5.0 (Windows NT 10.0; Win64; x64) AppleWebKit/537.36 (KHTML, like Gecko) Chrome/121.0.0.0 Safari/537.36 Edg/121.0.0.0\",\n",
    "    \"Accept-Language\": 'en-US,en;q=0.9',\n",
    "    \"Accept-Encoding\": \"gzip, deflate, br, zstd\",\n",
    "    \"Referer\": \"https://tiki.vn/\",\n",
    "    \"From\": \"\",\n",
    "    \"af-ac-enc-dat\": \"\",\n",
    "    \"x-api-source\": \"pc\"\n",
    "}"
   ]
  },
  {
   "cell_type": "markdown",
   "metadata": {},
   "source": [
    "### EXTRACT GROUP DATA"
   ]
  },
  {
   "cell_type": "code",
   "execution_count": 78,
   "metadata": {},
   "outputs": [],
   "source": [
    "URL = \"https://api.tiki.vn/raiden/v2/menu-config?platform=desktop\""
   ]
  },
  {
   "cell_type": "code",
   "execution_count": 79,
   "metadata": {},
   "outputs": [
    {
     "name": "stdout",
     "output_type": "stream",
     "text": [
      "Success to fetch 26 groups.\n"
     ]
    }
   ],
   "source": [
    "response = requests.get(URL, headers=HEADERS)\n",
    "time.sleep(random.uniform(3.2, 8.7))\n",
    "if response.status_code == 200:\n",
    "    data = response.json()\n",
    "    print(f\"Success to fetch {len(data[\"menu_block\"][\"items\"])} groups.\")\n",
    "else:\n",
    "    print(\"Failed to fetch data:\", response.status_code)\n"
   ]
  },
  {
   "cell_type": "markdown",
   "metadata": {},
   "source": [
    "### EXTRACT GROUP ID\n",
    "Extract the group id = 1846, 1789"
   ]
  },
  {
   "cell_type": "code",
   "execution_count": 80,
   "metadata": {},
   "outputs": [
    {
     "name": "stdout",
     "output_type": "stream",
     "text": [
      "Success to extract 2 needed groups.\n",
      "['1789' '1846']\n"
     ]
    }
   ],
   "source": [
    "group = data[\"menu_block\"][\"items\"]\n",
    "group_list = []\n",
    "for group in group:\n",
    "    link = group[\"link\"]\n",
    "    group_id = link.split(\"/\")[-1][1:]\n",
    "    text = group[\"text\"]\n",
    "    \n",
    "    # if group_id in [\"1789\"]:\n",
    "    if group_id in [\"1846\", \"1789\"]:\n",
    "        group_list.append([group_id, text])\n",
    "\n",
    "group = pd.DataFrame(group_list, columns=[\"GroupID\", \"Name\"])\n",
    "print(f\"Success to extract {len(group)} needed groups.\")\n",
    "print(group[\"GroupID\"].values)"
   ]
  },
  {
   "cell_type": "markdown",
   "metadata": {},
   "source": [
    "### EXTRACT CATEGORY HIERARCHY"
   ]
  },
  {
   "cell_type": "code",
   "execution_count": 81,
   "metadata": {},
   "outputs": [],
   "source": [
    "category_list = []\n",
    "for group_id, group_name in zip(group[\"GroupID\"], group[\"Name\"]):\n",
    "    parent_url = f\"https://tiki.vn/api/v2/categories?parent_id={group_id}\"\n",
    "    parent_response = requests.get(parent_url, headers=HEADERS)\n",
    "    time.sleep(random.uniform(3.2, 8.7))\n",
    "    if parent_response.status_code == 200:\n",
    "        parent_data = parent_response.json()\n",
    "        if not parent_data[\"data\"]:\n",
    "            category_list.append([group_id, group_name, None, None, None, None, None, None])\n",
    "        else:\n",
    "            for parent_category in parent_data[\"data\"]:\n",
    "                parent_id = parent_category[\"id\"]\n",
    "                parent_name = parent_category[\"name\"]\n",
    "                child_url = f\"https://tiki.vn/api/v2/categories?parent_id={parent_id}\"\n",
    "                child_response = requests.get(child_url, headers=HEADERS)\n",
    "                time.sleep(random.uniform(3.2, 8.7))\n",
    "                if child_response.status_code == 200:\n",
    "                    child_data = child_response.json()\n",
    "                    if not child_data[\"data\"]:\n",
    "                        category_list.append([group_id, group_name, parent_id, parent_name, None, None, None, None])\n",
    "                    else:\n",
    "                        for child_category in child_data[\"data\"]:\n",
    "                            child_id = child_category[\"id\"]\n",
    "                            child_name = child_category[\"name\"]\n",
    "                            type_url = f\"https://tiki.vn/api/v2/categories?parent_id={child_id}\"\n",
    "                            type_response = requests.get(type_url, headers=HEADERS)\n",
    "                            time.sleep(random.uniform(3.2, 8.7))\n",
    "                            if type_response.status_code == 200:\n",
    "                                type_data = type_response.json()\n",
    "                                if type_data[\"data\"]:\n",
    "                                    for type_item in type_data[\"data\"]:\n",
    "                                        type_id = type_item.get(\"id\")\n",
    "                                        type_name = type_item.get(\"name\")\n",
    "                                        category_list.append([group_id, group_name, parent_id, parent_name, child_id, child_name, type_id, type_name])\n",
    "                                else:\n",
    "                                    category_list.append([group_id, group_name, parent_id, parent_name, child_id, child_name, None, None])\n",
    "\n",
    "category_df = pd.DataFrame(category_list, columns=[\"GroupID\", \"GroupName\", \"MasterCategoryID\", \"MasterCategoryName\", \"CategoryID\", \"CategoryName\", \"SubCategoryID\", \"SubCategoryName\"])"
   ]
  },
  {
   "cell_type": "code",
   "execution_count": 82,
   "metadata": {},
   "outputs": [
    {
     "name": "stdout",
     "output_type": "stream",
     "text": [
      "Success to fetch 82 categories.\n"
     ]
    }
   ],
   "source": [
    "print(f\"Success to fetch {len(category_df)} categories.\")"
   ]
  },
  {
   "cell_type": "markdown",
   "metadata": {},
   "source": [
    "### TRANSFORM CATEGORY HIERARCHY"
   ]
  },
  {
   "cell_type": "code",
   "execution_count": 83,
   "metadata": {},
   "outputs": [],
   "source": [
    "def remove_single_category(df):\n",
    "    # Group the DataFrame by MasterCategoryID and count the unique CategoryID values\n",
    "    category_counts = df.groupby('MasterCategoryID')['CategoryID'].nunique()\n",
    "    \n",
    "    # Create a mask for MasterCategoryIDs with only one CategoryID\n",
    "    single_category_mask = category_counts == 1\n",
    "    \n",
    "    # Drop the CategoryID and CategoryName columns for rows where there is only one CategoryID\n",
    "    df.loc[df['MasterCategoryID'].isin(single_category_mask[single_category_mask].index), ['CategoryID', 'CategoryName']] = [None, None]\n",
    "    \n",
    "    return df"
   ]
  },
  {
   "cell_type": "code",
   "execution_count": 84,
   "metadata": {},
   "outputs": [],
   "source": [
    "cleaned_df = remove_single_category(category_df)"
   ]
  },
  {
   "cell_type": "code",
   "execution_count": 85,
   "metadata": {},
   "outputs": [],
   "source": [
    "def transform_category(row):\n",
    "    # Handle MasterCategory and Category\n",
    "    if pd.isna(row['CategoryID']):\n",
    "        master_category_id = row['MasterCategoryID']\n",
    "        master_category_name = row['MasterCategoryName']\n",
    "        category_id = row['MasterCategoryID']\n",
    "        category_name = row['MasterCategoryName']\n",
    "        is_category = 0\n",
    "    else:\n",
    "        master_category_id = row['MasterCategoryID']\n",
    "        master_category_name = row['MasterCategoryName']\n",
    "        category_id = row['CategoryID']\n",
    "        category_name = row['CategoryName']\n",
    "        is_category = 1\n",
    "\n",
    "    # Handle SubCategory\n",
    "    if pd.isna(row['SubCategoryID']):\n",
    "        sub_category_id = category_id\n",
    "        sub_category_name = category_name\n",
    "        is_sub_category = 0\n",
    "    else:\n",
    "        sub_category_id = row['SubCategoryID']\n",
    "        sub_category_name = row['SubCategoryName']\n",
    "        is_sub_category = 1\n",
    "\n",
    "    return pd.Series([\n",
    "        master_category_id, master_category_name, category_id, category_name,\n",
    "        is_category, sub_category_id, sub_category_name, is_sub_category\n",
    "    ])"
   ]
  },
  {
   "cell_type": "code",
   "execution_count": 86,
   "metadata": {},
   "outputs": [
    {
     "name": "stdout",
     "output_type": "stream",
     "text": [
      "Check null for each column in category\n",
      "Null percentage for GroupID: 0.00%\n",
      "Null percentage for GroupName: 0.00%\n",
      "Null percentage for MasterCategoryID: 0.00%\n",
      "Null percentage for MasterCategoryName: 0.00%\n",
      "Null percentage for CategoryID: 6.10%\n",
      "Null percentage for CategoryName: 6.10%\n",
      "Null percentage for SubCategoryID: 57.32%\n",
      "Null percentage for SubCategoryName: 57.32%\n"
     ]
    },
    {
     "data": {
      "text/html": [
       "<div>\n",
       "<style scoped>\n",
       "    .dataframe tbody tr th:only-of-type {\n",
       "        vertical-align: middle;\n",
       "    }\n",
       "\n",
       "    .dataframe tbody tr th {\n",
       "        vertical-align: top;\n",
       "    }\n",
       "\n",
       "    .dataframe thead th {\n",
       "        text-align: right;\n",
       "    }\n",
       "</style>\n",
       "<table border=\"1\" class=\"dataframe\">\n",
       "  <thead>\n",
       "    <tr style=\"text-align: right;\">\n",
       "      <th></th>\n",
       "      <th>GroupID</th>\n",
       "      <th>GroupName</th>\n",
       "      <th>MasterCategoryID</th>\n",
       "      <th>MasterCategoryName</th>\n",
       "      <th>CategoryID</th>\n",
       "      <th>CategoryName</th>\n",
       "      <th>SubCategoryID</th>\n",
       "      <th>SubCategoryName</th>\n",
       "    </tr>\n",
       "  </thead>\n",
       "  <tbody>\n",
       "    <tr>\n",
       "      <th>0</th>\n",
       "      <td>1789</td>\n",
       "      <td>Điện Thoại - Máy Tính Bảng</td>\n",
       "      <td>1795</td>\n",
       "      <td>Điện thoại Smartphone</td>\n",
       "      <td>NaN</td>\n",
       "      <td>None</td>\n",
       "      <td>NaN</td>\n",
       "      <td>None</td>\n",
       "    </tr>\n",
       "    <tr>\n",
       "      <th>1</th>\n",
       "      <td>1789</td>\n",
       "      <td>Điện Thoại - Máy Tính Bảng</td>\n",
       "      <td>1794</td>\n",
       "      <td>Máy tính bảng</td>\n",
       "      <td>NaN</td>\n",
       "      <td>None</td>\n",
       "      <td>NaN</td>\n",
       "      <td>None</td>\n",
       "    </tr>\n",
       "    <tr>\n",
       "      <th>2</th>\n",
       "      <td>1789</td>\n",
       "      <td>Điện Thoại - Máy Tính Bảng</td>\n",
       "      <td>28856</td>\n",
       "      <td>Máy đọc sách</td>\n",
       "      <td>NaN</td>\n",
       "      <td>None</td>\n",
       "      <td>NaN</td>\n",
       "      <td>None</td>\n",
       "    </tr>\n",
       "    <tr>\n",
       "      <th>3</th>\n",
       "      <td>1789</td>\n",
       "      <td>Điện Thoại - Máy Tính Bảng</td>\n",
       "      <td>1796</td>\n",
       "      <td>Điện thoại phổ thông</td>\n",
       "      <td>NaN</td>\n",
       "      <td>None</td>\n",
       "      <td>NaN</td>\n",
       "      <td>None</td>\n",
       "    </tr>\n",
       "    <tr>\n",
       "      <th>4</th>\n",
       "      <td>1789</td>\n",
       "      <td>Điện Thoại - Máy Tính Bảng</td>\n",
       "      <td>8061</td>\n",
       "      <td>Điện thoại bàn</td>\n",
       "      <td>NaN</td>\n",
       "      <td>None</td>\n",
       "      <td>NaN</td>\n",
       "      <td>None</td>\n",
       "    </tr>\n",
       "  </tbody>\n",
       "</table>\n",
       "</div>"
      ],
      "text/plain": [
       "  GroupID                   GroupName  MasterCategoryID  \\\n",
       "0    1789  Điện Thoại - Máy Tính Bảng              1795   \n",
       "1    1789  Điện Thoại - Máy Tính Bảng              1794   \n",
       "2    1789  Điện Thoại - Máy Tính Bảng             28856   \n",
       "3    1789  Điện Thoại - Máy Tính Bảng              1796   \n",
       "4    1789  Điện Thoại - Máy Tính Bảng              8061   \n",
       "\n",
       "      MasterCategoryName  CategoryID CategoryName  SubCategoryID  \\\n",
       "0  Điện thoại Smartphone         NaN         None            NaN   \n",
       "1          Máy tính bảng         NaN         None            NaN   \n",
       "2           Máy đọc sách         NaN         None            NaN   \n",
       "3   Điện thoại phổ thông         NaN         None            NaN   \n",
       "4         Điện thoại bàn         NaN         None            NaN   \n",
       "\n",
       "  SubCategoryName  \n",
       "0            None  \n",
       "1            None  \n",
       "2            None  \n",
       "3            None  \n",
       "4            None  "
      ]
     },
     "execution_count": 86,
     "metadata": {},
     "output_type": "execute_result"
    }
   ],
   "source": [
    "print(\"Check null for each column in category\")\n",
    "for column in category_df.columns:\n",
    "    null_percentage = category_df[column].isnull().mean() * 100\n",
    "    print(f\"Null percentage for {column}: {null_percentage:.2f}%\")\n",
    "category_df.head()"
   ]
  },
  {
   "cell_type": "code",
   "execution_count": 87,
   "metadata": {},
   "outputs": [],
   "source": [
    "category_df[['MasterCategoryID', 'MasterCategoryName', 'CategoryID', 'CategoryName',\n",
    "             'isCategory', 'SubCategoryID', 'SubCategoryName', 'isSubCategory']] = category_df.apply(transform_category, axis=1, result_type='expand')"
   ]
  },
  {
   "cell_type": "code",
   "execution_count": 88,
   "metadata": {},
   "outputs": [
    {
     "name": "stdout",
     "output_type": "stream",
     "text": [
      "Check null for each column in category\n",
      "Null percentage for GroupID: 0.00%\n",
      "Null percentage for GroupName: 0.00%\n",
      "Null percentage for MasterCategoryID: 0.00%\n",
      "Null percentage for MasterCategoryName: 0.00%\n",
      "Null percentage for CategoryID: 0.00%\n",
      "Null percentage for CategoryName: 0.00%\n",
      "Null percentage for SubCategoryID: 0.00%\n",
      "Null percentage for SubCategoryName: 0.00%\n",
      "Null percentage for isCategory: 0.00%\n",
      "Null percentage for isSubCategory: 0.00%\n"
     ]
    },
    {
     "data": {
      "text/html": [
       "<div>\n",
       "<style scoped>\n",
       "    .dataframe tbody tr th:only-of-type {\n",
       "        vertical-align: middle;\n",
       "    }\n",
       "\n",
       "    .dataframe tbody tr th {\n",
       "        vertical-align: top;\n",
       "    }\n",
       "\n",
       "    .dataframe thead th {\n",
       "        text-align: right;\n",
       "    }\n",
       "</style>\n",
       "<table border=\"1\" class=\"dataframe\">\n",
       "  <thead>\n",
       "    <tr style=\"text-align: right;\">\n",
       "      <th></th>\n",
       "      <th>GroupID</th>\n",
       "      <th>GroupName</th>\n",
       "      <th>MasterCategoryID</th>\n",
       "      <th>MasterCategoryName</th>\n",
       "      <th>CategoryID</th>\n",
       "      <th>CategoryName</th>\n",
       "      <th>SubCategoryID</th>\n",
       "      <th>SubCategoryName</th>\n",
       "      <th>isCategory</th>\n",
       "      <th>isSubCategory</th>\n",
       "    </tr>\n",
       "  </thead>\n",
       "  <tbody>\n",
       "    <tr>\n",
       "      <th>0</th>\n",
       "      <td>1789</td>\n",
       "      <td>Điện Thoại - Máy Tính Bảng</td>\n",
       "      <td>1795</td>\n",
       "      <td>Điện thoại Smartphone</td>\n",
       "      <td>1795.0</td>\n",
       "      <td>Điện thoại Smartphone</td>\n",
       "      <td>1795.0</td>\n",
       "      <td>Điện thoại Smartphone</td>\n",
       "      <td>0</td>\n",
       "      <td>0</td>\n",
       "    </tr>\n",
       "    <tr>\n",
       "      <th>1</th>\n",
       "      <td>1789</td>\n",
       "      <td>Điện Thoại - Máy Tính Bảng</td>\n",
       "      <td>1794</td>\n",
       "      <td>Máy tính bảng</td>\n",
       "      <td>1794.0</td>\n",
       "      <td>Máy tính bảng</td>\n",
       "      <td>1794.0</td>\n",
       "      <td>Máy tính bảng</td>\n",
       "      <td>0</td>\n",
       "      <td>0</td>\n",
       "    </tr>\n",
       "    <tr>\n",
       "      <th>2</th>\n",
       "      <td>1789</td>\n",
       "      <td>Điện Thoại - Máy Tính Bảng</td>\n",
       "      <td>28856</td>\n",
       "      <td>Máy đọc sách</td>\n",
       "      <td>28856.0</td>\n",
       "      <td>Máy đọc sách</td>\n",
       "      <td>28856.0</td>\n",
       "      <td>Máy đọc sách</td>\n",
       "      <td>0</td>\n",
       "      <td>0</td>\n",
       "    </tr>\n",
       "    <tr>\n",
       "      <th>3</th>\n",
       "      <td>1789</td>\n",
       "      <td>Điện Thoại - Máy Tính Bảng</td>\n",
       "      <td>1796</td>\n",
       "      <td>Điện thoại phổ thông</td>\n",
       "      <td>1796.0</td>\n",
       "      <td>Điện thoại phổ thông</td>\n",
       "      <td>1796.0</td>\n",
       "      <td>Điện thoại phổ thông</td>\n",
       "      <td>0</td>\n",
       "      <td>0</td>\n",
       "    </tr>\n",
       "    <tr>\n",
       "      <th>4</th>\n",
       "      <td>1789</td>\n",
       "      <td>Điện Thoại - Máy Tính Bảng</td>\n",
       "      <td>8061</td>\n",
       "      <td>Điện thoại bàn</td>\n",
       "      <td>8061.0</td>\n",
       "      <td>Điện thoại bàn</td>\n",
       "      <td>8061.0</td>\n",
       "      <td>Điện thoại bàn</td>\n",
       "      <td>0</td>\n",
       "      <td>0</td>\n",
       "    </tr>\n",
       "  </tbody>\n",
       "</table>\n",
       "</div>"
      ],
      "text/plain": [
       "  GroupID                   GroupName  MasterCategoryID  \\\n",
       "0    1789  Điện Thoại - Máy Tính Bảng              1795   \n",
       "1    1789  Điện Thoại - Máy Tính Bảng              1794   \n",
       "2    1789  Điện Thoại - Máy Tính Bảng             28856   \n",
       "3    1789  Điện Thoại - Máy Tính Bảng              1796   \n",
       "4    1789  Điện Thoại - Máy Tính Bảng              8061   \n",
       "\n",
       "      MasterCategoryName  CategoryID           CategoryName  SubCategoryID  \\\n",
       "0  Điện thoại Smartphone      1795.0  Điện thoại Smartphone         1795.0   \n",
       "1          Máy tính bảng      1794.0          Máy tính bảng         1794.0   \n",
       "2           Máy đọc sách     28856.0           Máy đọc sách        28856.0   \n",
       "3   Điện thoại phổ thông      1796.0   Điện thoại phổ thông         1796.0   \n",
       "4         Điện thoại bàn      8061.0         Điện thoại bàn         8061.0   \n",
       "\n",
       "         SubCategoryName  isCategory  isSubCategory  \n",
       "0  Điện thoại Smartphone           0              0  \n",
       "1          Máy tính bảng           0              0  \n",
       "2           Máy đọc sách           0              0  \n",
       "3   Điện thoại phổ thông           0              0  \n",
       "4         Điện thoại bàn           0              0  "
      ]
     },
     "execution_count": 88,
     "metadata": {},
     "output_type": "execute_result"
    }
   ],
   "source": [
    "print(\"Check null for each column in category\")\n",
    "for column in category_df.columns:\n",
    "    null_percentage = category_df[column].isnull().mean() * 100\n",
    "    print(f\"Null percentage for {column}: {null_percentage:.2f}%\")\n",
    "category_df.head()"
   ]
  },
  {
   "cell_type": "code",
   "execution_count": 89,
   "metadata": {},
   "outputs": [
    {
     "data": {
      "text/plain": [
       "Index(['GroupID', 'GroupName', 'MasterCategoryID', 'MasterCategoryName',\n",
       "       'CategoryID', 'CategoryName', 'SubCategoryID', 'SubCategoryName',\n",
       "       'isCategory', 'isSubCategory'],\n",
       "      dtype='object')"
      ]
     },
     "execution_count": 89,
     "metadata": {},
     "output_type": "execute_result"
    }
   ],
   "source": [
    "category_df.columns"
   ]
  },
  {
   "cell_type": "code",
   "execution_count": 90,
   "metadata": {},
   "outputs": [],
   "source": [
    "group = group.drop_duplicates()\n",
    "\n",
    "master_category = category_df[[\"MasterCategoryID\", \"GroupID\", \"MasterCategoryName\"]].drop_duplicates()\n",
    "master_category = master_category.rename(columns={\"MasterCategoryName\": \"Name\"})\n",
    "\n",
    "category = category_df[[\"CategoryID\", \"MasterCategoryID\", \"CategoryName\", \"isCategory\"]].drop_duplicates()\n",
    "category = category.rename(columns={\"CategoryName\": \"Name\"})\n",
    "\n",
    "sub_category = category_df[[\"SubCategoryID\", \"CategoryID\", \"SubCategoryName\", \"isSubCategory\"]].drop_duplicates()\n",
    "sub_category = sub_category.rename(columns={\"SubCategoryName\": \"Name\"})"
   ]
  },
  {
   "cell_type": "code",
   "execution_count": 91,
   "metadata": {},
   "outputs": [
    {
     "name": "stdout",
     "output_type": "stream",
     "text": [
      "Success to transform 11 master categories.\n",
      "Success to transform 59 categories.\n",
      "Success to transform 82 sub categories.\n"
     ]
    }
   ],
   "source": [
    "print(f\"Success to transform {len(master_category)} master categories.\")\n",
    "print(f\"Success to transform {len(category)} categories.\")\n",
    "print(f\"Success to transform {len(sub_category)} sub categories.\")"
   ]
  }
 ],
 "metadata": {
  "kernelspec": {
   "display_name": "Python 3",
   "language": "python",
   "name": "python3"
  },
  "language_info": {
   "codemirror_mode": {
    "name": "ipython",
    "version": 3
   },
   "file_extension": ".py",
   "mimetype": "text/x-python",
   "name": "python",
   "nbconvert_exporter": "python",
   "pygments_lexer": "ipython3",
   "version": "3.12.1"
  }
 },
 "nbformat": 4,
 "nbformat_minor": 2
}
