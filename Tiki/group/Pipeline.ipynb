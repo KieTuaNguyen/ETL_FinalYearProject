{
 "cells": [
  {
   "cell_type": "markdown",
   "metadata": {},
   "source": [
    "### LIBRARY"
   ]
  },
  {
   "cell_type": "code",
   "execution_count": 40,
   "metadata": {},
   "outputs": [],
   "source": [
    "import pandas as pd\n",
    "import requests\n",
    "import random\n",
    "import time\n",
    "import math"
   ]
  },
  {
   "cell_type": "markdown",
   "metadata": {},
   "source": [
    "### SET UP THE ENVIRONMENT"
   ]
  },
  {
   "cell_type": "code",
   "execution_count": 41,
   "metadata": {},
   "outputs": [],
   "source": [
    "HEADERS = {\n",
    "    \"User-Agent\": \"Mozilla/5.0 (Windows NT 10.0; Win64; x64) AppleWebKit/537.36 (KHTML, like Gecko) Chrome/121.0.0.0 Safari/537.36 Edg/121.0.0.0\",\n",
    "    \"Accept-Language\": 'en-US,en;q=0.9',\n",
    "    \"Accept-Encoding\": \"gzip, deflate, br, zstd\",\n",
    "    \"Referer\": \"https://tiki.vn/\",\n",
    "    \"From\": \"\",\n",
    "    \"af-ac-enc-dat\": \"\",\n",
    "    \"x-api-source\": \"pc\"\n",
    "}"
   ]
  },
  {
   "cell_type": "markdown",
   "metadata": {},
   "source": [
    "### EXTRACT GROUP DATA"
   ]
  },
  {
   "cell_type": "code",
   "execution_count": 42,
   "metadata": {},
   "outputs": [],
   "source": [
    "URL = \"https://api.tiki.vn/raiden/v2/menu-config?platform=desktop\""
   ]
  },
  {
   "cell_type": "code",
   "execution_count": 43,
   "metadata": {},
   "outputs": [
    {
     "name": "stdout",
     "output_type": "stream",
     "text": [
      "Success to fetch 26 groups.\n"
     ]
    }
   ],
   "source": [
    "response = requests.get(URL, headers=HEADERS)\n",
    "time.sleep(random.uniform(3.2, 8.7))\n",
    "if response.status_code == 200:\n",
    "    data = response.json()\n",
    "    print(f\"Success to fetch {len(data[\"menu_block\"][\"items\"])} groups.\")\n",
    "else:\n",
    "    print(\"Failed to fetch data:\", response.status_code)\n"
   ]
  },
  {
   "cell_type": "markdown",
   "metadata": {},
   "source": [
    "### EXTRACT GROUP ID\n",
    "Extract the group id = 1846, 1789"
   ]
  },
  {
   "cell_type": "code",
   "execution_count": 44,
   "metadata": {},
   "outputs": [
    {
     "name": "stdout",
     "output_type": "stream",
     "text": [
      "Success to extract 2 needed groups.\n",
      "['1789' '1846']\n"
     ]
    }
   ],
   "source": [
    "group = data[\"menu_block\"][\"items\"]\n",
    "group_list = []\n",
    "for group in group:\n",
    "    link = group[\"link\"]\n",
    "    group_id = link.split(\"/\")[-1][1:]\n",
    "    text = group[\"text\"]\n",
    "    \n",
    "    # if group_id in [\"1789\"]:\n",
    "    if group_id in [\"1846\", \"1789\"]:\n",
    "        group_list.append([group_id, text])\n",
    "\n",
    "group = pd.DataFrame(group_list, columns=[\"GroupID\", \"Name\"])\n",
    "print(f\"Success to extract {len(group)} needed groups.\")\n",
    "print(group[\"GroupID\"].values)"
   ]
  },
  {
   "cell_type": "markdown",
   "metadata": {},
   "source": [
    "### EXTRACT CATEGORY HIERARCHY"
   ]
  },
  {
   "cell_type": "code",
   "execution_count": 45,
   "metadata": {},
   "outputs": [],
   "source": [
    "category_list = []\n",
    "for group_id, group_name in zip(group[\"GroupID\"], group[\"Name\"]):\n",
    "    parent_url = f\"https://tiki.vn/api/v2/categories?parent_id={group_id}\"\n",
    "    parent_response = requests.get(parent_url, headers=HEADERS)\n",
    "    time.sleep(random.uniform(3.2, 8.7))\n",
    "    if parent_response.status_code == 200:\n",
    "        parent_data = parent_response.json()\n",
    "        if not parent_data[\"data\"]:\n",
    "            category_list.append([group_id, group_name, None, None, None, None, None, None])\n",
    "        else:\n",
    "            for parent_category in parent_data[\"data\"]:\n",
    "                parent_id = parent_category[\"id\"]\n",
    "                parent_name = parent_category[\"name\"]\n",
    "                \n",
    "                child_url = f\"https://tiki.vn/api/v2/categories?parent_id={parent_id}\"\n",
    "                child_response = requests.get(child_url, headers=HEADERS)\n",
    "                time.sleep(random.uniform(3.2, 8.7))\n",
    "                \n",
    "                if child_response.status_code == 200:\n",
    "                    child_data = child_response.json()\n",
    "                    if not child_data[\"data\"]:\n",
    "                        category_list.append([group_id, group_name, parent_id, parent_name, None, None, None, None])\n",
    "                    else:\n",
    "                        for child_category in child_data[\"data\"]:\n",
    "                            child_id = child_category[\"id\"]\n",
    "                            child_name = child_category[\"name\"]\n",
    "                            \n",
    "                            type_url = f\"https://tiki.vn/api/v2/categories?parent_id={child_id}\"\n",
    "                            type_response = requests.get(type_url, headers=HEADERS)\n",
    "                            time.sleep(random.uniform(3.2, 8.7))\n",
    "                            \n",
    "                            if type_response.status_code == 200:\n",
    "                                type_data = type_response.json()\n",
    "                                if type_data[\"data\"]:\n",
    "                                    for type_item in type_data[\"data\"]:\n",
    "                                        type_id = type_item.get(\"id\")\n",
    "                                        type_name = type_item.get(\"name\")\n",
    "                                        category_list.append([group_id, group_name, parent_id, parent_name, child_id, child_name, type_id, type_name])\n",
    "                                else:\n",
    "                                    category_list.append([group_id, group_name, parent_id, parent_name, child_id, child_name, None, None])\n",
    "\n",
    "category_df = pd.DataFrame(category_list, columns=[\"GroupID\", \"GroupName\", \"MasterCategoryID\", \"MasterCategoryName\", \"CategoryID\", \"CategoryName\", \"SubCategoryID\", \"SubCategoryName\"])"
   ]
  },
  {
   "cell_type": "code",
   "execution_count": 46,
   "metadata": {},
   "outputs": [
    {
     "name": "stdout",
     "output_type": "stream",
     "text": [
      "Success to fetch 82 categories.\n"
     ]
    }
   ],
   "source": [
    "print(f\"Success to fetch {len(category_df)} categories.\")"
   ]
  },
  {
   "cell_type": "markdown",
   "metadata": {},
   "source": [
    "### TRANSFORM CATEGORY HIERARCHY"
   ]
  },
  {
   "cell_type": "code",
   "execution_count": 48,
   "metadata": {},
   "outputs": [],
   "source": [
    "def remove_single_category(df):\n",
    "    # Group the DataFrame by MasterCategoryID and count the unique CategoryID values\n",
    "    category_counts = df.groupby('MasterCategoryID')['CategoryID'].nunique()\n",
    "    \n",
    "    # Create a mask for MasterCategoryIDs with only one CategoryID\n",
    "    single_category_mask = category_counts == 1\n",
    "    \n",
    "    # Drop the CategoryID and CategoryName columns for rows where there is only one CategoryID\n",
    "    df.loc[df['MasterCategoryID'].isin(single_category_mask[single_category_mask].index), ['CategoryID', 'CategoryName']] = [None, None]\n",
    "    \n",
    "    return df"
   ]
  },
  {
   "cell_type": "code",
   "execution_count": 49,
   "metadata": {},
   "outputs": [],
   "source": [
    "cleaned_df = remove_single_category(category_df)"
   ]
  },
  {
   "cell_type": "code",
   "execution_count": 50,
   "metadata": {},
   "outputs": [],
   "source": [
    "def transform_category(row):\n",
    "    # Handle MasterCategory and Category\n",
    "    if pd.isna(row['CategoryID']):\n",
    "        master_category_id = row['MasterCategoryID']\n",
    "        master_category_name = row['MasterCategoryName']\n",
    "        category_id = row['MasterCategoryID']\n",
    "        category_name = row['MasterCategoryName']\n",
    "        is_category = 0\n",
    "    else:\n",
    "        master_category_id = row['MasterCategoryID']\n",
    "        master_category_name = row['MasterCategoryName']\n",
    "        category_id = row['CategoryID']\n",
    "        category_name = row['CategoryName']\n",
    "        is_category = 1\n",
    "\n",
    "    # Handle SubCategory\n",
    "    if pd.isna(row['SubCategoryID']):\n",
    "        sub_category_id = category_id\n",
    "        sub_category_name = category_name\n",
    "        is_sub_category = 0\n",
    "    else:\n",
    "        sub_category_id = row['SubCategoryID']\n",
    "        sub_category_name = row['SubCategoryName']\n",
    "        is_sub_category = 1\n",
    "\n",
    "    return pd.Series([\n",
    "        master_category_id, master_category_name, category_id, category_name,\n",
    "        is_category, sub_category_id, sub_category_name, is_sub_category\n",
    "    ])"
   ]
  },
  {
   "cell_type": "code",
   "execution_count": 51,
   "metadata": {},
   "outputs": [
    {
     "name": "stdout",
     "output_type": "stream",
     "text": [
      "Check null for each column in category\n",
      "Null percentage for GroupID: 0.00%\n",
      "Null percentage for GroupName: 0.00%\n",
      "Null percentage for MasterCategoryID: 0.00%\n",
      "Null percentage for MasterCategoryName: 0.00%\n",
      "Null percentage for CategoryID: 6.10%\n",
      "Null percentage for CategoryName: 6.10%\n",
      "Null percentage for SubCategoryID: 57.32%\n",
      "Null percentage for SubCategoryName: 57.32%\n"
     ]
    },
    {
     "data": {
      "text/html": [
       "<div>\n",
       "<style scoped>\n",
       "    .dataframe tbody tr th:only-of-type {\n",
       "        vertical-align: middle;\n",
       "    }\n",
       "\n",
       "    .dataframe tbody tr th {\n",
       "        vertical-align: top;\n",
       "    }\n",
       "\n",
       "    .dataframe thead th {\n",
       "        text-align: right;\n",
       "    }\n",
       "</style>\n",
       "<table border=\"1\" class=\"dataframe\">\n",
       "  <thead>\n",
       "    <tr style=\"text-align: right;\">\n",
       "      <th></th>\n",
       "      <th>GroupID</th>\n",
       "      <th>GroupName</th>\n",
       "      <th>MasterCategoryID</th>\n",
       "      <th>MasterCategoryName</th>\n",
       "      <th>CategoryID</th>\n",
       "      <th>CategoryName</th>\n",
       "      <th>SubCategoryID</th>\n",
       "      <th>SubCategoryName</th>\n",
       "    </tr>\n",
       "  </thead>\n",
       "  <tbody>\n",
       "    <tr>\n",
       "      <th>0</th>\n",
       "      <td>1789</td>\n",
       "      <td>Điện Thoại - Máy Tính Bảng</td>\n",
       "      <td>1795</td>\n",
       "      <td>Điện thoại Smartphone</td>\n",
       "      <td>NaN</td>\n",
       "      <td>None</td>\n",
       "      <td>NaN</td>\n",
       "      <td>None</td>\n",
       "    </tr>\n",
       "    <tr>\n",
       "      <th>1</th>\n",
       "      <td>1789</td>\n",
       "      <td>Điện Thoại - Máy Tính Bảng</td>\n",
       "      <td>1794</td>\n",
       "      <td>Máy tính bảng</td>\n",
       "      <td>NaN</td>\n",
       "      <td>None</td>\n",
       "      <td>NaN</td>\n",
       "      <td>None</td>\n",
       "    </tr>\n",
       "    <tr>\n",
       "      <th>2</th>\n",
       "      <td>1789</td>\n",
       "      <td>Điện Thoại - Máy Tính Bảng</td>\n",
       "      <td>28856</td>\n",
       "      <td>Máy đọc sách</td>\n",
       "      <td>NaN</td>\n",
       "      <td>None</td>\n",
       "      <td>NaN</td>\n",
       "      <td>None</td>\n",
       "    </tr>\n",
       "    <tr>\n",
       "      <th>3</th>\n",
       "      <td>1789</td>\n",
       "      <td>Điện Thoại - Máy Tính Bảng</td>\n",
       "      <td>1796</td>\n",
       "      <td>Điện thoại phổ thông</td>\n",
       "      <td>NaN</td>\n",
       "      <td>None</td>\n",
       "      <td>NaN</td>\n",
       "      <td>None</td>\n",
       "    </tr>\n",
       "    <tr>\n",
       "      <th>4</th>\n",
       "      <td>1789</td>\n",
       "      <td>Điện Thoại - Máy Tính Bảng</td>\n",
       "      <td>8061</td>\n",
       "      <td>Điện thoại bàn</td>\n",
       "      <td>NaN</td>\n",
       "      <td>None</td>\n",
       "      <td>NaN</td>\n",
       "      <td>None</td>\n",
       "    </tr>\n",
       "  </tbody>\n",
       "</table>\n",
       "</div>"
      ],
      "text/plain": [
       "   GroupID                   GroupName  MasterCategoryID  \\\n",
       "0     1789  Điện Thoại - Máy Tính Bảng              1795   \n",
       "1     1789  Điện Thoại - Máy Tính Bảng              1794   \n",
       "2     1789  Điện Thoại - Máy Tính Bảng             28856   \n",
       "3     1789  Điện Thoại - Máy Tính Bảng              1796   \n",
       "4     1789  Điện Thoại - Máy Tính Bảng              8061   \n",
       "\n",
       "      MasterCategoryName  CategoryID CategoryName  SubCategoryID  \\\n",
       "0  Điện thoại Smartphone         NaN         None            NaN   \n",
       "1          Máy tính bảng         NaN         None            NaN   \n",
       "2           Máy đọc sách         NaN         None            NaN   \n",
       "3   Điện thoại phổ thông         NaN         None            NaN   \n",
       "4         Điện thoại bàn         NaN         None            NaN   \n",
       "\n",
       "  SubCategoryName  \n",
       "0            None  \n",
       "1            None  \n",
       "2            None  \n",
       "3            None  \n",
       "4            None  "
      ]
     },
     "execution_count": 51,
     "metadata": {},
     "output_type": "execute_result"
    }
   ],
   "source": [
    "print(\"Check null for each column in category\")\n",
    "for column in category_df.columns:\n",
    "    null_percentage = category_df[column].isnull().mean() * 100\n",
    "    print(f\"Null percentage for {column}: {null_percentage:.2f}%\")\n",
    "category_df.head()"
   ]
  },
  {
   "cell_type": "code",
   "execution_count": 52,
   "metadata": {},
   "outputs": [],
   "source": [
    "category_df[['MasterCategoryID', 'MasterCategoryName', 'CategoryID', 'CategoryName',\n",
    "             'isCategory', 'SubCategoryID', 'SubCategoryName', 'isSubCategory']] = category_df.apply(transform_category, axis=1, result_type='expand')"
   ]
  },
  {
   "cell_type": "code",
   "execution_count": 53,
   "metadata": {},
   "outputs": [
    {
     "name": "stdout",
     "output_type": "stream",
     "text": [
      "Check null for each column in category\n",
      "Null percentage for GroupID: 0.00%\n",
      "Null percentage for GroupName: 0.00%\n",
      "Null percentage for MasterCategoryID: 0.00%\n",
      "Null percentage for MasterCategoryName: 0.00%\n",
      "Null percentage for CategoryID: 0.00%\n",
      "Null percentage for CategoryName: 0.00%\n",
      "Null percentage for SubCategoryID: 0.00%\n",
      "Null percentage for SubCategoryName: 0.00%\n",
      "Null percentage for isCategory: 0.00%\n",
      "Null percentage for isSubCategory: 0.00%\n"
     ]
    },
    {
     "data": {
      "text/html": [
       "<div>\n",
       "<style scoped>\n",
       "    .dataframe tbody tr th:only-of-type {\n",
       "        vertical-align: middle;\n",
       "    }\n",
       "\n",
       "    .dataframe tbody tr th {\n",
       "        vertical-align: top;\n",
       "    }\n",
       "\n",
       "    .dataframe thead th {\n",
       "        text-align: right;\n",
       "    }\n",
       "</style>\n",
       "<table border=\"1\" class=\"dataframe\">\n",
       "  <thead>\n",
       "    <tr style=\"text-align: right;\">\n",
       "      <th></th>\n",
       "      <th>GroupID</th>\n",
       "      <th>GroupName</th>\n",
       "      <th>MasterCategoryID</th>\n",
       "      <th>MasterCategoryName</th>\n",
       "      <th>CategoryID</th>\n",
       "      <th>CategoryName</th>\n",
       "      <th>SubCategoryID</th>\n",
       "      <th>SubCategoryName</th>\n",
       "      <th>isCategory</th>\n",
       "      <th>isSubCategory</th>\n",
       "    </tr>\n",
       "  </thead>\n",
       "  <tbody>\n",
       "    <tr>\n",
       "      <th>0</th>\n",
       "      <td>1789</td>\n",
       "      <td>Điện Thoại - Máy Tính Bảng</td>\n",
       "      <td>1795</td>\n",
       "      <td>Điện thoại Smartphone</td>\n",
       "      <td>1795.0</td>\n",
       "      <td>Điện thoại Smartphone</td>\n",
       "      <td>1795.0</td>\n",
       "      <td>Điện thoại Smartphone</td>\n",
       "      <td>0</td>\n",
       "      <td>0</td>\n",
       "    </tr>\n",
       "    <tr>\n",
       "      <th>1</th>\n",
       "      <td>1789</td>\n",
       "      <td>Điện Thoại - Máy Tính Bảng</td>\n",
       "      <td>1794</td>\n",
       "      <td>Máy tính bảng</td>\n",
       "      <td>1794.0</td>\n",
       "      <td>Máy tính bảng</td>\n",
       "      <td>1794.0</td>\n",
       "      <td>Máy tính bảng</td>\n",
       "      <td>0</td>\n",
       "      <td>0</td>\n",
       "    </tr>\n",
       "    <tr>\n",
       "      <th>2</th>\n",
       "      <td>1789</td>\n",
       "      <td>Điện Thoại - Máy Tính Bảng</td>\n",
       "      <td>28856</td>\n",
       "      <td>Máy đọc sách</td>\n",
       "      <td>28856.0</td>\n",
       "      <td>Máy đọc sách</td>\n",
       "      <td>28856.0</td>\n",
       "      <td>Máy đọc sách</td>\n",
       "      <td>0</td>\n",
       "      <td>0</td>\n",
       "    </tr>\n",
       "    <tr>\n",
       "      <th>3</th>\n",
       "      <td>1789</td>\n",
       "      <td>Điện Thoại - Máy Tính Bảng</td>\n",
       "      <td>1796</td>\n",
       "      <td>Điện thoại phổ thông</td>\n",
       "      <td>1796.0</td>\n",
       "      <td>Điện thoại phổ thông</td>\n",
       "      <td>1796.0</td>\n",
       "      <td>Điện thoại phổ thông</td>\n",
       "      <td>0</td>\n",
       "      <td>0</td>\n",
       "    </tr>\n",
       "    <tr>\n",
       "      <th>4</th>\n",
       "      <td>1789</td>\n",
       "      <td>Điện Thoại - Máy Tính Bảng</td>\n",
       "      <td>8061</td>\n",
       "      <td>Điện thoại bàn</td>\n",
       "      <td>8061.0</td>\n",
       "      <td>Điện thoại bàn</td>\n",
       "      <td>8061.0</td>\n",
       "      <td>Điện thoại bàn</td>\n",
       "      <td>0</td>\n",
       "      <td>0</td>\n",
       "    </tr>\n",
       "  </tbody>\n",
       "</table>\n",
       "</div>"
      ],
      "text/plain": [
       "   GroupID                   GroupName  MasterCategoryID  \\\n",
       "0     1789  Điện Thoại - Máy Tính Bảng              1795   \n",
       "1     1789  Điện Thoại - Máy Tính Bảng              1794   \n",
       "2     1789  Điện Thoại - Máy Tính Bảng             28856   \n",
       "3     1789  Điện Thoại - Máy Tính Bảng              1796   \n",
       "4     1789  Điện Thoại - Máy Tính Bảng              8061   \n",
       "\n",
       "      MasterCategoryName  CategoryID           CategoryName  SubCategoryID  \\\n",
       "0  Điện thoại Smartphone      1795.0  Điện thoại Smartphone         1795.0   \n",
       "1          Máy tính bảng      1794.0          Máy tính bảng         1794.0   \n",
       "2           Máy đọc sách     28856.0           Máy đọc sách        28856.0   \n",
       "3   Điện thoại phổ thông      1796.0   Điện thoại phổ thông         1796.0   \n",
       "4         Điện thoại bàn      8061.0         Điện thoại bàn         8061.0   \n",
       "\n",
       "         SubCategoryName  isCategory  isSubCategory  \n",
       "0  Điện thoại Smartphone           0              0  \n",
       "1          Máy tính bảng           0              0  \n",
       "2           Máy đọc sách           0              0  \n",
       "3   Điện thoại phổ thông           0              0  \n",
       "4         Điện thoại bàn           0              0  "
      ]
     },
     "execution_count": 53,
     "metadata": {},
     "output_type": "execute_result"
    }
   ],
   "source": [
    "print(\"Check null for each column in category\")\n",
    "for column in category_df.columns:\n",
    "    null_percentage = category_df[column].isnull().mean() * 100\n",
    "    print(f\"Null percentage for {column}: {null_percentage:.2f}%\")\n",
    "category_df.head()"
   ]
  },
  {
   "cell_type": "code",
   "execution_count": 54,
   "metadata": {},
   "outputs": [
    {
     "data": {
      "text/plain": [
       "Index(['GroupID', 'GroupName', 'MasterCategoryID', 'MasterCategoryName',\n",
       "       'CategoryID', 'CategoryName', 'SubCategoryID', 'SubCategoryName',\n",
       "       'isCategory', 'isSubCategory'],\n",
       "      dtype='object')"
      ]
     },
     "execution_count": 54,
     "metadata": {},
     "output_type": "execute_result"
    }
   ],
   "source": [
    "category_df.columns"
   ]
  },
  {
   "cell_type": "code",
   "execution_count": 55,
   "metadata": {},
   "outputs": [],
   "source": [
    "category_df[\"GroupID\"] = category_df[\"GroupID\"].astype(int)\n",
    "category_df[\"MasterCategoryID\"] = category_df[\"MasterCategoryID\"].astype(int)\n",
    "category_df[\"CategoryID\"] = category_df[\"CategoryID\"].astype(int)\n",
    "category_df[\"SubCategoryID\"] = category_df[\"SubCategoryID\"].astype(int)"
   ]
  },
  {
   "cell_type": "code",
   "execution_count": 56,
   "metadata": {},
   "outputs": [],
   "source": [
    "group = group.drop_duplicates()\n",
    "\n",
    "master_category = category_df[[\"MasterCategoryID\", \"GroupID\", \"MasterCategoryName\"]].drop_duplicates()\n",
    "master_category = master_category.rename(columns={\"MasterCategoryName\": \"Name\"})\n",
    "\n",
    "category = category_df[[\"CategoryID\", \"MasterCategoryID\", \"CategoryName\", \"isCategory\"]].drop_duplicates()\n",
    "category = category.rename(columns={\"CategoryName\": \"Name\"})\n",
    "\n",
    "sub_category = category_df[[\"SubCategoryID\", \"CategoryID\", \"SubCategoryName\", \"isSubCategory\"]].drop_duplicates()\n",
    "sub_category = sub_category.rename(columns={\"SubCategoryName\": \"Name\"})"
   ]
  },
  {
   "cell_type": "code",
   "execution_count": 57,
   "metadata": {},
   "outputs": [
    {
     "name": "stdout",
     "output_type": "stream",
     "text": [
      "Success to transform 11 master categories.\n",
      "Success to transform 59 categories.\n",
      "Success to transform 82 sub categories.\n"
     ]
    }
   ],
   "source": [
    "print(f\"Success to transform {len(master_category)} master categories.\")\n",
    "print(f\"Success to transform {len(category)} categories.\")\n",
    "print(f\"Success to transform {len(sub_category)} sub categories.\")"
   ]
  },
  {
   "cell_type": "markdown",
   "metadata": {},
   "source": [
    "### EXTRACT PRODUCT ID THROUGH SUB-CATEGORY ID"
   ]
  },
  {
   "cell_type": "code",
   "execution_count": 62,
   "metadata": {},
   "outputs": [],
   "source": [
    "master_category = pd.read_csv(\"category_data/master_category.csv\")\n",
    "category = pd.read_csv(\"category_data/category.csv\")\n",
    "sub_category = pd.read_csv(\"category_data/sub_category.csv\")\n",
    "\n",
    "# master_category = pd.DataFrame(master_category)\n",
    "# category = pd.DataFrame(category)\n",
    "# sub_category = pd.DataFrame(sub_category)"
   ]
  },
  {
   "cell_type": "code",
   "execution_count": null,
   "metadata": {},
   "outputs": [],
   "source": [
    "# base_url = \"https://tiki.vn/api/personalish/v1/blocks/listings\"\n",
    "# params = {\"category\": 1795, \n",
    "#           \"page\": 1}\n",
    "# # Make initial request to get total count\n",
    "# response = requests.get(base_url, headers=HEADERS, params=params)\n",
    "# time.sleep(random.uniform(3.2, 8.7))\n",
    "# data = response.json()\n",
    "# last_page = data[\"paging\"][\"last_page\"]\n",
    "\n",
    "# product_ids = []\n",
    "# for page in range(1, last_page + 1):\n",
    "#     params = {\"category\": 1795, \"page\": page}\n",
    "#     response = requests.get(base_url, headers=HEADERS, params=params)\n",
    "#     time.sleep(random.uniform(3.2, 8.7))\n",
    "    \n",
    "#     data = response.json()\n",
    "#     for item in data[\"data\"]:\n",
    "#         product_ids.append(item[\"id\"])\n",
    "        \n",
    "# product_ids"
   ]
  },
  {
   "cell_type": "code",
   "execution_count": 67,
   "metadata": {},
   "outputs": [],
   "source": [
    "def retrieve_product_ids(sub_category_id):\n",
    "    base_url = \"https://tiki.vn/api/personalish/v1/blocks/listings\"\n",
    "    PARAMS = {\"category\": sub_category_id, \n",
    "              \"page\": 1}\n",
    "    response = requests.get(base_url, headers=HEADERS, params=PARAMS)\n",
    "    time.sleep(random.uniform(3.2, 8.7))\n",
    "    \n",
    "    data = response.json()\n",
    "    total_page = data[\"paging\"][\"last_page\"]\n",
    "    total_product = data[\"paging\"][\"total\"]\n",
    "    \n",
    "    print(f\"Total page for sub-category {sub_category_id} ({total_product}): {total_page}\")\n",
    "\n",
    "    # Fetch data from each page\n",
    "    product_ids = []\n",
    "    for page in range(1, total_page + 1):\n",
    "        PARAMS = {\"category\": sub_category_id, \n",
    "                  \"page\": page}\n",
    "        response = requests.get(base_url, headers=HEADERS, params=PARAMS)\n",
    "        time.sleep(random.uniform(3.2, 8.7))\n",
    "        \n",
    "        data = response.json()\n",
    "        for item in data[\"data\"]:\n",
    "            product_ids.append(item[\"id\"])\n",
    "\n",
    "    return product_ids"
   ]
  },
  {
   "cell_type": "code",
   "execution_count": 68,
   "metadata": {},
   "outputs": [
    {
     "name": "stdout",
     "output_type": "stream",
     "text": [
      "Total page for sub-category 1795 (314): 8\n",
      "Total page for sub-category 1794 (83): 3\n",
      "Total page for sub-category 28856 (48): 2\n",
      "Total page for sub-category 1796 (75): 2\n",
      "Total page for sub-category 8061 (62): 2\n",
      "Total page for sub-category 29010 (628): 16\n",
      "Total page for sub-category 2458 (2): 1\n",
      "Total page for sub-category 5584 (103): 3\n",
      "Total page for sub-category 29008 (7): 1\n",
      "Total page for sub-category 29012 (0): 0\n",
      "Total page for sub-category 28932 (410): 11\n",
      "Total page for sub-category 12672 (401): 11\n",
      "Total page for sub-category 28934 (15): 1\n",
      "Total page for sub-category 28930 (81): 3\n",
      "Total page for sub-category 6556 (191): 5\n",
      "Total page for sub-category 6561 (61): 2\n",
      "Total page for sub-category 8089 (9): 1\n",
      "Total page for sub-category 28936 (416): 11\n",
      "Total page for sub-category 28938 (2): 1\n",
      "Total page for sub-category 8087 (29): 1\n",
      "Total page for sub-category 28940 (628): 16\n",
      "Total page for sub-category 6255 (213): 6\n",
      "Total page for sub-category 28942 (767): 20\n",
      "Total page for sub-category 28944 (2000): 50\n",
      "Total page for sub-category 4542 (49): 2\n",
      "Total page for sub-category 28946 (388): 10\n",
      "Total page for sub-category 28948 (554): 14\n",
      "Total page for sub-category 28950 (52): 2\n",
      "Total page for sub-category 28952 (324): 9\n",
      "Total page for sub-category 28960 (151): 4\n",
      "Total page for sub-category 29002 (2): 1\n",
      "Total page for sub-category 30020 (475): 12\n",
      "Total page for sub-category 10089 (42): 2\n",
      "Total page for sub-category 12886 (660): 17\n",
      "Total page for sub-category 8088 (1): 1\n",
      "Total page for sub-category 29006 (138): 4\n",
      "Total page for sub-category 12890 (89): 3\n",
      "Total page for sub-category 4051 (112): 3\n",
      "Total page for sub-category 2146 (400): 10\n",
      "Total page for sub-category 28840 (99): 3\n",
      "Total page for sub-category 28842 (94): 3\n",
      "Total page for sub-category 5350 (270): 7\n",
      "Total page for sub-category 5349 (170): 5\n",
      "Total page for sub-category 1828 (231): 6\n",
      "Total page for sub-category 28838 (35): 1\n",
      "Total page for sub-category 4316 (49): 2\n",
      "Total page for sub-category 4293 (465): 12\n",
      "Total page for sub-category 4294 (142): 4\n",
      "Total page for sub-category 4343 (95): 3\n",
      "Total page for sub-category 4345 (231): 6\n",
      "Total page for sub-category 4454 (388): 10\n",
      "Total page for sub-category 4642 (1840): 46\n",
      "Total page for sub-category 28894 (188): 5\n",
      "Total page for sub-category 4346 (9): 1\n",
      "Total page for sub-category 7361 (89): 3\n",
      "Total page for sub-category 28896 (15): 1\n",
      "Total page for sub-category 4585 (13): 1\n",
      "Total page for sub-category 8094 (52): 2\n",
      "Total page for sub-category 7369 (19): 1\n",
      "Total page for sub-category 67081 (1): 1\n",
      "Total page for sub-category 29014 (22): 1\n",
      "Total page for sub-category 29016 (137): 4\n",
      "Total page for sub-category 28900 (417): 11\n",
      "Total page for sub-category 11964 (204): 6\n",
      "Total page for sub-category 11956 (292): 8\n",
      "Total page for sub-category 11962 (167): 5\n",
      "Total page for sub-category 11960 (284): 8\n",
      "Total page for sub-category 28904 (518): 13\n",
      "Total page for sub-category 28906 (118): 3\n",
      "Total page for sub-category 11958 (155): 4\n",
      "Total page for sub-category 11966 (124): 4\n",
      "Total page for sub-category 2679 (147): 4\n",
      "Total page for sub-category 12298 (213): 6\n",
      "Total page for sub-category 28908 (30): 1\n",
      "Total page for sub-category 28910 (9): 1\n",
      "Total page for sub-category 28914 (29): 1\n",
      "Total page for sub-category 28916 (79): 2\n",
      "Total page for sub-category 11968 (368): 10\n",
      "Total page for sub-category 28920 (2000): 50\n",
      "Total page for sub-category 28922 (2000): 50\n",
      "Total page for sub-category 28924 (2000): 50\n",
      "Total page for sub-category 28926 (36): 1\n"
     ]
    }
   ],
   "source": [
    "product_df = []\n",
    "\n",
    "for sub_category_id in sub_category['SubCategoryID']:\n",
    "    product_ids = retrieve_product_ids(sub_category_id)\n",
    "    for product_id in product_ids:\n",
    "        product_df.append({'SubCategoryID': sub_category_id, 'ProductID': product_id})\n",
    "\n",
    "# Convert the list of dictionaries to a DataFrame\n",
    "product_ids_df = pd.DataFrame(product_df)"
   ]
  },
  {
   "cell_type": "code",
   "execution_count": 69,
   "metadata": {},
   "outputs": [
    {
     "data": {
      "text/html": [
       "<div>\n",
       "<style scoped>\n",
       "    .dataframe tbody tr th:only-of-type {\n",
       "        vertical-align: middle;\n",
       "    }\n",
       "\n",
       "    .dataframe tbody tr th {\n",
       "        vertical-align: top;\n",
       "    }\n",
       "\n",
       "    .dataframe thead th {\n",
       "        text-align: right;\n",
       "    }\n",
       "</style>\n",
       "<table border=\"1\" class=\"dataframe\">\n",
       "  <thead>\n",
       "    <tr style=\"text-align: right;\">\n",
       "      <th></th>\n",
       "      <th>SubCategoryID</th>\n",
       "      <th>ProductID</th>\n",
       "    </tr>\n",
       "  </thead>\n",
       "  <tbody>\n",
       "    <tr>\n",
       "      <th>0</th>\n",
       "      <td>1795</td>\n",
       "      <td>184036446</td>\n",
       "    </tr>\n",
       "    <tr>\n",
       "      <th>1</th>\n",
       "      <td>1795</td>\n",
       "      <td>184059211</td>\n",
       "    </tr>\n",
       "    <tr>\n",
       "      <th>2</th>\n",
       "      <td>1795</td>\n",
       "      <td>57809866</td>\n",
       "    </tr>\n",
       "    <tr>\n",
       "      <th>3</th>\n",
       "      <td>1795</td>\n",
       "      <td>120295859</td>\n",
       "    </tr>\n",
       "    <tr>\n",
       "      <th>4</th>\n",
       "      <td>1795</td>\n",
       "      <td>123345348</td>\n",
       "    </tr>\n",
       "    <tr>\n",
       "      <th>...</th>\n",
       "      <td>...</td>\n",
       "      <td>...</td>\n",
       "    </tr>\n",
       "    <tr>\n",
       "      <th>23821</th>\n",
       "      <td>28926</td>\n",
       "      <td>249024285</td>\n",
       "    </tr>\n",
       "    <tr>\n",
       "      <th>23822</th>\n",
       "      <td>28926</td>\n",
       "      <td>204425773</td>\n",
       "    </tr>\n",
       "    <tr>\n",
       "      <th>23823</th>\n",
       "      <td>28926</td>\n",
       "      <td>13429081</td>\n",
       "    </tr>\n",
       "    <tr>\n",
       "      <th>23824</th>\n",
       "      <td>28926</td>\n",
       "      <td>72843893</td>\n",
       "    </tr>\n",
       "    <tr>\n",
       "      <th>23825</th>\n",
       "      <td>28926</td>\n",
       "      <td>90524342</td>\n",
       "    </tr>\n",
       "  </tbody>\n",
       "</table>\n",
       "<p>23826 rows × 2 columns</p>\n",
       "</div>"
      ],
      "text/plain": [
       "       SubCategoryID  ProductID\n",
       "0               1795  184036446\n",
       "1               1795  184059211\n",
       "2               1795   57809866\n",
       "3               1795  120295859\n",
       "4               1795  123345348\n",
       "...              ...        ...\n",
       "23821          28926  249024285\n",
       "23822          28926  204425773\n",
       "23823          28926   13429081\n",
       "23824          28926   72843893\n",
       "23825          28926   90524342\n",
       "\n",
       "[23826 rows x 2 columns]"
      ]
     },
     "execution_count": 69,
     "metadata": {},
     "output_type": "execute_result"
    }
   ],
   "source": [
    "product_ids_df"
   ]
  }
 ],
 "metadata": {
  "kernelspec": {
   "display_name": "Python 3",
   "language": "python",
   "name": "python3"
  },
  "language_info": {
   "codemirror_mode": {
    "name": "ipython",
    "version": 3
   },
   "file_extension": ".py",
   "mimetype": "text/x-python",
   "name": "python",
   "nbconvert_exporter": "python",
   "pygments_lexer": "ipython3",
   "version": "3.12.1"
  }
 },
 "nbformat": 4,
 "nbformat_minor": 2
}
