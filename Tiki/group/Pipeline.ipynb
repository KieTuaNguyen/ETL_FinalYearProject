{
 "cells": [
  {
   "cell_type": "markdown",
   "metadata": {},
   "source": [
    "### LIBRARY"
   ]
  },
  {
   "cell_type": "code",
   "execution_count": 1,
   "metadata": {},
   "outputs": [],
   "source": [
    "import pandas as pd\n",
    "import requests\n",
    "import random\n",
    "import time"
   ]
  },
  {
   "cell_type": "markdown",
   "metadata": {},
   "source": [
    "### SET UP THE ENVIRONMENT"
   ]
  },
  {
   "cell_type": "code",
   "execution_count": 2,
   "metadata": {},
   "outputs": [],
   "source": [
    "HEADERS = {\n",
    "    \"User-Agent\": \"Mozilla/5.0 (Windows NT 10.0; Win64; x64) AppleWebKit/537.36 (KHTML, like Gecko) Chrome/121.0.0.0 Safari/537.36 Edg/121.0.0.0\",\n",
    "    \"Accept-Language\": 'en-US,en;q=0.9',\n",
    "    \"Accept-Encoding\": \"gzip, deflate, br, zstd\",\n",
    "    \"Referer\": \"https://tiki.vn/\",\n",
    "    \"From\": \"\",\n",
    "    \"af-ac-enc-dat\": \"\",\n",
    "    \"x-api-source\": \"pc\"\n",
    "}"
   ]
  },
  {
   "cell_type": "markdown",
   "metadata": {},
   "source": [
    "### EXTRACT GROUP DATA"
   ]
  },
  {
   "cell_type": "code",
   "execution_count": 3,
   "metadata": {},
   "outputs": [],
   "source": [
    "URL = \"https://api.tiki.vn/raiden/v2/menu-config?platform=desktop\""
   ]
  },
  {
   "cell_type": "code",
   "execution_count": 4,
   "metadata": {},
   "outputs": [
    {
     "name": "stdout",
     "output_type": "stream",
     "text": [
      "Success to fetch 26 groups.\n"
     ]
    }
   ],
   "source": [
    "response = requests.get(URL, headers=HEADERS)\n",
    "time.sleep(random.uniform(3.2, 8.7))\n",
    "if response.status_code == 200:\n",
    "    data = response.json()\n",
    "    print(f\"Success to fetch {len(data[\"menu_block\"][\"items\"])} groups.\")\n",
    "else:\n",
    "    print(\"Failed to fetch data:\", response.status_code)\n"
   ]
  },
  {
   "cell_type": "markdown",
   "metadata": {},
   "source": [
    "### EXTRACT GROUP ID\n",
    "Extract the group id = 1846, 1789"
   ]
  },
  {
   "cell_type": "code",
   "execution_count": 5,
   "metadata": {},
   "outputs": [
    {
     "name": "stdout",
     "output_type": "stream",
     "text": [
      "Success to extract 3 needed groups.\n",
      "['8322' '1789' '1846']\n"
     ]
    }
   ],
   "source": [
    "group = data[\"menu_block\"][\"items\"]\n",
    "group_list = []\n",
    "for group in group:\n",
    "    link = group[\"link\"]\n",
    "    group_id = link.split(\"/\")[-1][1:]\n",
    "    text = group[\"text\"]\n",
    "    \n",
    "    if group_id in [\"8322\", \"1846\", \"1789\"]:\n",
    "        group_list.append([group_id, text])\n",
    "\n",
    "group = pd.DataFrame(group_list, columns=[\"GroupID\", \"Name\"])\n",
    "print(f\"Success to extract {len(group)} needed groups.\")\n",
    "print(group[\"GroupID\"].values)"
   ]
  },
  {
   "cell_type": "markdown",
   "metadata": {},
   "source": [
    "### EXTRACT CATEGORY HIERARCHY"
   ]
  },
  {
   "cell_type": "code",
   "execution_count": 6,
   "metadata": {},
   "outputs": [],
   "source": [
    "category_list = []\n",
    "for group_id, group_name in zip(group[\"GroupID\"], group[\"Name\"]):\n",
    "    parent_url = f\"https://tiki.vn/api/v2/categories?parent_id={group_id}\"\n",
    "    parent_response = requests.get(parent_url, headers=HEADERS)\n",
    "    time.sleep(random.uniform(3.2, 8.7))\n",
    "    if parent_response.status_code == 200:\n",
    "        parent_data = parent_response.json()\n",
    "        if not parent_data[\"data\"]:\n",
    "            category_list.append([group_id, group_name, None, None, None, None, None, None])\n",
    "        else:\n",
    "            for parent_category in parent_data[\"data\"]:\n",
    "                parent_id = parent_category[\"id\"]\n",
    "                parent_name = parent_category[\"name\"]\n",
    "                child_url = f\"https://tiki.vn/api/v2/categories?parent_id={parent_id}\"\n",
    "                child_response = requests.get(child_url, headers=HEADERS)\n",
    "                time.sleep(random.uniform(3.2, 8.7))\n",
    "                if child_response.status_code == 200:\n",
    "                    child_data = child_response.json()\n",
    "                    if not child_data[\"data\"]:\n",
    "                        category_list.append([group_id, group_name, parent_id, parent_name, None, None, None, None])\n",
    "                    else:\n",
    "                        for child_category in child_data[\"data\"]:\n",
    "                            child_id = child_category[\"id\"]\n",
    "                            child_name = child_category[\"name\"]\n",
    "                            type_url = f\"https://tiki.vn/api/v2/categories?parent_id={child_id}\"\n",
    "                            type_response = requests.get(type_url, headers=HEADERS)\n",
    "                            time.sleep(random.uniform(3.2, 8.7))\n",
    "                            if type_response.status_code == 200:\n",
    "                                type_data = type_response.json()\n",
    "                                if type_data[\"data\"]:\n",
    "                                    for type_item in type_data[\"data\"]:\n",
    "                                        type_id = type_item.get(\"id\")\n",
    "                                        type_name = type_item.get(\"name\")\n",
    "                                        category_list.append([group_id, group_name, parent_id, parent_name, child_id, child_name, type_id, type_name])\n",
    "                                else:\n",
    "                                    category_list.append([group_id, group_name, parent_id, parent_name, child_id, child_name, None, None])\n",
    "\n",
    "category_df = pd.DataFrame(category_list, columns=[\"GroupID\", \"GroupName\", \"MasterCategoryID\", \"MasterCategoryName\", \"CategoryID\", \"CategoryName\", \"SubCategoryID\", \"SubCategoryName\"])"
   ]
  },
  {
   "cell_type": "code",
   "execution_count": 7,
   "metadata": {},
   "outputs": [
    {
     "name": "stdout",
     "output_type": "stream",
     "text": [
      "Success to fetch 470 categories.\n"
     ]
    }
   ],
   "source": [
    "print(f\"Success to fetch {len(category_df)} categories.\")"
   ]
  },
  {
   "cell_type": "markdown",
   "metadata": {},
   "source": [
    "### TRANSFORM"
   ]
  },
  {
   "cell_type": "code",
   "execution_count": 8,
   "metadata": {},
   "outputs": [],
   "source": [
    "def transform_row(row):\n",
    "    if pd.isna(row['SubCategoryID']):\n",
    "        return pd.Series([row['CategoryID'], row['CategoryName'], row['CategoryID'], row['CategoryName'], 0])\n",
    "    else:\n",
    "        return pd.Series([row['CategoryID'], row['CategoryName'], row['SubCategoryID'], row['SubCategoryName'], 1])"
   ]
  },
  {
   "cell_type": "code",
   "execution_count": 9,
   "metadata": {},
   "outputs": [
    {
     "name": "stdout",
     "output_type": "stream",
     "text": [
      "Check null for each column in category\n",
      "Null percentage for GroupID: 0.00%\n",
      "Null percentage for GroupName: 0.00%\n",
      "Null percentage for MasterCategoryID: 0.00%\n",
      "Null percentage for MasterCategoryName: 0.00%\n",
      "Null percentage for CategoryID: 0.85%\n",
      "Null percentage for CategoryName: 0.85%\n",
      "Null percentage for SubCategoryID: 14.68%\n",
      "Null percentage for SubCategoryName: 14.68%\n"
     ]
    },
    {
     "data": {
      "text/html": [
       "<div>\n",
       "<style scoped>\n",
       "    .dataframe tbody tr th:only-of-type {\n",
       "        vertical-align: middle;\n",
       "    }\n",
       "\n",
       "    .dataframe tbody tr th {\n",
       "        vertical-align: top;\n",
       "    }\n",
       "\n",
       "    .dataframe thead th {\n",
       "        text-align: right;\n",
       "    }\n",
       "</style>\n",
       "<table border=\"1\" class=\"dataframe\">\n",
       "  <thead>\n",
       "    <tr style=\"text-align: right;\">\n",
       "      <th></th>\n",
       "      <th>GroupID</th>\n",
       "      <th>GroupName</th>\n",
       "      <th>MasterCategoryID</th>\n",
       "      <th>MasterCategoryName</th>\n",
       "      <th>CategoryID</th>\n",
       "      <th>CategoryName</th>\n",
       "      <th>SubCategoryID</th>\n",
       "      <th>SubCategoryName</th>\n",
       "    </tr>\n",
       "  </thead>\n",
       "  <tbody>\n",
       "    <tr>\n",
       "      <th>0</th>\n",
       "      <td>8322</td>\n",
       "      <td>Nhà Sách Tiki</td>\n",
       "      <td>320</td>\n",
       "      <td>English Books</td>\n",
       "      <td>623.0</td>\n",
       "      <td>Art &amp; Photography</td>\n",
       "      <td>625.0</td>\n",
       "      <td>Architecture</td>\n",
       "    </tr>\n",
       "    <tr>\n",
       "      <th>1</th>\n",
       "      <td>8322</td>\n",
       "      <td>Nhà Sách Tiki</td>\n",
       "      <td>320</td>\n",
       "      <td>English Books</td>\n",
       "      <td>623.0</td>\n",
       "      <td>Art &amp; Photography</td>\n",
       "      <td>5770.0</td>\n",
       "      <td>Graphic Design</td>\n",
       "    </tr>\n",
       "    <tr>\n",
       "      <th>2</th>\n",
       "      <td>8322</td>\n",
       "      <td>Nhà Sách Tiki</td>\n",
       "      <td>320</td>\n",
       "      <td>English Books</td>\n",
       "      <td>623.0</td>\n",
       "      <td>Art &amp; Photography</td>\n",
       "      <td>626.0</td>\n",
       "      <td>Religion, Culture</td>\n",
       "    </tr>\n",
       "    <tr>\n",
       "      <th>3</th>\n",
       "      <td>8322</td>\n",
       "      <td>Nhà Sách Tiki</td>\n",
       "      <td>320</td>\n",
       "      <td>English Books</td>\n",
       "      <td>623.0</td>\n",
       "      <td>Art &amp; Photography</td>\n",
       "      <td>9423.0</td>\n",
       "      <td>Photography</td>\n",
       "    </tr>\n",
       "    <tr>\n",
       "      <th>4</th>\n",
       "      <td>8322</td>\n",
       "      <td>Nhà Sách Tiki</td>\n",
       "      <td>320</td>\n",
       "      <td>English Books</td>\n",
       "      <td>623.0</td>\n",
       "      <td>Art &amp; Photography</td>\n",
       "      <td>112.0</td>\n",
       "      <td>Decorative Arts &amp; Design</td>\n",
       "    </tr>\n",
       "  </tbody>\n",
       "</table>\n",
       "</div>"
      ],
      "text/plain": [
       "  GroupID      GroupName  MasterCategoryID MasterCategoryName  CategoryID  \\\n",
       "0    8322  Nhà Sách Tiki               320      English Books       623.0   \n",
       "1    8322  Nhà Sách Tiki               320      English Books       623.0   \n",
       "2    8322  Nhà Sách Tiki               320      English Books       623.0   \n",
       "3    8322  Nhà Sách Tiki               320      English Books       623.0   \n",
       "4    8322  Nhà Sách Tiki               320      English Books       623.0   \n",
       "\n",
       "        CategoryName  SubCategoryID           SubCategoryName  \n",
       "0  Art & Photography          625.0              Architecture  \n",
       "1  Art & Photography         5770.0            Graphic Design  \n",
       "2  Art & Photography          626.0         Religion, Culture  \n",
       "3  Art & Photography         9423.0               Photography  \n",
       "4  Art & Photography          112.0  Decorative Arts & Design  "
      ]
     },
     "execution_count": 9,
     "metadata": {},
     "output_type": "execute_result"
    }
   ],
   "source": [
    "print(\"Check null for each column in category\")\n",
    "for column in category_df.columns:\n",
    "    null_percentage = category_df[column].isnull().mean() * 100\n",
    "    print(f\"Null percentage for {column}: {null_percentage:.2f}%\")\n",
    "category_df.head()"
   ]
  },
  {
   "cell_type": "code",
   "execution_count": 10,
   "metadata": {},
   "outputs": [],
   "source": [
    "category_df[['CategoryID', 'CategoryName', 'SubCategoryID', 'SubCategoryName', 'isSubCategory']] = category_df.apply(transform_row, axis=1, result_type='expand')"
   ]
  },
  {
   "cell_type": "code",
   "execution_count": 11,
   "metadata": {},
   "outputs": [
    {
     "name": "stdout",
     "output_type": "stream",
     "text": [
      "Check null for each column in category\n",
      "Null percentage for GroupID: 0.00%\n",
      "Null percentage for GroupName: 0.00%\n",
      "Null percentage for MasterCategoryID: 0.00%\n",
      "Null percentage for MasterCategoryName: 0.00%\n",
      "Null percentage for CategoryID: 0.85%\n",
      "Null percentage for CategoryName: 0.85%\n",
      "Null percentage for SubCategoryID: 0.85%\n",
      "Null percentage for SubCategoryName: 0.85%\n",
      "Null percentage for isSubCategory: 0.00%\n"
     ]
    }
   ],
   "source": [
    "print(\"Check null for each column in category\")\n",
    "for column in category_df.columns:\n",
    "    null_percentage = category_df[column].isnull().mean() * 100\n",
    "    print(f\"Null percentage for {column}: {null_percentage:.2f}%\")"
   ]
  },
  {
   "cell_type": "code",
   "execution_count": 12,
   "metadata": {},
   "outputs": [
    {
     "data": {
      "text/plain": [
       "Index(['GroupID', 'GroupName', 'MasterCategoryID', 'MasterCategoryName',\n",
       "       'CategoryID', 'CategoryName', 'SubCategoryID', 'SubCategoryName',\n",
       "       'isSubCategory'],\n",
       "      dtype='object')"
      ]
     },
     "execution_count": 12,
     "metadata": {},
     "output_type": "execute_result"
    }
   ],
   "source": [
    "category_df.columns"
   ]
  },
  {
   "cell_type": "code",
   "execution_count": 13,
   "metadata": {},
   "outputs": [],
   "source": [
    "group = group.drop_duplicates()\n",
    "\n",
    "master_category = category_df[[\"MasterCategoryID\", \"GroupID\", \"MasterCategoryName\"]].drop_duplicates()\n",
    "master_category = master_category.rename(columns={\"MasterCategoryName\": \"Name\"})\n",
    "\n",
    "category = category_df[[\"CategoryID\", \"MasterCategoryID\", \"CategoryName\"]].drop_duplicates()\n",
    "category = category.rename(columns={\"CategoryName\": \"Name\"})\n",
    "\n",
    "sub_category = category_df[[\"SubCategoryID\", \"CategoryID\", \"SubCategoryName\", \"isSubCategory\"]].drop_duplicates()\n",
    "sub_category = sub_category.rename(columns={\"SubCategoryName\": \"Name\"})"
   ]
  },
  {
   "cell_type": "code",
   "execution_count": 15,
   "metadata": {},
   "outputs": [
    {
     "name": "stdout",
     "output_type": "stream",
     "text": [
      "Success to transform 15 master categories.\n",
      "Success to transform 136 categories.\n",
      "Success to transform 467 sub categories.\n"
     ]
    }
   ],
   "source": [
    "print(f\"Success to transform {len(master_category)} master categories.\")\n",
    "print(f\"Success to transform {len(category)} categories.\")\n",
    "print(f\"Success to transform {len(sub_category)} sub categories.\")"
   ]
  },
  {
   "cell_type": "code",
   "execution_count": 18,
   "metadata": {},
   "outputs": [],
   "source": [
    "category_df.to_csv(\"category.csv\", index=False, encoding=\"utf-8-sig\")"
   ]
  }
 ],
 "metadata": {
  "kernelspec": {
   "display_name": "Python 3",
   "language": "python",
   "name": "python3"
  },
  "language_info": {
   "codemirror_mode": {
    "name": "ipython",
    "version": 3
   },
   "file_extension": ".py",
   "mimetype": "text/x-python",
   "name": "python",
   "nbconvert_exporter": "python",
   "pygments_lexer": "ipython3",
   "version": "3.12.1"
  }
 },
 "nbformat": 4,
 "nbformat_minor": 2
}
