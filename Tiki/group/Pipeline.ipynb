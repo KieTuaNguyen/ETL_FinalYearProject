{
 "cells": [
  {
   "cell_type": "markdown",
   "metadata": {},
   "source": [
    "### LIBRARY"
   ]
  },
  {
   "cell_type": "code",
   "execution_count": null,
   "metadata": {},
   "outputs": [],
   "source": [
    "import pandas as pd\n",
    "import requests\n",
    "import random\n",
    "import time\n",
    "import math"
   ]
  },
  {
   "cell_type": "markdown",
   "metadata": {},
   "source": [
    "### SET UP THE ENVIRONMENT"
   ]
  },
  {
   "cell_type": "code",
   "execution_count": null,
   "metadata": {},
   "outputs": [],
   "source": [
    "HEADERS = {\n",
    "    \"User-Agent\": \"Mozilla/5.0 (Windows NT 10.0; Win64; x64) AppleWebKit/537.36 (KHTML, like Gecko) Chrome/121.0.0.0 Safari/537.36 Edg/121.0.0.0\",\n",
    "    \"Accept-Language\": 'en-US,en;q=0.9',\n",
    "    \"Accept-Encoding\": \"gzip, deflate, br, zstd\",\n",
    "    \"Referer\": \"https://tiki.vn/\",\n",
    "    \"From\": \"\",\n",
    "    \"af-ac-enc-dat\": \"\",\n",
    "    \"x-api-source\": \"pc\"\n",
    "}"
   ]
  },
  {
   "cell_type": "markdown",
   "metadata": {},
   "source": [
    "### EXTRACT GROUP DATA"
   ]
  },
  {
   "cell_type": "code",
   "execution_count": null,
   "metadata": {},
   "outputs": [],
   "source": [
    "URL = \"https://api.tiki.vn/raiden/v2/menu-config?platform=desktop\""
   ]
  },
  {
   "cell_type": "code",
   "execution_count": null,
   "metadata": {},
   "outputs": [],
   "source": [
    "response = requests.get(URL, headers=HEADERS)\n",
    "time.sleep(random.uniform(3.2, 8.7))\n",
    "if response.status_code == 200:\n",
    "    data = response.json()\n",
    "    print(f\"Success to fetch {len(data[\"menu_block\"][\"items\"])} groups.\")\n",
    "else:\n",
    "    print(\"Failed to fetch data:\", response.status_code)\n"
   ]
  },
  {
   "cell_type": "markdown",
   "metadata": {},
   "source": [
    "### EXTRACT GROUP ID\n",
    "Extract the group id = 1846, 1789"
   ]
  },
  {
   "cell_type": "code",
   "execution_count": null,
   "metadata": {},
   "outputs": [],
   "source": [
    "group = data[\"menu_block\"][\"items\"]\n",
    "group_list = []\n",
    "for group in group:\n",
    "    link = group[\"link\"]\n",
    "    group_id = link.split(\"/\")[-1][1:]\n",
    "    text = group[\"text\"]\n",
    "    \n",
    "    # if group_id in [\"1789\"]:\n",
    "    if group_id in [\"1846\", \"1789\"]:\n",
    "        group_list.append([group_id, text])\n",
    "\n",
    "group = pd.DataFrame(group_list, columns=[\"GroupID\", \"Name\"])\n",
    "print(f\"Success to extract {len(group)} needed groups.\")\n",
    "print(group[\"GroupID\"].values)"
   ]
  },
  {
   "cell_type": "markdown",
   "metadata": {},
   "source": [
    "### EXTRACT CATEGORY HIERARCHY"
   ]
  },
  {
   "cell_type": "code",
   "execution_count": null,
   "metadata": {},
   "outputs": [],
   "source": [
    "category_list = []\n",
    "for group_id, group_name in zip(group[\"GroupID\"], group[\"Name\"]):\n",
    "    parent_url = f\"https://tiki.vn/api/v2/categories?parent_id={group_id}\"\n",
    "    parent_response = requests.get(parent_url, headers=HEADERS)\n",
    "    time.sleep(random.uniform(3.2, 8.7))\n",
    "    if parent_response.status_code == 200:\n",
    "        parent_data = parent_response.json()\n",
    "        if not parent_data[\"data\"]:\n",
    "            category_list.append([group_id, group_name, None, None, None, None, None, None])\n",
    "        else:\n",
    "            for parent_category in parent_data[\"data\"]:\n",
    "                parent_id = parent_category[\"id\"]\n",
    "                parent_name = parent_category[\"name\"]\n",
    "                \n",
    "                child_url = f\"https://tiki.vn/api/v2/categories?parent_id={parent_id}\"\n",
    "                child_response = requests.get(child_url, headers=HEADERS)\n",
    "                time.sleep(random.uniform(3.2, 8.7))\n",
    "                \n",
    "                if child_response.status_code == 200:\n",
    "                    child_data = child_response.json()\n",
    "                    if not child_data[\"data\"]:\n",
    "                        category_list.append([group_id, group_name, parent_id, parent_name, None, None, None, None])\n",
    "                    else:\n",
    "                        for child_category in child_data[\"data\"]:\n",
    "                            child_id = child_category[\"id\"]\n",
    "                            child_name = child_category[\"name\"]\n",
    "                            \n",
    "                            type_url = f\"https://tiki.vn/api/v2/categories?parent_id={child_id}\"\n",
    "                            type_response = requests.get(type_url, headers=HEADERS)\n",
    "                            time.sleep(random.uniform(3.2, 8.7))\n",
    "                            \n",
    "                            if type_response.status_code == 200:\n",
    "                                type_data = type_response.json()\n",
    "                                if type_data[\"data\"]:\n",
    "                                    for type_item in type_data[\"data\"]:\n",
    "                                        type_id = type_item.get(\"id\")\n",
    "                                        type_name = type_item.get(\"name\")\n",
    "                                        category_list.append([group_id, group_name, parent_id, parent_name, child_id, child_name, type_id, type_name])\n",
    "                                else:\n",
    "                                    category_list.append([group_id, group_name, parent_id, parent_name, child_id, child_name, None, None])\n",
    "\n",
    "category_df = pd.DataFrame(category_list, columns=[\"GroupID\", \"GroupName\", \"MasterCategoryID\", \"MasterCategoryName\", \"CategoryID\", \"CategoryName\", \"SubCategoryID\", \"SubCategoryName\"])"
   ]
  },
  {
   "cell_type": "code",
   "execution_count": null,
   "metadata": {},
   "outputs": [],
   "source": [
    "print(f\"Success to fetch {len(category_df)} categories.\")"
   ]
  },
  {
   "cell_type": "markdown",
   "metadata": {},
   "source": [
    "### TRANSFORM CATEGORY HIERARCHY"
   ]
  },
  {
   "cell_type": "code",
   "execution_count": null,
   "metadata": {},
   "outputs": [],
   "source": [
    "def remove_single_category(df):\n",
    "    # Group the DataFrame by MasterCategoryID and count the unique CategoryID values\n",
    "    category_counts = df.groupby('MasterCategoryID')['CategoryID'].nunique()\n",
    "    \n",
    "    # Create a mask for MasterCategoryIDs with only one CategoryID\n",
    "    single_category_mask = category_counts == 1\n",
    "    \n",
    "    # Drop the CategoryID and CategoryName columns for rows where there is only one CategoryID\n",
    "    df.loc[df['MasterCategoryID'].isin(single_category_mask[single_category_mask].index), ['CategoryID', 'CategoryName']] = [None, None]\n",
    "    \n",
    "    return df"
   ]
  },
  {
   "cell_type": "code",
   "execution_count": null,
   "metadata": {},
   "outputs": [],
   "source": [
    "cleaned_df = remove_single_category(category_df)"
   ]
  },
  {
   "cell_type": "code",
   "execution_count": null,
   "metadata": {},
   "outputs": [],
   "source": [
    "def transform_category(row):\n",
    "    # Handle MasterCategory and Category\n",
    "    if pd.isna(row['CategoryID']):\n",
    "        master_category_id = row['MasterCategoryID']\n",
    "        master_category_name = row['MasterCategoryName']\n",
    "        category_id = row['MasterCategoryID']\n",
    "        category_name = row['MasterCategoryName']\n",
    "        is_category = 0\n",
    "    else:\n",
    "        master_category_id = row['MasterCategoryID']\n",
    "        master_category_name = row['MasterCategoryName']\n",
    "        category_id = row['CategoryID']\n",
    "        category_name = row['CategoryName']\n",
    "        is_category = 1\n",
    "\n",
    "    # Handle SubCategory\n",
    "    if pd.isna(row['SubCategoryID']):\n",
    "        sub_category_id = category_id\n",
    "        sub_category_name = category_name\n",
    "        is_sub_category = 0\n",
    "    else:\n",
    "        sub_category_id = row['SubCategoryID']\n",
    "        sub_category_name = row['SubCategoryName']\n",
    "        is_sub_category = 1\n",
    "\n",
    "    return pd.Series([\n",
    "        master_category_id, master_category_name, category_id, category_name,\n",
    "        is_category, sub_category_id, sub_category_name, is_sub_category\n",
    "    ])"
   ]
  },
  {
   "cell_type": "code",
   "execution_count": null,
   "metadata": {},
   "outputs": [],
   "source": [
    "print(\"Check null for each column in category\")\n",
    "for column in category_df.columns:\n",
    "    null_percentage = category_df[column].isnull().mean() * 100\n",
    "    print(f\"Null percentage for {column}: {null_percentage:.2f}%\")\n",
    "category_df.head()"
   ]
  },
  {
   "cell_type": "code",
   "execution_count": null,
   "metadata": {},
   "outputs": [],
   "source": [
    "category_df[['MasterCategoryID', 'MasterCategoryName', 'CategoryID', 'CategoryName',\n",
    "             'isCategory', 'SubCategoryID', 'SubCategoryName', 'isSubCategory']] = category_df.apply(transform_category, axis=1, result_type='expand')"
   ]
  },
  {
   "cell_type": "code",
   "execution_count": null,
   "metadata": {},
   "outputs": [],
   "source": [
    "print(\"Check null for each column in category\")\n",
    "for column in category_df.columns:\n",
    "    null_percentage = category_df[column].isnull().mean() * 100\n",
    "    print(f\"Null percentage for {column}: {null_percentage:.2f}%\")\n",
    "category_df.head()"
   ]
  },
  {
   "cell_type": "code",
   "execution_count": null,
   "metadata": {},
   "outputs": [],
   "source": [
    "category_df.columns"
   ]
  },
  {
   "cell_type": "code",
   "execution_count": null,
   "metadata": {},
   "outputs": [],
   "source": [
    "category_df[\"GroupID\"] = category_df[\"GroupID\"].astype(int)\n",
    "category_df[\"MasterCategoryID\"] = category_df[\"MasterCategoryID\"].astype(int)\n",
    "category_df[\"CategoryID\"] = category_df[\"CategoryID\"].astype(int)\n",
    "category_df[\"SubCategoryID\"] = category_df[\"SubCategoryID\"].astype(int)"
   ]
  },
  {
   "cell_type": "code",
   "execution_count": null,
   "metadata": {},
   "outputs": [],
   "source": [
    "group = group.drop_duplicates()\n",
    "\n",
    "master_category = category_df[[\"MasterCategoryID\", \"GroupID\", \"MasterCategoryName\"]].drop_duplicates()\n",
    "master_category = master_category.rename(columns={\"MasterCategoryName\": \"Name\"})\n",
    "\n",
    "category = category_df[[\"CategoryID\", \"MasterCategoryID\", \"CategoryName\", \"isCategory\"]].drop_duplicates()\n",
    "category = category.rename(columns={\"CategoryName\": \"Name\"})\n",
    "\n",
    "sub_category = category_df[[\"SubCategoryID\", \"CategoryID\", \"SubCategoryName\", \"isSubCategory\"]].drop_duplicates()\n",
    "sub_category = sub_category.rename(columns={\"SubCategoryName\": \"Name\"})"
   ]
  },
  {
   "cell_type": "code",
   "execution_count": null,
   "metadata": {},
   "outputs": [],
   "source": [
    "print(f\"Success to transform {len(master_category)} master categories.\")\n",
    "print(f\"Success to transform {len(category)} categories.\")\n",
    "print(f\"Success to transform {len(sub_category)} sub categories.\")"
   ]
  },
  {
   "cell_type": "markdown",
   "metadata": {},
   "source": [
    "### EXTRACT PRODUCT ID THROUGH SUB-CATEGORY ID"
   ]
  },
  {
   "cell_type": "code",
   "execution_count": null,
   "metadata": {},
   "outputs": [],
   "source": [
    "master_category = pd.read_csv(\"category_data/master_category.csv\")\n",
    "master_category = pd.DataFrame(master_category)\n",
    "category = pd.read_csv(\"category_data/category.csv\")\n",
    "category = pd.DataFrame(category)\n",
    "sub_category = pd.read_csv(\"category_data/sub_category.csv\")\n",
    "sub_category = pd.DataFrame(sub_category)"
   ]
  },
  {
   "cell_type": "code",
   "execution_count": null,
   "metadata": {},
   "outputs": [],
   "source": [
    "def retrieve_product_ids(sub_category_id):\n",
    "    base_url = \"https://tiki.vn/api/personalish/v1/blocks/listings\"\n",
    "    PARAMS = {\"category\": sub_category_id, \n",
    "              \"page\": 1}\n",
    "    response = requests.get(base_url, headers=HEADERS, params=PARAMS)\n",
    "    time.sleep(random.uniform(3.2, 8.7))\n",
    "    \n",
    "    data = response.json()\n",
    "    total_page = data[\"paging\"][\"last_page\"]\n",
    "    \n",
    "    # Fetch data from each page\n",
    "    product_ids = []\n",
    "    for page in range(1, total_page + 1):\n",
    "        PARAMS = {\"category\": sub_category_id, \n",
    "                  \"page\": page}\n",
    "        response = requests.get(base_url, headers=HEADERS, params=PARAMS)\n",
    "        time.sleep(random.uniform(3.2, 8.7))\n",
    "        \n",
    "        data = response.json()\n",
    "        for item in data[\"data\"]:\n",
    "            product_ids.append(item[\"id\"])\n",
    "\n",
    "    return product_ids"
   ]
  },
  {
   "cell_type": "code",
   "execution_count": null,
   "metadata": {},
   "outputs": [],
   "source": [
    "product_df = []\n",
    "\n",
    "for sub_category_id in sub_category['SubCategoryID']:\n",
    "    product_ids = retrieve_product_ids(sub_category_id)\n",
    "    for product_id in product_ids:\n",
    "        product_df.append({'SubCategoryID': sub_category_id, 'ProductID': product_id})\n",
    "\n",
    "# Convert the list of dictionaries to a DataFrame\n",
    "product_ids_df = pd.DataFrame(product_df)"
   ]
  },
  {
   "cell_type": "code",
   "execution_count": null,
   "metadata": {},
   "outputs": [],
   "source": [
    "# product_ids_df.to_csv(\"product_ids.csv\", index=False, encoding='utf-8-sig')\n",
    "product_ids_df = pd.read_csv(\"data/product_ids.csv\")\n",
    "product_ids_df = pd.DataFrame(product_ids_df)"
   ]
  },
  {
   "cell_type": "code",
   "execution_count": 19,
   "metadata": {},
   "outputs": [
    {
     "data": {
      "text/html": [
       "<div>\n",
       "<style scoped>\n",
       "    .dataframe tbody tr th:only-of-type {\n",
       "        vertical-align: middle;\n",
       "    }\n",
       "\n",
       "    .dataframe tbody tr th {\n",
       "        vertical-align: top;\n",
       "    }\n",
       "\n",
       "    .dataframe thead th {\n",
       "        text-align: right;\n",
       "    }\n",
       "</style>\n",
       "<table border=\"1\" class=\"dataframe\">\n",
       "  <thead>\n",
       "    <tr style=\"text-align: right;\">\n",
       "      <th></th>\n",
       "      <th>SubCategoryID</th>\n",
       "      <th>ProductID</th>\n",
       "    </tr>\n",
       "  </thead>\n",
       "  <tbody>\n",
       "    <tr>\n",
       "      <th>0</th>\n",
       "      <td>1795</td>\n",
       "      <td>184036446</td>\n",
       "    </tr>\n",
       "    <tr>\n",
       "      <th>1</th>\n",
       "      <td>1795</td>\n",
       "      <td>184059211</td>\n",
       "    </tr>\n",
       "    <tr>\n",
       "      <th>2</th>\n",
       "      <td>1795</td>\n",
       "      <td>57809866</td>\n",
       "    </tr>\n",
       "    <tr>\n",
       "      <th>3</th>\n",
       "      <td>1795</td>\n",
       "      <td>120295859</td>\n",
       "    </tr>\n",
       "    <tr>\n",
       "      <th>4</th>\n",
       "      <td>1795</td>\n",
       "      <td>123345348</td>\n",
       "    </tr>\n",
       "    <tr>\n",
       "      <th>...</th>\n",
       "      <td>...</td>\n",
       "      <td>...</td>\n",
       "    </tr>\n",
       "    <tr>\n",
       "      <th>23821</th>\n",
       "      <td>28926</td>\n",
       "      <td>249024285</td>\n",
       "    </tr>\n",
       "    <tr>\n",
       "      <th>23822</th>\n",
       "      <td>28926</td>\n",
       "      <td>204425773</td>\n",
       "    </tr>\n",
       "    <tr>\n",
       "      <th>23823</th>\n",
       "      <td>28926</td>\n",
       "      <td>13429081</td>\n",
       "    </tr>\n",
       "    <tr>\n",
       "      <th>23824</th>\n",
       "      <td>28926</td>\n",
       "      <td>72843893</td>\n",
       "    </tr>\n",
       "    <tr>\n",
       "      <th>23825</th>\n",
       "      <td>28926</td>\n",
       "      <td>90524342</td>\n",
       "    </tr>\n",
       "  </tbody>\n",
       "</table>\n",
       "<p>23826 rows × 2 columns</p>\n",
       "</div>"
      ],
      "text/plain": [
       "       SubCategoryID  ProductID\n",
       "0               1795  184036446\n",
       "1               1795  184059211\n",
       "2               1795   57809866\n",
       "3               1795  120295859\n",
       "4               1795  123345348\n",
       "...              ...        ...\n",
       "23821          28926  249024285\n",
       "23822          28926  204425773\n",
       "23823          28926   13429081\n",
       "23824          28926   72843893\n",
       "23825          28926   90524342\n",
       "\n",
       "[23826 rows x 2 columns]"
      ]
     },
     "execution_count": 19,
     "metadata": {},
     "output_type": "execute_result"
    }
   ],
   "source": [
    "product_ids_df"
   ]
  },
  {
   "cell_type": "code",
   "execution_count": 22,
   "metadata": {},
   "outputs": [],
   "source": [
    "def get_product_data(row):\n",
    "    product_id = row['ProductID']\n",
    "    URL = f\"https://tiki.vn/api/v2/products/{product_id}\"\n",
    "    PARAMS = {}\n",
    "    response = requests.get(URL, headers=HEADERS, params=PARAMS)\n",
    "    time.sleep(random.uniform(3.2, 8.7))\n",
    "    \n",
    "    data = response.json()\n",
    "\n",
    "    product_data = {\n",
    "        'SubCategoryID': row['SubCategoryID'],\n",
    "        'ProductID': data['id'],\n",
    "        'product_name': data.get('name', None),\n",
    "        'product_url': data.get('short_url', None),\n",
    "        'pricing_current': data.get('price', None),\n",
    "        'pricing_original': data.get('original_price', None),\n",
    "        'product_image_url': data.get('thumbnail_url', None),\n",
    "        'inventory_status': data.get('inventory_status', None),\n",
    "        'inventory_type': data.get('inventory_type', None),\n",
    "        'created_date': data.get('day_ago_created', None),\n",
    "        'quantity_sold': data.get('all_time_quantity_sold', None),\n",
    "        'brand_id': data.get('brand', {}).get('id', None),\n",
    "        'brand_name': data.get('brand', {}).get('name', None),\n",
    "        'brand_slug': data.get('brand', {}).get('slug', None),\n",
    "        'seller_id': data.get('current_seller', {}).get('id', 0) if data.get('current_seller') else 0,\n",
    "        'seller_name': data.get('current_seller', {}).get('name', 0) if data.get('current_seller') else 0,\n",
    "        'seller_link': data.get('current_seller', {}).get('link', 0) if data.get('current_seller') else 0,\n",
    "        'seller_image_url': data.get('current_seller', {}).get('logo', 0) if data.get('current_seller') else 0\n",
    "    }\n",
    "\n",
    "    category_id = data['breadcrumbs'][-2]['category_id']\n",
    "    product_data['category_id'] = category_id\n",
    "    \n",
    "    print(f\"Success to fetch subcategory {product_data[\"SubCategoryID\"]} product data for {product_data['ProductID']}\")\n",
    "\n",
    "    return product_data\n"
   ]
  },
  {
   "cell_type": "code",
   "execution_count": 23,
   "metadata": {},
   "outputs": [
    {
     "name": "stdout",
     "output_type": "stream",
     "text": [
      "Success to fetch subcategory 1795 product data for 184036446\n",
      "Success to fetch subcategory 1795 product data for 184059211\n",
      "Success to fetch subcategory 1795 product data for 57809866\n",
      "Success to fetch subcategory 1795 product data for 120295859\n",
      "Success to fetch subcategory 1795 product data for 123345348\n",
      "Success to fetch subcategory 1795 product data for 121744434\n",
      "Success to fetch subcategory 1795 product data for 189466001\n",
      "Success to fetch subcategory 1795 product data for 125590981\n",
      "Success to fetch subcategory 1795 product data for 126050455\n",
      "Success to fetch subcategory 1795 product data for 172329599\n",
      "Success to fetch subcategory 1795 product data for 29931445\n",
      "Success to fetch subcategory 1795 product data for 181266509\n",
      "Success to fetch subcategory 1795 product data for 140184098\n",
      "Success to fetch subcategory 1795 product data for 192859201\n",
      "Success to fetch subcategory 1795 product data for 181918564\n",
      "Success to fetch subcategory 1795 product data for 197966909\n",
      "Success to fetch subcategory 1795 product data for 155833852\n",
      "Success to fetch subcategory 1795 product data for 143359355\n",
      "Success to fetch subcategory 1795 product data for 151463645\n",
      "Success to fetch subcategory 1795 product data for 158895857\n",
      "Success to fetch subcategory 1795 product data for 140144656\n",
      "Success to fetch subcategory 1795 product data for 147969070\n"
     ]
    }
   ],
   "source": [
    "product = product_ids_df.apply(get_product_data, axis=1, result_type='expand')\n",
    "\n",
    "# Convert the result to a DataFrame\n",
    "product_df = pd.DataFrame(product)"
   ]
  },
  {
   "cell_type": "code",
   "execution_count": null,
   "metadata": {},
   "outputs": [],
   "source": []
  }
 ],
 "metadata": {
  "kernelspec": {
   "display_name": "Python 3",
   "language": "python",
   "name": "python3"
  },
  "language_info": {
   "codemirror_mode": {
    "name": "ipython",
    "version": 3
   },
   "file_extension": ".py",
   "mimetype": "text/x-python",
   "name": "python",
   "nbconvert_exporter": "python",
   "pygments_lexer": "ipython3",
   "version": "3.12.1"
  }
 },
 "nbformat": 4,
 "nbformat_minor": 2
}
