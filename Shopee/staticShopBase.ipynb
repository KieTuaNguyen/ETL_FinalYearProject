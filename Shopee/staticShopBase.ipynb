{
 "cells": [
  {
   "cell_type": "code",
   "execution_count": 1,
   "metadata": {},
   "outputs": [
    {
     "name": "stdout",
     "output_type": "stream",
     "text": [
      "Error - asus_flagship_hch_store: 403 - https://shopee.vn/api/v4/shop/get_shop_base?entry_point=&need_cancel_rate=true&request_source=shop_home_page&username=asus_flagship_hch_store&version=2&shopid=139249594\n"
     ]
    },
    {
     "data": {
      "text/html": [
       "<div>\n",
       "<style scoped>\n",
       "    .dataframe tbody tr th:only-of-type {\n",
       "        vertical-align: middle;\n",
       "    }\n",
       "\n",
       "    .dataframe tbody tr th {\n",
       "        vertical-align: top;\n",
       "    }\n",
       "\n",
       "    .dataframe thead th {\n",
       "        text-align: right;\n",
       "    }\n",
       "</style>\n",
       "<table border=\"1\" class=\"dataframe\">\n",
       "  <thead>\n",
       "    <tr style=\"text-align: right;\">\n",
       "      <th></th>\n",
       "    </tr>\n",
       "  </thead>\n",
       "  <tbody>\n",
       "  </tbody>\n",
       "</table>\n",
       "</div>"
      ],
      "text/plain": [
       "Empty DataFrame\n",
       "Columns: []\n",
       "Index: []"
      ]
     },
     "execution_count": 1,
     "metadata": {},
     "output_type": "execute_result"
    }
   ],
   "source": [
    "import requests\n",
    "import random\n",
    "import pandas as pd\n",
    "import time\n",
    "\n",
    "HEADERS = {\n",
    "    \"User-Agent\": \"Mozilla/5.0 (Windows NT 10.0; Win64; x64) AppleWebKit/537.36 (KHTML, like Gecko) Chrome/121.0.0.0 Safari/537.36 Edg/121.0.0.0\",\n",
    "    \"Accept-Language\": 'en-US,en;q=0.9',\n",
    "    \"Accept-Encoding\": \"gzip, deflate, br, zstd\",\n",
    "    \"Referer\": \"https://shopee.vn/\",\n",
    "    \"From\": \"\",\n",
    "    \"af-ac-enc-dat\": \"\",\n",
    "    \"x-api-source\": \"pc\"\n",
    "}\n",
    "\n",
    "base_image_url = \"https://down-vn.img.susercontent.com/file/\"\n",
    "\n",
    "shop_details = []\n",
    "\n",
    "username = \"asus_flagship_hch_store\"\n",
    "shopid = 139249594\n",
    "\n",
    "URL = \"https://shopee.vn/api/v4/shop/get_shop_base\"\n",
    "PARAMS = {\n",
    "    \"entry_point\": \"\",\n",
    "    \"need_cancel_rate\": \"true\",\n",
    "    \"request_source\": \"shop_home_page\",\n",
    "    \"version\": \"2\",\n",
    "    \"username\": username,\n",
    "    \"shopid\": shopid\n",
    "}\n",
    "\n",
    "response = requests.get(URL, headers=HEADERS, params=PARAMS)\n",
    "time.sleep(random.uniform(3.2, 8.7))\n",
    "if response.status_code == 200:\n",
    "    print(f\"Success - username: {response.status_code}\")\n",
    "    data = response.json()['data']\n",
    "    userid = data['userid']\n",
    "    follower_count = data['follower_count']\n",
    "    total_avg_star = data['account']['total_avg_star']\n",
    "    item_count = data['item_count']\n",
    "    rating_normal = data['shop_rating']['rating_normal']\n",
    "    rating_bad = data['shop_rating']['rating_bad']\n",
    "    rating_good = data['shop_rating']['rating_good']\n",
    "    response_time = data['response_time']\n",
    "    ctime = data['ctime']\n",
    "    \n",
    "    shop_details.append({\n",
    "        'username': username,\n",
    "        'userid': userid,\n",
    "        'follower_count': follower_count,\n",
    "        'total_avg_star': total_avg_star,\n",
    "        'item_count': item_count,\n",
    "        'rating_normal': rating_normal,\n",
    "        'rating_bad': rating_bad,\n",
    "        'rating_good': rating_good,\n",
    "        'response_time': response_time,\n",
    "        'ctime': ctime\n",
    "    })\n",
    "else :\n",
    "    print(f\"Error - {username}: {response.status_code} - https://shopee.vn/api/v4/shop/get_shop_base?entry_point=&need_cancel_rate=true&request_source=shop_home_page&username={username}&version=2&shopid={shopid}\")\n",
    "\n",
    "shops = pd.DataFrame(shop_details)\n",
    "shops"
   ]
  }
 ],
 "metadata": {
  "kernelspec": {
   "display_name": "Python 3",
   "language": "python",
   "name": "python3"
  },
  "language_info": {
   "codemirror_mode": {
    "name": "ipython",
    "version": 3
   },
   "file_extension": ".py",
   "mimetype": "text/x-python",
   "name": "python",
   "nbconvert_exporter": "python",
   "pygments_lexer": "ipython3",
   "version": "3.12.1"
  }
 },
 "nbformat": 4,
 "nbformat_minor": 2
}
