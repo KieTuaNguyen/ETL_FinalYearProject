{
 "cells": [
  {
   "cell_type": "code",
   "execution_count": 160,
   "metadata": {},
   "outputs": [],
   "source": [
    "import requests\n",
    "import random\n",
    "import pandas as pd\n",
    "import time"
   ]
  },
  {
   "cell_type": "code",
   "execution_count": 161,
   "metadata": {},
   "outputs": [],
   "source": [
    "HEADERS = {\n",
    "    \"User-Agent\": \"Mozilla/5.0 (Windows NT 10.0; Win64; x64) AppleWebKit/537.36 (KHTML, like Gecko) Chrome/121.0.0.0 Safari/537.36 Edg/121.0.0.0\",\n",
    "    \"Accept-Language\": 'en-US,en;q=0.9',\n",
    "    \"Accept-Encoding\": \"gzip, deflate, br, zstd\",\n",
    "    \"Referer\": \"https://shopee.vn/\",\n",
    "    \"From\": \"\",\n",
    "    \"af-ac-enc-dat\": \"\",\n",
    "    \"x-api-source\": \"pc\"\n",
    "}\n",
    "\n",
    "base_image_url = \"https://down-vn.img.susercontent.com/file/\"\n"
   ]
  },
  {
   "cell_type": "markdown",
   "metadata": {},
   "source": [
    "### EXTRACT CATEGORY"
   ]
  },
  {
   "cell_type": "code",
   "execution_count": 162,
   "metadata": {},
   "outputs": [],
   "source": [
    "URL = \"https://shopee.vn/api/v4/official_shop/get_categories\"\n",
    "PARAMS = { \n",
    "}"
   ]
  },
  {
   "cell_type": "code",
   "execution_count": 163,
   "metadata": {},
   "outputs": [],
   "source": [
    "response = requests.get(URL, headers=HEADERS, params=PARAMS)\n",
    "time.sleep(random.uniform(3.2, 8.7))\n",
    "if response.status_code == 200:\n",
    "    data = response.json()[\"data\"][\"categories\"]\n",
    "    category_data = []\n",
    "\n",
    "    for category in data:\n",
    "        category_id = category[\"category_id\"]\n",
    "        name = category[\"name\"]\n",
    "        image = category[\"image\"]\n",
    "\n",
    "        category_data.append({\n",
    "            \"category_id\": category_id,\n",
    "            \"name\": name,\n",
    "            \"image\": image\n",
    "        })\n",
    "    category = pd.DataFrame(category_data)\n",
    "\n",
    "else :\n",
    "    print(f\"Error: {response.status_code}\")"
   ]
  },
  {
   "cell_type": "markdown",
   "metadata": {},
   "source": [
    "### TRANSFORM CATEGORY"
   ]
  },
  {
   "cell_type": "code",
   "execution_count": 164,
   "metadata": {},
   "outputs": [],
   "source": [
    "category = category[category[\"category_id\"] != -1]"
   ]
  },
  {
   "cell_type": "code",
   "execution_count": 165,
   "metadata": {},
   "outputs": [
    {
     "data": {
      "text/plain": [
       "Index(['category_id', 'name', 'image', 'category_logo_url'], dtype='object')"
      ]
     },
     "execution_count": 165,
     "metadata": {},
     "output_type": "execute_result"
    }
   ],
   "source": [
    "category[\"category_logo_url\"] = base_image_url + category[\"image\"]\n",
    "category.columns"
   ]
  },
  {
   "cell_type": "code",
   "execution_count": 166,
   "metadata": {},
   "outputs": [
    {
     "data": {
      "text/plain": [
       "Index(['category_id', 'name', 'category_logo_url'], dtype='object')"
      ]
     },
     "execution_count": 166,
     "metadata": {},
     "output_type": "execute_result"
    }
   ],
   "source": [
    "category = category.drop(columns=[\"image\"])\n",
    "category.columns"
   ]
  },
  {
   "cell_type": "code",
   "execution_count": 167,
   "metadata": {},
   "outputs": [
    {
     "data": {
      "text/html": [
       "<div>\n",
       "<style scoped>\n",
       "    .dataframe tbody tr th:only-of-type {\n",
       "        vertical-align: middle;\n",
       "    }\n",
       "\n",
       "    .dataframe tbody tr th {\n",
       "        vertical-align: top;\n",
       "    }\n",
       "\n",
       "    .dataframe thead th {\n",
       "        text-align: right;\n",
       "    }\n",
       "</style>\n",
       "<table border=\"1\" class=\"dataframe\">\n",
       "  <thead>\n",
       "    <tr style=\"text-align: right;\">\n",
       "      <th></th>\n",
       "      <th>category_id</th>\n",
       "      <th>name</th>\n",
       "      <th>category_logo_url</th>\n",
       "    </tr>\n",
       "  </thead>\n",
       "  <tbody>\n",
       "    <tr>\n",
       "      <th>1</th>\n",
       "      <td>11035478</td>\n",
       "      <td>Thể Thao &amp; Du Lịch</td>\n",
       "      <td>https://down-vn.img.susercontent.com/file/6cb7...</td>\n",
       "    </tr>\n",
       "    <tr>\n",
       "      <th>2</th>\n",
       "      <td>11036793</td>\n",
       "      <td>Ô tô - xe máy - xe đạp</td>\n",
       "      <td>https://down-vn.img.susercontent.com/file/3fb4...</td>\n",
       "    </tr>\n",
       "    <tr>\n",
       "      <th>3</th>\n",
       "      <td>11036525</td>\n",
       "      <td>Bách hóa Online</td>\n",
       "      <td>https://down-vn.img.susercontent.com/file/c432...</td>\n",
       "    </tr>\n",
       "    <tr>\n",
       "      <th>4</th>\n",
       "      <td>11036670</td>\n",
       "      <td>Nhà Cửa &amp; Đời Sống</td>\n",
       "      <td>https://down-vn.img.susercontent.com/file/24b1...</td>\n",
       "    </tr>\n",
       "    <tr>\n",
       "      <th>5</th>\n",
       "      <td>11036279</td>\n",
       "      <td>Sắc Đẹp</td>\n",
       "      <td>https://down-vn.img.susercontent.com/file/ef1f...</td>\n",
       "    </tr>\n",
       "  </tbody>\n",
       "</table>\n",
       "</div>"
      ],
      "text/plain": [
       "   category_id                    name  \\\n",
       "1     11035478      Thể Thao & Du Lịch   \n",
       "2     11036793  Ô tô - xe máy - xe đạp   \n",
       "3     11036525         Bách hóa Online   \n",
       "4     11036670      Nhà Cửa & Đời Sống   \n",
       "5     11036279                 Sắc Đẹp   \n",
       "\n",
       "                                   category_logo_url  \n",
       "1  https://down-vn.img.susercontent.com/file/6cb7...  \n",
       "2  https://down-vn.img.susercontent.com/file/3fb4...  \n",
       "3  https://down-vn.img.susercontent.com/file/c432...  \n",
       "4  https://down-vn.img.susercontent.com/file/24b1...  \n",
       "5  https://down-vn.img.susercontent.com/file/ef1f...  "
      ]
     },
     "execution_count": 167,
     "metadata": {},
     "output_type": "execute_result"
    }
   ],
   "source": [
    "print(f\"Total shop fetched: {len(category)}\")\n",
    "category.head()"
   ]
  },
  {
   "cell_type": "markdown",
   "metadata": {},
   "source": [
    "### EXTRACT SHOP"
   ]
  },
  {
   "cell_type": "code",
   "execution_count": 168,
   "metadata": {},
   "outputs": [],
   "source": [
    "categories = category['category_id'].tolist()  # Convert the 'category_id' column to a list"
   ]
  },
  {
   "cell_type": "code",
   "execution_count": 169,
   "metadata": {},
   "outputs": [
    {
     "name": "stdout",
     "output_type": "stream",
     "text": [
      "Total shop fetched: 3587\n"
     ]
    }
   ],
   "source": [
    "shop_data = []\n",
    "\n",
    "for cat_id in categories:\n",
    "    URL = f\"https://shopee.vn/api/v4/official_shop/get_shops_by_category?need_zhuyin=0&category_id={cat_id}\"\n",
    "    PARAMS = {}\n",
    "\n",
    "    response = requests.get(URL, headers=HEADERS)\n",
    "    time.sleep(random.uniform(3.2, 8.7))\n",
    "    if response.status_code == 200:\n",
    "        data = response.json()\n",
    "        cat_id_res = data[\"data\"][\"cat_id\"]  # Get the category_id from the response\n",
    "\n",
    "        brands = data[\"data\"][\"brands\"]\n",
    "\n",
    "        for brand in brands:\n",
    "            brand_ids = brand[\"brand_ids\"]\n",
    "            for shop in brand_ids:\n",
    "                username = shop.get(\"username\", \"\")\n",
    "                brand_name = shop.get(\"brand_name\", \"\")\n",
    "                shopid = shop.get(\"shopid\", \"\")\n",
    "                logo = shop.get(\"logo\", \"\")\n",
    "                logo_pc = shop.get(\"logo_pc\", \"\")\n",
    "                shop_collection_id = shop.get(\"shop_collection_id\", \"\")\n",
    "                ctime = shop.get(\"ctime\", \"\")\n",
    "                brand_label = shop.get(\"brand_label\", \"\")\n",
    "                shop_data.append({\n",
    "                    \"category_id\": cat_id_res,\n",
    "                    \"username\": username,\n",
    "                    \"brand_name\": brand_name,\n",
    "                    \"shop_id\": shopid,\n",
    "                    \"logo\": logo,\n",
    "                    \"logo_pc\": logo_pc,\n",
    "                    \"shop_collection_id\": shop_collection_id,\n",
    "                    \"ctime\": ctime,\n",
    "                    \"brand_label\": brand_label\n",
    "                })\n",
    "    else:\n",
    "        print(f\"Error: {response.status_code}\")\n",
    "\n",
    "shop = pd.DataFrame(shop_data)\n",
    "print(f\"Total shop fetched: {len(shop)}\")"
   ]
  },
  {
   "cell_type": "markdown",
   "metadata": {},
   "source": [
    "### TRANSFORM CATEGORY"
   ]
  },
  {
   "cell_type": "code",
   "execution_count": 170,
   "metadata": {},
   "outputs": [
    {
     "data": {
      "text/plain": [
       "Index(['category_id', 'username', 'brand_name', 'shop_id', 'logo', 'logo_pc',\n",
       "       'shop_collection_id', 'ctime', 'brand_label', 'creation_time',\n",
       "       'shop_logo_url'],\n",
       "      dtype='object')"
      ]
     },
     "execution_count": 170,
     "metadata": {},
     "output_type": "execute_result"
    }
   ],
   "source": [
    "shop[\"creation_time\"] = pd.to_datetime(shop['ctime'], unit='s')\n",
    "shop[\"shop_logo_url\"] = base_image_url + shop[\"logo_pc\"]\n",
    "shop.columns"
   ]
  },
  {
   "cell_type": "code",
   "execution_count": 171,
   "metadata": {},
   "outputs": [
    {
     "data": {
      "text/plain": [
       "Index(['category_id', 'username', 'brand_name', 'shop_id', 'creation_time',\n",
       "       'shop_logo_url'],\n",
       "      dtype='object')"
      ]
     },
     "execution_count": 171,
     "metadata": {},
     "output_type": "execute_result"
    }
   ],
   "source": [
    "shop = shop.drop(columns=[\"logo_pc\", \"logo\", \"shop_collection_id\", \"brand_label\", \"ctime\"])\n",
    "shop.columns"
   ]
  },
  {
   "cell_type": "code",
   "execution_count": 172,
   "metadata": {},
   "outputs": [
    {
     "data": {
      "text/html": [
       "<div>\n",
       "<style scoped>\n",
       "    .dataframe tbody tr th:only-of-type {\n",
       "        vertical-align: middle;\n",
       "    }\n",
       "\n",
       "    .dataframe tbody tr th {\n",
       "        vertical-align: top;\n",
       "    }\n",
       "\n",
       "    .dataframe thead th {\n",
       "        text-align: right;\n",
       "    }\n",
       "</style>\n",
       "<table border=\"1\" class=\"dataframe\">\n",
       "  <thead>\n",
       "    <tr style=\"text-align: right;\">\n",
       "      <th></th>\n",
       "      <th>category_id</th>\n",
       "      <th>username</th>\n",
       "      <th>brand_name</th>\n",
       "      <th>shop_id</th>\n",
       "      <th>creation_time</th>\n",
       "      <th>shop_logo_url</th>\n",
       "    </tr>\n",
       "  </thead>\n",
       "  <tbody>\n",
       "    <tr>\n",
       "      <th>0</th>\n",
       "      <td>11035478</td>\n",
       "      <td>adidasofficialstore</td>\n",
       "      <td>Adidas Official Store</td>\n",
       "      <td>71009635</td>\n",
       "      <td>2021-05-14 08:44:55</td>\n",
       "      <td>https://down-vn.img.susercontent.com/file/3a7d...</td>\n",
       "    </tr>\n",
       "    <tr>\n",
       "      <th>1</th>\n",
       "      <td>11035478</td>\n",
       "      <td>akisport.net</td>\n",
       "      <td>Aki Sport</td>\n",
       "      <td>432189904</td>\n",
       "      <td>2021-08-30 04:29:27</td>\n",
       "      <td>https://down-vn.img.susercontent.com/file/eea8...</td>\n",
       "    </tr>\n",
       "    <tr>\n",
       "      <th>2</th>\n",
       "      <td>11035478</td>\n",
       "      <td>amalife_vietnam</td>\n",
       "      <td>Amalife Việt Nam</td>\n",
       "      <td>551582212</td>\n",
       "      <td>2021-11-04 07:51:47</td>\n",
       "      <td>https://down-vn.img.susercontent.com/file/b8ee...</td>\n",
       "    </tr>\n",
       "    <tr>\n",
       "      <th>3</th>\n",
       "      <td>11035478</td>\n",
       "      <td>_andrealin</td>\n",
       "      <td>Andrealin</td>\n",
       "      <td>388588353</td>\n",
       "      <td>2023-06-20 08:25:43</td>\n",
       "      <td>https://down-vn.img.susercontent.com/file/vn-5...</td>\n",
       "    </tr>\n",
       "    <tr>\n",
       "      <th>4</th>\n",
       "      <td>11035478</td>\n",
       "      <td>anta.official</td>\n",
       "      <td>Anta Flagship Store</td>\n",
       "      <td>93177350</td>\n",
       "      <td>2021-05-14 08:44:55</td>\n",
       "      <td>https://down-vn.img.susercontent.com/file/7af9...</td>\n",
       "    </tr>\n",
       "  </tbody>\n",
       "</table>\n",
       "</div>"
      ],
      "text/plain": [
       "   category_id             username             brand_name    shop_id  \\\n",
       "0     11035478  adidasofficialstore  Adidas Official Store   71009635   \n",
       "1     11035478         akisport.net              Aki Sport  432189904   \n",
       "2     11035478      amalife_vietnam       Amalife Việt Nam  551582212   \n",
       "3     11035478           _andrealin              Andrealin  388588353   \n",
       "4     11035478        anta.official    Anta Flagship Store   93177350   \n",
       "\n",
       "        creation_time                                      shop_logo_url  \n",
       "0 2021-05-14 08:44:55  https://down-vn.img.susercontent.com/file/3a7d...  \n",
       "1 2021-08-30 04:29:27  https://down-vn.img.susercontent.com/file/eea8...  \n",
       "2 2021-11-04 07:51:47  https://down-vn.img.susercontent.com/file/b8ee...  \n",
       "3 2023-06-20 08:25:43  https://down-vn.img.susercontent.com/file/vn-5...  \n",
       "4 2021-05-14 08:44:55  https://down-vn.img.susercontent.com/file/7af9...  "
      ]
     },
     "execution_count": 172,
     "metadata": {},
     "output_type": "execute_result"
    }
   ],
   "source": [
    "shop.head()"
   ]
  }
 ],
 "metadata": {
  "kernelspec": {
   "display_name": "Python 3",
   "language": "python",
   "name": "python3"
  },
  "language_info": {
   "codemirror_mode": {
    "name": "ipython",
    "version": 3
   },
   "file_extension": ".py",
   "mimetype": "text/x-python",
   "name": "python",
   "nbconvert_exporter": "python",
   "pygments_lexer": "ipython3",
   "version": "3.12.1"
  }
 },
 "nbformat": 4,
 "nbformat_minor": 2
}
