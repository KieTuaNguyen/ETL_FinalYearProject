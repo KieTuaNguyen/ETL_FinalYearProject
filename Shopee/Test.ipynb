{
 "cells": [
  {
   "cell_type": "code",
   "execution_count": 1,
   "metadata": {},
   "outputs": [],
   "source": [
    "import requests"
   ]
  },
  {
   "cell_type": "code",
   "execution_count": 2,
   "metadata": {},
   "outputs": [],
   "source": [
    "URL = \"https://shopee.vn/apple_flagship_store?categoryId=100013&entryPoint=ShopByPDP&itemId=20493037179&upstream=search\"\n",
    "\n",
    "HEADERS = {\n",
    "    \"User-Agent\": \"Mozilla/5.0 (X11; Ubuntu; Linux x86_64; rv:122.0) Gecko/20100101 Firefox/122.0\",\n",
    "    \"From\": \"\",\n",
    "    \"af-ac-enc-dat\": \"\",\n",
    "    \"x-api-source\": \"pc\",\n",
    "}\n",
    "\n",
    "PARAMS = {\n",
    "    \"filters\": \"9\",\n",
    "    \"keyword\": \"funko\",\n",
    "    \"locations\": \"Nacional\",\n",
    "    \"noCorrection\": \"true\",\n",
    "    \"page\": \"0\",\n",
    "    \"sortBy\": \"relevancy\",\n",
    "}"
   ]
  },
  {
   "cell_type": "code",
   "execution_count": 3,
   "metadata": {},
   "outputs": [
    {
     "name": "stdout",
     "output_type": "stream",
     "text": [
      "<Response [200]>\n"
     ]
    }
   ],
   "source": [
    "with requests.Session() as session:\n",
    "    response = session.get(URL, params=PARAMS, headers=HEADERS)\n",
    "    print(response)"
   ]
  }
 ],
 "metadata": {
  "kernelspec": {
   "display_name": "Python 3",
   "language": "python",
   "name": "python3"
  },
  "language_info": {
   "codemirror_mode": {
    "name": "ipython",
    "version": 3
   },
   "file_extension": ".py",
   "mimetype": "text/x-python",
   "name": "python",
   "nbconvert_exporter": "python",
   "pygments_lexer": "ipython3",
   "version": "3.12.1"
  }
 },
 "nbformat": 4,
 "nbformat_minor": 2
}
