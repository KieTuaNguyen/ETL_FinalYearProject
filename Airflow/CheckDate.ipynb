{
 "cells": [
  {
   "cell_type": "code",
   "execution_count": 4,
   "metadata": {},
   "outputs": [
    {
     "name": "stdout",
     "output_type": "stream",
     "text": [
      "Current Date: 2024-06-04\n",
      "The date is even.\n",
      "The date is not the middle of the month.\n"
     ]
    }
   ],
   "source": [
    "import datetime\n",
    "\n",
    "# Get the current date\n",
    "current_date = datetime.date.today()\n",
    "\n",
    "# Get the day of the month\n",
    "day = current_date.day\n",
    "\n",
    "# Check if the day is odd or even\n",
    "if day % 2 == 0:\n",
    "    print(\"Current Date:\", current_date)\n",
    "    print(\"The date is even.\")\n",
    "else:\n",
    "    print(\"Current Date:\", current_date)\n",
    "    print(\"The date is odd.\")\n",
    "\n",
    "# Check if the date is the 15th of the month\n",
    "if day == 15:\n",
    "    print(\"The date is the middle of the month.\")\n",
    "else:\n",
    "    print(\"The date is not the middle of the month.\")"
   ]
  }
 ],
 "metadata": {
  "kernelspec": {
   "display_name": "Python 3",
   "language": "python",
   "name": "python3"
  },
  "language_info": {
   "codemirror_mode": {
    "name": "ipython",
    "version": 3
   },
   "file_extension": ".py",
   "mimetype": "text/x-python",
   "name": "python",
   "nbconvert_exporter": "python",
   "pygments_lexer": "ipython3",
   "version": "3.12.1"
  }
 },
 "nbformat": 4,
 "nbformat_minor": 2
}
