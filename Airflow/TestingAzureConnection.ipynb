{
 "cells": [
  {
   "cell_type": "code",
   "execution_count": 1,
   "metadata": {},
   "outputs": [],
   "source": [
    "import pyodbc\n",
    "import json"
   ]
  },
  {
   "cell_type": "code",
   "execution_count": 2,
   "metadata": {},
   "outputs": [],
   "source": [
    "# Read the configuration from the config.prod.json file\n",
    "with open('./configs/config.prod.json') as f:\n",
    "    config = json.load(f)['ProductionDB']\n",
    "\n",
    "# Configuration for the SQL Server connection\n",
    "server = config['server']\n",
    "database = config['database']\n",
    "username = config['username']\n",
    "password = config['password']\n",
    "driver = config['driver']\n",
    "\n",
    "# Connection string\n",
    "conn_str = (\n",
    "    f\"DRIVER={driver};\"\n",
    "    f\"SERVER={server};\"\n",
    "    f\"DATABASE={database};\"\n",
    "    f\"UID={username};\"\n",
    "    f\"PWD={password}\"\n",
    ")"
   ]
  },
  {
   "cell_type": "code",
   "execution_count": 3,
   "metadata": {},
   "outputs": [
    {
     "name": "stdout",
     "output_type": "stream",
     "text": [
      "Connected to Azure SQL Server\n"
     ]
    }
   ],
   "source": [
    "conn = pyodbc.connect(conn_str)\n",
    "print(\"Connected to Azure SQL Server\")\n",
    "\n",
    "# You can execute queries or perform other operations here\n",
    "cursor = conn.cursor()"
   ]
  },
  {
   "cell_type": "code",
   "execution_count": 4,
   "metadata": {},
   "outputs": [
    {
     "name": "stdout",
     "output_type": "stream",
     "text": [
      "Table created successfully\n"
     ]
    }
   ],
   "source": [
    "# Create a new table\n",
    "cursor.execute(\"\"\"\n",
    "    CREATE TABLE TestTable (\n",
    "        Id INT IDENTITY(1,1) PRIMARY KEY,\n",
    "        Name NVARCHAR(50),\n",
    "        Age INT\n",
    "    )\n",
    "\"\"\")\n",
    "print(\"Table created successfully\")"
   ]
  },
  {
   "cell_type": "code",
   "execution_count": 5,
   "metadata": {},
   "outputs": [
    {
     "name": "stdout",
     "output_type": "stream",
     "text": [
      "Data inserted successfully\n"
     ]
    }
   ],
   "source": [
    "# Insert data (Create)\n",
    "cursor.execute(\"INSERT INTO TestTable (Name, Age) VALUES (?, ?)\", (\"John Doe\", 30))\n",
    "cursor.execute(\"INSERT INTO TestTable (Name, Age) VALUES (?, ?)\", (\"Jane Smith\", 25))\n",
    "conn.commit()\n",
    "print(\"Data inserted successfully\")"
   ]
  },
  {
   "cell_type": "code",
   "execution_count": 6,
   "metadata": {},
   "outputs": [
    {
     "name": "stdout",
     "output_type": "stream",
     "text": [
      "Data in the table:\n",
      "(1, 'John Doe', 30)\n",
      "(2, 'Jane Smith', 25)\n"
     ]
    }
   ],
   "source": [
    "# Read data\n",
    "cursor.execute(\"SELECT * FROM TestTable\")\n",
    "rows = cursor.fetchall()\n",
    "print(\"Data in the table:\")\n",
    "for row in rows:\n",
    "    print(row)"
   ]
  },
  {
   "cell_type": "code",
   "execution_count": 7,
   "metadata": {},
   "outputs": [
    {
     "name": "stdout",
     "output_type": "stream",
     "text": [
      "Data updated successfully\n"
     ]
    }
   ],
   "source": [
    "# Update data\n",
    "cursor.execute(\"UPDATE TestTable SET Age = ? WHERE Id = ?\", (35, 1))\n",
    "conn.commit()\n",
    "print(\"Data updated successfully\")"
   ]
  },
  {
   "cell_type": "code",
   "execution_count": 8,
   "metadata": {},
   "outputs": [
    {
     "name": "stdout",
     "output_type": "stream",
     "text": [
      "Data in the table after update:\n",
      "(1, 'John Doe', 35)\n",
      "(2, 'Jane Smith', 25)\n"
     ]
    }
   ],
   "source": [
    "# Read data after update\n",
    "cursor.execute(\"SELECT * FROM TestTable\")\n",
    "rows = cursor.fetchall()\n",
    "print(\"Data in the table after update:\")\n",
    "for row in rows:\n",
    "    print(row)"
   ]
  },
  {
   "cell_type": "code",
   "execution_count": 9,
   "metadata": {},
   "outputs": [
    {
     "name": "stdout",
     "output_type": "stream",
     "text": [
      "Data deleted successfully\n"
     ]
    }
   ],
   "source": [
    "# Delete data\n",
    "cursor.execute(\"DELETE FROM TestTable WHERE Id = ?\", 2)\n",
    "conn.commit()\n",
    "print(\"Data deleted successfully\")"
   ]
  },
  {
   "cell_type": "code",
   "execution_count": 10,
   "metadata": {},
   "outputs": [
    {
     "name": "stdout",
     "output_type": "stream",
     "text": [
      "Data in the table after delete:\n",
      "(1, 'John Doe', 35)\n"
     ]
    }
   ],
   "source": [
    "# Read data after delete\n",
    "cursor.execute(\"SELECT * FROM TestTable\")\n",
    "rows = cursor.fetchall()\n",
    "print(\"Data in the table after delete:\")\n",
    "for row in rows:\n",
    "    print(row)"
   ]
  },
  {
   "cell_type": "code",
   "execution_count": 11,
   "metadata": {},
   "outputs": [
    {
     "name": "stdout",
     "output_type": "stream",
     "text": [
      "Table dropped successfully\n"
     ]
    }
   ],
   "source": [
    "# Drop the table\n",
    "cursor.execute(\"DROP TABLE TestTable\")\n",
    "print(\"Table dropped successfully\")"
   ]
  },
  {
   "cell_type": "code",
   "execution_count": 12,
   "metadata": {},
   "outputs": [
    {
     "name": "stdout",
     "output_type": "stream",
     "text": [
      "Connection closed\n"
     ]
    }
   ],
   "source": [
    "# Close the connection\n",
    "conn.close()\n",
    "print(\"Connection closed\")"
   ]
  }
 ],
 "metadata": {
  "kernelspec": {
   "display_name": "Python 3",
   "language": "python",
   "name": "python3"
  },
  "language_info": {
   "codemirror_mode": {
    "name": "ipython",
    "version": 3
   },
   "file_extension": ".py",
   "mimetype": "text/x-python",
   "name": "python",
   "nbconvert_exporter": "python",
   "pygments_lexer": "ipython3",
   "version": "3.12.1"
  }
 },
 "nbformat": 4,
 "nbformat_minor": 2
}
