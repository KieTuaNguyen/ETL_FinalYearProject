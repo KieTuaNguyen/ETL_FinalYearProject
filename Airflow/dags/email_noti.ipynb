{
 "cells": [
  {
   "cell_type": "code",
   "execution_count": 3,
   "metadata": {},
   "outputs": [],
   "source": [
    "import smtplib\n",
    "from email.mime.text import MIMEText\n",
    "from email.mime.multipart import MIMEMultipart\n",
    "from email.utils import formataddr"
   ]
  },
  {
   "cell_type": "code",
   "execution_count": 4,
   "metadata": {},
   "outputs": [],
   "source": [
    "# Email configuration\n",
    "sender_email = \"kietntgdd210002@fpt.edu.vn\"\n",
    "sender_name = \"Flexiboard\"\n",
    "receiver_email = \"kietntgdd210002@fpt.edu.vn\"\n",
    "password = \"aocmzbhrothmtrbk\""
   ]
  },
  {
   "cell_type": "code",
   "execution_count": 5,
   "metadata": {},
   "outputs": [],
   "source": [
    "# Create message\n",
    "message = MIMEMultipart()\n",
    "message[\"From\"] = formataddr((sender_name, sender_email))\n",
    "message[\"To\"] = receiver_email\n",
    "message[\"Subject\"] = \"Test Email from Python\""
   ]
  },
  {
   "cell_type": "code",
   "execution_count": 6,
   "metadata": {},
   "outputs": [],
   "source": [
    "# Add body to email\n",
    "body = \"This is a test email sent from Python using Gmail's SMTP server.\"\n",
    "message.attach(MIMEText(body, \"plain\"))"
   ]
  },
  {
   "cell_type": "code",
   "execution_count": 7,
   "metadata": {},
   "outputs": [],
   "source": [
    "# Create SMTP session\n",
    "try:\n",
    "    with smtplib.SMTP(\"smtp.gmail.com\", 587) as server:\n",
    "        server.starttls()  # Enable TLS\n",
    "        server.login(sender_email, password)\n",
    "        text = message.as_string()\n",
    "        server.sendmail(sender_email, receiver_email, text)\n",
    "    print(\"Test email sent successfully!\")\n",
    "except Exception as e:\n",
    "    print(f\"An error occurred: {e}\")"
   ]
  }
 ],
 "metadata": {
  "kernelspec": {
   "display_name": "Python 3",
   "language": "python",
   "name": "python3"
  },
  "language_info": {
   "codemirror_mode": {
    "name": "ipython",
    "version": 3
   },
   "file_extension": ".py",
   "mimetype": "text/x-python",
   "name": "python",
   "nbconvert_exporter": "python",
   "pygments_lexer": "ipython3",
   "version": "3.12.1"
  }
 },
 "nbformat": 4,
 "nbformat_minor": 2
}
