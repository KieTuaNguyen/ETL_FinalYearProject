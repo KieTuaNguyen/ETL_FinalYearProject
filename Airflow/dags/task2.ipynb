{
 "cells": [
  {
   "cell_type": "code",
   "execution_count": 1,
   "metadata": {},
   "outputs": [],
   "source": [
    "# Import libraries\n",
    "import pandas as pd\n",
    "import requests\n",
    "import random\n",
    "import time\n",
    "from datetime import datetime\n",
    "\n",
    "# Parameters\n",
    "GroupID = ['1846', '1789']\n",
    "brands = ['HP']\n",
    "\n",
    "def retrieve_product_ids(id):\n",
    "    base_url = \"https://tiki.vn/api/personalish/v1/blocks/listings\"\n",
    "    PARAMS = {\"category\": id, \"page\": 1}\n",
    "    response = requests.get(base_url, headers=HEADERS, params=PARAMS)\n",
    "    time.sleep(random.uniform(3.2, 8.7))\n",
    "    data = response.json()\n",
    "    total_page = data[\"paging\"][\"last_page\"]\n",
    "    product_data = []\n",
    "    for page in range(1, total_page + 1):\n",
    "        PARAMS = {\"category\": id, \"page\": page}\n",
    "        response = requests.get(base_url, headers=HEADERS, params=PARAMS)\n",
    "        time.sleep(random.uniform(3.2, 8.7))\n",
    "        data = response.json()\n",
    "        for item in data[\"data\"]:\n",
    "            product_id = item[\"id\"]\n",
    "            brand_name = item.get(\"brand_name\", None)\n",
    "            product_data.append({\"sub_category_id\": id, \"product_id\": product_id, \"brand_name\": brand_name})\n",
    "    return product_data\n",
    "\n",
    "# Set up header\n",
    "HEADERS = {\n",
    "    \"User-Agent\": \"Mozilla/5.0 (Windows NT 10.0; Win64; x64) AppleWebKit/537.36 (KHTML, like Gecko) Chrome/121.0.0.0 Safari/537.36 Edg/121.0.0.0\",\n",
    "    \"Accept-Language\": 'en-US,en;q=0.9',\n",
    "    \"Accept-Encoding\": \"gzip, deflate, br, zstd\",\n",
    "    \"Referer\": \"https://tiki.vn/\",\n",
    "    \"From\": \"\",\n",
    "    \"af-ac-enc-dat\": \"\",\n",
    "    \"x-api-source\": \"pc\"\n",
    "}"
   ]
  },
  {
   "cell_type": "code",
   "execution_count": 2,
   "metadata": {},
   "outputs": [],
   "source": [
    "sub_category_df = pd.read_csv(\"sub_category.csv\")\n",
    "sub_category_df = pd.DataFrame(sub_category_df)"
   ]
  },
  {
   "cell_type": "code",
   "execution_count": 3,
   "metadata": {},
   "outputs": [
    {
     "name": "stdout",
     "output_type": "stream",
     "text": [
      "Success fetching data for 22997 product ids\n"
     ]
    }
   ],
   "source": [
    "# EXTRACT product ids\n",
    "product_ids = []\n",
    "for sub_category_id in sub_category_df[\"SubCategoryID\"]:\n",
    "    product_data = retrieve_product_ids(sub_category_id)\n",
    "    product_ids.extend(product_data)\n",
    "\n",
    "print(f\"Success fetching data for {len(product_ids)} product ids\")\n",
    "reference_product = pd.DataFrame(product_ids)\n",
    "\n",
    "# Create ReferenceID by combining SubCategoryID and ProductID\n",
    "reference_product[\"ReferenceID\"] = reference_product[\"sub_category_id\"].astype(str) + reference_product[\"product_id\"].astype(str)\n",
    "\n",
    "# Reorder columns\n",
    "reference_product = reference_product[[\"ReferenceID\", \"sub_category_id\", \"product_id\", \"brand_name\"]]\n",
    "\n",
    "# Rename columns\n",
    "reference_product.columns = [\"ReferenceID\", \"SubCategoryID\", \"ProductID\", \"BrandName\"]\n",
    "\n",
    "# Handle dupliate records\n",
    "print(\"Number of records in reference_product.csv: \", reference_product.shape[0])\n",
    "# Remove duplicate records\n",
    "print(\"Number of duplicate records: \", reference_product.duplicated().sum())\n",
    "# Show duplicate records\n",
    "duplicate_records = reference_product[reference_product.duplicated()]\n",
    "print(duplicate_records)\n",
    "reference_product = reference_product.drop_duplicates()\n",
    "print(\"Number of records after removing duplicates: \", reference_product.shape[0])\n",
    "\n",
    "# Save to csv\n",
    "reference_product.to_csv('reference_product.csv', index=False, encoding='utf-8-sig')"
   ]
  }
 ],
 "metadata": {
  "kernelspec": {
   "display_name": "Python 3",
   "language": "python",
   "name": "python3"
  },
  "language_info": {
   "codemirror_mode": {
    "name": "ipython",
    "version": 3
   },
   "file_extension": ".py",
   "mimetype": "text/x-python",
   "name": "python",
   "nbconvert_exporter": "python",
   "pygments_lexer": "ipython3",
   "version": "3.12.1"
  }
 },
 "nbformat": 4,
 "nbformat_minor": 2
}
