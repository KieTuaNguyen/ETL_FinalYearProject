{
 "cells": [
  {
   "cell_type": "code",
   "execution_count": 3,
   "metadata": {},
   "outputs": [],
   "source": [
    "# Import libraries\n",
    "import pandas as pd\n",
    "import requests\n",
    "import random\n",
    "import time\n",
    "from datetime import datetime\n",
    "# Parameters\n",
    "GroupID = ['1846', '1789']\n",
    "brands = ['HP']\n",
    "# Define functions\n",
    "def remove_single_category(df):\n",
    "    category_counts = df.groupby('MasterCategoryID')['CategoryID'].nunique()\n",
    "    single_category_mask = category_counts == 1\n",
    "    df.loc[df['MasterCategoryID'].isin(single_category_mask[single_category_mask].index), ['CategoryID', 'CategoryName']] = [None, None]\n",
    "    return df\n",
    "\n",
    "def transform_category(row):\n",
    "    if pd.isna(row['CategoryID']):\n",
    "        master_category_id = row['MasterCategoryID']\n",
    "        master_category_name = row['MasterCategoryName']\n",
    "        category_id = row['MasterCategoryID']\n",
    "        category_name = row['MasterCategoryName']\n",
    "        is_category = 0\n",
    "    else:\n",
    "        master_category_id = row['MasterCategoryID']\n",
    "        master_category_name = row['MasterCategoryName']\n",
    "        category_id = row['CategoryID']\n",
    "        category_name = row['CategoryName']\n",
    "        is_category = 1\n",
    "\n",
    "    if pd.isna(row['SubCategoryID']):\n",
    "        sub_category_id = category_id\n",
    "        sub_category_name = category_name\n",
    "        is_sub_category = 0\n",
    "    else:\n",
    "        sub_category_id = row['SubCategoryID']\n",
    "        sub_category_name = row['SubCategoryName']\n",
    "        is_sub_category = 1\n",
    "\n",
    "    return pd.Series([\n",
    "        master_category_id, master_category_name, category_id, category_name,\n",
    "        is_category, sub_category_id, sub_category_name, is_sub_category\n",
    "    ])\n",
    "\n",
    "def retrieve_product_ids(id):\n",
    "    base_url = \"https://tiki.vn/api/personalish/v1/blocks/listings\"\n",
    "    PARAMS = {\"category\": id, \"page\": 1}\n",
    "    response = requests.get(base_url, headers=HEADERS, params=PARAMS)\n",
    "    time.sleep(random.uniform(3.2, 8.7))\n",
    "    data = response.json()\n",
    "    total_page = data[\"paging\"][\"last_page\"]\n",
    "\n",
    "    product_data = []\n",
    "    for page in range(1, total_page + 1):\n",
    "        PARAMS = {\"category\": id, \"page\": page}\n",
    "        response = requests.get(base_url, headers=HEADERS, params=PARAMS)\n",
    "        time.sleep(random.uniform(3.2, 8.7))\n",
    "        data = response.json()\n",
    "        for item in data[\"data\"]:\n",
    "            product_id = item[\"id\"]\n",
    "            brand_name = item.get(\"brand_name\", None)\n",
    "            product_data.append({\"product_id\": product_id, \"brand_name\": brand_name})\n",
    "\n",
    "    return product_data\n",
    "# Set up header\n",
    "HEADERS = {\n",
    "    \"User-Agent\": \"Mozilla/5.0 (Windows NT 10.0; Win64; x64) AppleWebKit/537.36 (KHTML, like Gecko) Chrome/121.0.0.0 Safari/537.36 Edg/121.0.0.0\",\n",
    "    \"Accept-Language\": 'en-US,en;q=0.9',\n",
    "    \"Accept-Encoding\": \"gzip, deflate, br, zstd\",\n",
    "    \"Referer\": \"https://tiki.vn/\",\n",
    "    \"From\": \"\",\n",
    "    \"af-ac-enc-dat\": \"\",\n",
    "    \"x-api-source\": \"pc\"\n",
    "}"
   ]
  },
  {
   "cell_type": "code",
   "execution_count": 15,
   "metadata": {},
   "outputs": [
    {
     "ename": "KeyboardInterrupt",
     "evalue": "",
     "output_type": "error",
     "traceback": [
      "\u001b[1;31m---------------------------------------------------------------------------\u001b[0m",
      "\u001b[1;31mKeyboardInterrupt\u001b[0m                         Traceback (most recent call last)",
      "Cell \u001b[1;32mIn[15], line 5\u001b[0m\n\u001b[0;32m      2\u001b[0m URL \u001b[38;5;241m=\u001b[39m \u001b[38;5;124m\"\u001b[39m\u001b[38;5;124mhttps://api.tiki.vn/raiden/v2/menu-config?platform=desktop\u001b[39m\u001b[38;5;124m\"\u001b[39m\n\u001b[0;32m      4\u001b[0m response \u001b[38;5;241m=\u001b[39m requests\u001b[38;5;241m.\u001b[39mget(URL, headers\u001b[38;5;241m=\u001b[39mHEADERS)\n\u001b[1;32m----> 5\u001b[0m \u001b[43mtime\u001b[49m\u001b[38;5;241;43m.\u001b[39;49m\u001b[43msleep\u001b[49m\u001b[43m(\u001b[49m\u001b[43mrandom\u001b[49m\u001b[38;5;241;43m.\u001b[39;49m\u001b[43muniform\u001b[49m\u001b[43m(\u001b[49m\u001b[38;5;241;43m3.2\u001b[39;49m\u001b[43m,\u001b[49m\u001b[43m \u001b[49m\u001b[38;5;241;43m8.7\u001b[39;49m\u001b[43m)\u001b[49m\u001b[43m)\u001b[49m\n\u001b[0;32m      7\u001b[0m \u001b[38;5;28;01mif\u001b[39;00m response\u001b[38;5;241m.\u001b[39mstatus_code \u001b[38;5;241m==\u001b[39m \u001b[38;5;241m200\u001b[39m:\n\u001b[0;32m      8\u001b[0m     data \u001b[38;5;241m=\u001b[39m response\u001b[38;5;241m.\u001b[39mjson()\n",
      "\u001b[1;31mKeyboardInterrupt\u001b[0m: "
     ]
    }
   ],
   "source": [
    "# EXTRACT group of categories\n",
    "URL = \"https://api.tiki.vn/raiden/v2/menu-config?platform=desktop\"\n",
    "\n",
    "response = requests.get(URL, headers=HEADERS)\n",
    "time.sleep(random.uniform(3.2, 8.7))\n",
    "\n",
    "if response.status_code == 200:\n",
    "    data = response.json()\n",
    "    \n",
    "    group_list = []\n",
    "    group = data[\"menu_block\"][\"items\"]\n",
    "    for group in group:\n",
    "      link = group[\"link\"]\n",
    "      group_id = link.split(\"/\")[-1][1:]\n",
    "      text = group[\"text\"]\n",
    "\n",
    "      if group_id in GroupID:\n",
    "          group_list.append([group_id, text])\n",
    "      \n",
    "# group df    \n",
    "group_df = pd.DataFrame(group_list, columns=[\"GroupID\", \"Name\"])\n",
    "# EXTRACT categories\n",
    "category_list = []\n",
    "for group_id, group_name in zip(group_df[\"GroupID\"], group_df[\"Name\"]):\n",
    "    parent_url = f\"https://tiki.vn/api/v2/categories?parent_id={group_id}\"\n",
    "    parent_response = requests.get(parent_url, headers=HEADERS)\n",
    "    time.sleep(random.uniform(3.2, 8.7))\n",
    "    if parent_response.status_code == 200:\n",
    "        parent_data = parent_response.json()\n",
    "        if not parent_data[\"data\"]:\n",
    "            category_list.append([group_id, group_name, None, None, None, None, None, None])\n",
    "        else:\n",
    "            for parent_category in parent_data[\"data\"]:\n",
    "                parent_id = parent_category[\"id\"]\n",
    "                parent_name = parent_category[\"name\"]\n",
    "                \n",
    "                child_url = f\"https://tiki.vn/api/v2/categories?parent_id={parent_id}\"\n",
    "                child_response = requests.get(child_url, headers=HEADERS)\n",
    "                time.sleep(random.uniform(3.2, 8.7))\n",
    "                \n",
    "                if child_response.status_code == 200:\n",
    "                    child_data = child_response.json()\n",
    "                    if not child_data[\"data\"]:\n",
    "                        category_list.append([group_id, group_name, parent_id, parent_name, None, None, None, None])\n",
    "                    else:\n",
    "                        for child_category in child_data[\"data\"]:\n",
    "                            child_id = child_category[\"id\"]\n",
    "                            child_name = child_category[\"name\"]\n",
    "                            \n",
    "                            type_url = f\"https://tiki.vn/api/v2/categories?parent_id={child_id}\"\n",
    "                            type_response = requests.get(type_url, headers=HEADERS)\n",
    "                            time.sleep(random.uniform(3.2, 8.7))\n",
    "                            \n",
    "                            if type_response.status_code == 200:\n",
    "                                type_data = type_response.json()\n",
    "                                if type_data[\"data\"]:\n",
    "                                    for type_item in type_data[\"data\"]:\n",
    "                                        type_id = type_item.get(\"id\")\n",
    "                                        type_name = type_item.get(\"name\")\n",
    "                                        category_list.append([group_id, group_name, parent_id, parent_name, child_id, child_name, type_id, type_name])\n",
    "                                else:\n",
    "                                    category_list.append([group_id, group_name, parent_id, parent_name, child_id, child_name, None, None])\n",
    "\n",
    "category = pd.DataFrame(category_list, columns=[\"GroupID\", \"GroupName\", \"MasterCategoryID\", \"MasterCategoryName\", \"CategoryID\", \"CategoryName\", \"SubCategoryID\", \"SubCategoryName\"])\n",
    "cleaned_df = remove_single_category(category)\n",
    "category[['MasterCategoryID', 'MasterCategoryName', 'CategoryID', 'CategoryName', 'isCategory', 'SubCategoryID', 'SubCategoryName', 'isSubCategory']] = category.apply(transform_category, axis=1, result_type='expand')\n",
    "category[\"GroupID\"] = category[\"GroupID\"].astype(int)\n",
    "category[\"MasterCategoryID\"] = category[\"MasterCategoryID\"].astype(int)\n",
    "category[\"CategoryID\"] = category[\"CategoryID\"].astype(int)\n",
    "category[\"SubCategoryID\"] = category[\"SubCategoryID\"].astype(int)\n",
    "\n",
    "# master_category df\n",
    "master_category_df = category[[\"MasterCategoryID\", \"GroupID\", \"MasterCategoryName\"]].drop_duplicates()\n",
    "master_category_df = master_category_df.rename(columns={\"MasterCategoryName\": \"Name\"})\n",
    "# category df\n",
    "category_df = category[[\"CategoryID\", \"MasterCategoryID\", \"CategoryName\", \"isCategory\"]].drop_duplicates()\n",
    "category_df = category_df.rename(columns={\"CategoryName\": \"Name\"})\n",
    "# sub_category df\n",
    "sub_category_df = category[[\"SubCategoryID\", \"CategoryID\", \"SubCategoryName\", \"isSubCategory\"]].drop_duplicates()\n",
    "sub_category_df = sub_category_df.rename(columns={\"SubCategoryName\": \"Name\"})"
   ]
  },
  {
   "cell_type": "code",
   "execution_count": null,
   "metadata": {},
   "outputs": [],
   "source": [
    "sub_category_df.to_csv('sub_category.csv', index=False, encoding='utf-8-sig')"
   ]
  },
  {
   "cell_type": "code",
   "execution_count": 17,
   "metadata": {},
   "outputs": [
    {
     "data": {
      "text/plain": [
       "MasterCategoryID     int32\n",
       "GroupID              int32\n",
       "Name                object\n",
       "dtype: object"
      ]
     },
     "execution_count": 17,
     "metadata": {},
     "output_type": "execute_result"
    }
   ],
   "source": [
    "master_category_df.dtypes"
   ]
  },
  {
   "cell_type": "code",
   "execution_count": 11,
   "metadata": {},
   "outputs": [
    {
     "data": {
      "text/plain": [
       "CategoryID           int32\n",
       "MasterCategoryID     int32\n",
       "Name                object\n",
       "isCategory           int64\n",
       "dtype: object"
      ]
     },
     "execution_count": 11,
     "metadata": {},
     "output_type": "execute_result"
    }
   ],
   "source": [
    "category_df.dtypes"
   ]
  },
  {
   "cell_type": "code",
   "execution_count": 12,
   "metadata": {},
   "outputs": [
    {
     "data": {
      "text/plain": [
       "SubCategoryID     int32\n",
       "CategoryID        int32\n",
       "Name             object\n",
       "isSubCategory     int64\n",
       "dtype: object"
      ]
     },
     "execution_count": 12,
     "metadata": {},
     "output_type": "execute_result"
    }
   ],
   "source": [
    "sub_category_df.dtypes"
   ]
  },
  {
   "cell_type": "code",
   "execution_count": 30,
   "metadata": {},
   "outputs": [
    {
     "name": "stdout",
     "output_type": "stream",
     "text": [
      "Connected to Azure SQL Server\n",
      "Dropped table: SalesLT.Product\n",
      "Error dropping tables: ('42000', \"[42000] [Microsoft][ODBC Driver 18 for SQL Server][SQL Server]Cannot DROP TABLE 'SalesLT.ProductCategory' because it is being referenced by object 'vGetAllCategories'. (3729) (SQLExecDirectW)\")\n"
     ]
    }
   ],
   "source": [
    "import pyodbc\n",
    "import json\n",
    "import pandas as pd\n",
    "\n",
    "# Configuration for the SQL Server connection\n",
    "server = 'flexiboard.database.windows.net'\n",
    "database = 'DevDB'\n",
    "username = 'flexiboard-admin'\n",
    "password = 'Final@Project2024'\n",
    "driver = 'ODBC Driver 18 for SQL Server'\n",
    "\n",
    "# Set the desired timeout value in seconds\n",
    "timeout = 60\n",
    "\n",
    "# Connection string\n",
    "conn_str = (\n",
    "    f\"DRIVER={driver};\"\n",
    "    f\"SERVER={server};\"\n",
    "    f\"DATABASE={database};\"\n",
    "    f\"UID={username};\"\n",
    "    f\"PWD={password};\"\n",
    "    f\"Timeout={timeout};\"\n",
    ")\n",
    "\n",
    "conn = pyodbc.connect(conn_str)\n",
    "print(\"Connected to Azure SQL Server\")\n",
    "\n",
    "# Create a cursor\n",
    "cursor = conn.cursor()\n",
    "\n",
    "# Drop tables in the correct order\n",
    "try:\n",
    "    # Drop the view that references the tables\n",
    "    cursor.execute(\"DROP VIEW IF EXISTS SalesLT.vProductAndDescription\")\n",
    "\n",
    "    # Get table information\n",
    "    tables = []\n",
    "    cursor.execute(\"SELECT DISTINCT KCU.TABLE_NAME, KCU.CONSTRAINT_NAME FROM INFORMATION_SCHEMA.KEY_COLUMN_USAGE KCU INNER JOIN INFORMATION_SCHEMA.TABLE_CONSTRAINTS TC ON KCU.CONSTRAINT_NAME = TC.CONSTRAINT_NAME WHERE TC.CONSTRAINT_TYPE = 'FOREIGN KEY' AND KCU.TABLE_SCHEMA = 'SalesLT'\")\n",
    "    for table_name, constraint_name in cursor.fetchall():\n",
    "        tables.append((table_name, constraint_name))\n",
    "\n",
    "    # Sort tables based on foreign key constraints\n",
    "    sorted_tables = sorted(set(tables), key=lambda x: tables.count(x), reverse=True)\n",
    "\n",
    "    # Drop tables referencing SalesLT.ProductCategory first\n",
    "    product_category_refs = []\n",
    "    cursor.execute(\"SELECT DISTINCT OBJECT_NAME(PARENT_OBJECT_ID) FROM SYS.FOREIGN_KEYS WHERE REFERENCED_OBJECT_ID = OBJECT_ID('SalesLT.ProductCategory')\")\n",
    "    for ref_table in cursor.fetchall():\n",
    "        product_category_refs.append(ref_table[0])\n",
    "\n",
    "    for ref_table in product_category_refs:\n",
    "        cursor.execute(f\"DROP TABLE SalesLT.{ref_table}\")\n",
    "        print(f\"Dropped table: SalesLT.{ref_table}\")\n",
    "\n",
    "    # Drop remaining tables in the correct order\n",
    "    for table_name, _ in sorted_tables:\n",
    "        if table_name not in product_category_refs:\n",
    "            cursor.execute(f\"DROP TABLE SalesLT.{table_name}\")\n",
    "            print(f\"Dropped table: SalesLT.{table_name}\")\n",
    "\n",
    "    conn.commit()\n",
    "    print(\"Tables dropped successfully!\")\n",
    "except pyodbc.Error as e:\n",
    "    print(f\"Error dropping tables: {e}\")\n",
    "    conn.rollback()"
   ]
  },
  {
   "cell_type": "code",
   "execution_count": null,
   "metadata": {},
   "outputs": [],
   "source": []
  }
 ],
 "metadata": {
  "kernelspec": {
   "display_name": "Python 3",
   "language": "python",
   "name": "python3"
  },
  "language_info": {
   "codemirror_mode": {
    "name": "ipython",
    "version": 3
   },
   "file_extension": ".py",
   "mimetype": "text/x-python",
   "name": "python",
   "nbconvert_exporter": "python",
   "pygments_lexer": "ipython3",
   "version": "3.12.1"
  }
 },
 "nbformat": 4,
 "nbformat_minor": 2
}
