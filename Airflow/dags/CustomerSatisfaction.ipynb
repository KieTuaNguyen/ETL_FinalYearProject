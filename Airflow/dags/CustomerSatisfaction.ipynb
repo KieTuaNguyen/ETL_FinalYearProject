{
 "cells": [
  {
   "cell_type": "code",
   "execution_count": 5,
   "metadata": {},
   "outputs": [],
   "source": [
    "import pandas as pd"
   ]
  },
  {
   "cell_type": "code",
   "execution_count": 6,
   "metadata": {},
   "outputs": [],
   "source": [
    "def analyze_apple_feedback():\n",
    "    \"\"\"\n",
    "    Analyze feedback for Apple products with the following criteria:\n",
    "    1. Only include feedback with actual content\n",
    "    2. For products with >1000 reviews, take top 1000 based on content length\n",
    "    3. Return specific columns in the final output\n",
    "    \"\"\"\n",
    "    # Read the CSV files\n",
    "    brand_df = pd.read_csv('warehouse/product/Brand.csv', encoding='utf-8-sig')\n",
    "    product_df = pd.read_csv('warehouse/product/Product.csv', encoding='utf-8-sig')\n",
    "    feedback_df = pd.read_csv('warehouse/feedback/FeedbackDetail.csv', encoding='utf-8-sig')\n",
    "\n",
    "    # Merge the tables to get Apple product feedback\n",
    "    apple_feedback = (feedback_df\n",
    "        .merge(product_df[['ProductID', 'BrandID', 'Name']], on='ProductID', how='inner')\n",
    "        .merge(brand_df[['BrandID', 'Name']], on='BrandID', how='inner')\n",
    "        .query('BrandID == 17827'))\n",
    "    \n",
    "    # Rename product name column\n",
    "    apple_feedback = apple_feedback.rename(columns={'Name_x': 'Product_Name'})\n",
    "    \n",
    "    # Filter for entries with actual content and add word count\n",
    "    apple_feedback = apple_feedback[\n",
    "        apple_feedback['Content'].notna() & \n",
    "        (apple_feedback['Content'].str.strip() != '')\n",
    "    ]\n",
    "    \n",
    "    # Add word count for content\n",
    "    apple_feedback['word_count'] = apple_feedback['Content'].str.split().str.len()\n",
    "\n",
    "    def sample_reviews(group):\n",
    "        \"\"\"\n",
    "        If group has >1000 reviews, take top 1000 by word count\n",
    "        Otherwise return all reviews\n",
    "        \"\"\"\n",
    "        if len(group) > 2000:\n",
    "            return group.nlargest(1000, 'word_count')\n",
    "        return group\n",
    "\n",
    "    # Apply sampling by product\n",
    "    apple_feedback = (apple_feedback\n",
    "        .groupby('Product_Name', group_keys=False)\n",
    "        .apply(sample_reviews)\n",
    "        .reset_index(drop=True))\n",
    "    \n",
    "    # Select final columns\n",
    "    final_columns = [\n",
    "        'ProductID',\n",
    "        'UserID',\n",
    "        'GeneralFeedbackID',\n",
    "        'Title',\n",
    "        'Content',\n",
    "        'Upvote',\n",
    "        'Rating',\n",
    "        'CreatedDate',\n",
    "        'FeedbackDetailID'\n",
    "    ]\n",
    "    \n",
    "    apple_feedback_filtered = apple_feedback[final_columns]\n",
    "    \n",
    "    # Print summary statistics\n",
    "    product_review_counts = apple_feedback.groupby('Product_Name').size().sort_values(ascending=False)\n",
    "    print(\"\\nFinal review counts per product after filtering:\")\n",
    "    print(product_review_counts)\n",
    "    \n",
    "    print(f\"\\nTotal number of reviews in final dataset: {len(apple_feedback_filtered)}\")\n",
    "    \n",
    "    # Sample of content lengths\n",
    "    print(\"\\nContent length distribution (words):\")\n",
    "    print(apple_feedback['word_count'].describe())\n",
    "    \n",
    "    return apple_feedback_filtered"
   ]
  },
  {
   "cell_type": "code",
   "execution_count": 7,
   "metadata": {},
   "outputs": [
    {
     "name": "stdout",
     "output_type": "stream",
     "text": [
      "\n",
      "Final review counts per product after filtering:\n",
      "Product_Name\n",
      "Apple iPhone 13                                1974\n",
      "Apple iPhone 11                                1000\n",
      "MacBook Air M1 13 inch 2020                     821\n",
      "Apple iPad 10.2-inch (9th Gen) Wi-Fi, 2021      420\n",
      "Apple iPhone 15 Pro Max                         166\n",
      "Apple iPhone 14                                 123\n",
      "Apple iPad Air (5th Gen) Wi-Fi, 2022            104\n",
      "Apple iPhone 15                                  74\n",
      "MacBook Air M2                                   68\n",
      "Apple iPhone 14 Plus                             60\n",
      "Apple iPhone 16 Pro Max                          55\n",
      "Apple iPhone 15 Plus                             40\n",
      "Apple iPad 10.9-inch (10th Gen) Wi-Fi, 2022      36\n",
      "Apple iPhone 15 Pro                              35\n",
      "Apple iPhone 16                                  11\n",
      "Apple iPhone 16 Pro                              10\n",
      "Apple iPhone 16 Plus                              6\n",
      "Apple iPad Pro M4 11-Inch Wi-Fi                   4\n",
      "Apple iPad Air 6 M2 11-Inch Wi-Fi                 4\n",
      "MacBook Air M3 2024 13 inch                       2\n",
      "Apple iPad Air 6 M2 13-Inch Wi-Fi                 1\n",
      "MacBook Pro 14 inch M3 Pro 2023                   1\n",
      "dtype: int64\n",
      "\n",
      "Total number of reviews in final dataset: 5015\n",
      "\n",
      "Content length distribution (words):\n",
      "count    5015.000000\n",
      "mean       19.311067\n",
      "std        26.555031\n",
      "min         1.000000\n",
      "25%         5.000000\n",
      "50%        13.000000\n",
      "75%        25.000000\n",
      "max       552.000000\n",
      "Name: word_count, dtype: float64\n"
     ]
    },
    {
     "name": "stderr",
     "output_type": "stream",
     "text": [
      "C:\\Users\\kietd\\AppData\\Local\\Temp\\ipykernel_21200\\2006803572.py:43: DeprecationWarning: DataFrameGroupBy.apply operated on the grouping columns. This behavior is deprecated, and in a future version of pandas the grouping columns will be excluded from the operation. Either pass `include_groups=False` to exclude the groupings or explicitly select the grouping columns after groupby to silence this warning.\n",
      "  .apply(sample_reviews)\n"
     ]
    }
   ],
   "source": [
    "\n",
    "# Run the analysis\n",
    "apple_feedback_df = analyze_apple_feedback()"
   ]
  },
  {
   "cell_type": "code",
   "execution_count": 8,
   "metadata": {},
   "outputs": [],
   "source": [
    "# drop duplicate row\n",
    "apple_feedback_df = apple_feedback_df.drop_duplicates()\n",
    "apple_feedback_df.to_csv('CustomerSatisfaction.csv', index=False, encoding='utf-8-sig')"
   ]
  }
 ],
 "metadata": {
  "kernelspec": {
   "display_name": "Python 3",
   "language": "python",
   "name": "python3"
  },
  "language_info": {
   "codemirror_mode": {
    "name": "ipython",
    "version": 3
   },
   "file_extension": ".py",
   "mimetype": "text/x-python",
   "name": "python",
   "nbconvert_exporter": "python",
   "pygments_lexer": "ipython3",
   "version": "3.12.1"
  }
 },
 "nbformat": 4,
 "nbformat_minor": 2
}
