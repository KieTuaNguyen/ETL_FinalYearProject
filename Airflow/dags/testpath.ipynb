{
 "cells": [
  {
   "cell_type": "code",
   "execution_count": 1,
   "metadata": {},
   "outputs": [],
   "source": [
    "import pandas as pd\n",
    "path = 'category/'\n",
    "group_path = 'group.csv'\n",
    "master_category_path = 'category/master_category.csv'\n",
    "category_path = 'category/category.csv'\n",
    "sub_category_path = 'category/sub_category.csv'\n",
    "# Cast to df\n",
    "group_df = pd.DataFrame(pd.read_csv(path + group_path))"
   ]
  }
 ],
 "metadata": {
  "kernelspec": {
   "display_name": "Python 3",
   "language": "python",
   "name": "python3"
  },
  "language_info": {
   "codemirror_mode": {
    "name": "ipython",
    "version": 3
   },
   "file_extension": ".py",
   "mimetype": "text/x-python",
   "name": "python",
   "nbconvert_exporter": "python",
   "pygments_lexer": "ipython3",
   "version": "3.12.1"
  }
 },
 "nbformat": 4,
 "nbformat_minor": 2
}
