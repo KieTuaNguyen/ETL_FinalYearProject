{
 "cells": [
  {
   "cell_type": "code",
   "execution_count": 22,
   "metadata": {},
   "outputs": [
    {
     "name": "stdout",
     "output_type": "stream",
     "text": [
      "Connected to Azure SQL Server\n",
      "ODBC Driver Version: 18.03.0003\n"
     ]
    }
   ],
   "source": [
    "import pyodbc\n",
    "import json\n",
    "import pandas as pd\n",
    "\n",
    "# Read the configuration from the config.prod.json file\n",
    "with open('./configs/config.prod.json') as f:\n",
    "    config = json.load(f)['DevDB']\n",
    "\n",
    "# Configuration for the SQL Server connection\n",
    "server = config['server']\n",
    "database = config['database']\n",
    "username = config['username']\n",
    "password = config['password']\n",
    "driver = config['driver']\n",
    "\n",
    "# Connection string\n",
    "conn_str = (\n",
    "    f\"DRIVER={driver};\"\n",
    "    f\"SERVER={server};\"\n",
    "    f\"DATABASE={database};\"\n",
    "    f\"UID={username};\"\n",
    "    f\"PWD={password}\"\n",
    ")\n",
    "\n",
    "conn = pyodbc.connect(conn_str)\n",
    "print(\"Connected to Azure SQL Server\")\n",
    "\n",
    "\n",
    "# Get the ODBC driver version\n",
    "driver_version = conn.getinfo(pyodbc.SQL_DRIVER_VER)\n",
    "print(\"ODBC Driver Version:\", driver_version)"
   ]
  },
  {
   "cell_type": "code",
   "execution_count": 7,
   "metadata": {},
   "outputs": [],
   "source": [
    "import pyodbc\n",
    "import json\n",
    "import pandas as pd"
   ]
  },
  {
   "cell_type": "code",
   "execution_count": 8,
   "metadata": {},
   "outputs": [],
   "source": [
    "# Read the configuration from the config.prod.json file\n",
    "with open('./configs/config.prod.json') as f:\n",
    "    config = json.load(f)['DevDB']\n",
    "\n",
    "# Configuration for the SQL Server connection\n",
    "server = config['server']\n",
    "database = config['database']\n",
    "username = config['username']\n",
    "password = config['password']\n",
    "driver = config['driver']\n",
    "\n",
    "# Connection string\n",
    "conn_str = (\n",
    "    f\"DRIVER={driver};\"\n",
    "    f\"SERVER={server};\"\n",
    "    f\"DATABASE={database};\"\n",
    "    f\"UID={username};\"\n",
    "    f\"PWD={password}\"\n",
    ")"
   ]
  },
  {
   "cell_type": "code",
   "execution_count": 9,
   "metadata": {},
   "outputs": [
    {
     "name": "stdout",
     "output_type": "stream",
     "text": [
      "Connected to Azure SQL Server\n"
     ]
    }
   ],
   "source": [
    "conn = pyodbc.connect(conn_str)\n",
    "print(\"Connected to Azure SQL Server\")\n",
    "\n",
    "# You can execute queries or perform other operations here\n",
    "cursor = conn.cursor()"
   ]
  },
  {
   "cell_type": "code",
   "execution_count": 10,
   "metadata": {},
   "outputs": [],
   "source": [
    "def upsert_data(table_name, data_df, check_columns):\n",
    "    # Mapping pandas data types to SQL Server data types\n",
    "    dtype_map = {\n",
    "        'int64': 'BIGINT',\n",
    "        'float64': 'FLOAT',\n",
    "        'bool': 'BIT',\n",
    "        'datetime64[ns]': 'DATETIME',\n",
    "        'object': 'NVARCHAR(255)'\n",
    "    }\n",
    "\n",
    "    # Check if the table exists\n",
    "    cursor.execute(f\"SELECT 1 FROM sys.tables WHERE name = '{table_name}'\")\n",
    "    table_exists = cursor.fetchone()\n",
    "\n",
    "    if not table_exists:\n",
    "        # Create a new table with the specified columns\n",
    "        columns = [f\"{col} {dtype_map.get(str(data_df[col].dtype), 'NVARCHAR(255)')}\" for col in data_df.columns]\n",
    "        columns_str = \", \".join(columns)\n",
    "        primary_key_columns = \", \".join(check_columns)\n",
    "        create_table_query = f\"\"\"\n",
    "            CREATE TABLE {table_name} (\n",
    "                {columns_str},\n",
    "                PRIMARY KEY ({primary_key_columns})\n",
    "            )\n",
    "        \"\"\"\n",
    "        cursor.execute(create_table_query)\n",
    "        conn.commit()\n",
    "        print(f\"[CREATE NEW] The table '{table_name}' created.\")\n",
    "    else:\n",
    "        print(f\"[EXIST] The table '{table_name}' already exists.\")\n",
    "\n",
    "    # Prepare the insert and update queries\n",
    "    column_placeholders = \", \".join([\"?\"] * len(data_df.columns))\n",
    "    insert_query = f\"INSERT INTO {table_name} VALUES ({column_placeholders})\"\n",
    "    update_placeholders = \", \".join([f\"{col} = ?\" for col in data_df.columns])\n",
    "    check_conditions = \" AND \".join([f\"{col} = ?\" for col in check_columns])\n",
    "    update_query = f\"UPDATE {table_name} SET {update_placeholders} WHERE {check_conditions}\"\n",
    "\n",
    "    update_count = 0\n",
    "    insert_count = 0\n",
    "\n",
    "    for _, row in data_df.iterrows():\n",
    "        check_values = [row[col] for col in check_columns]\n",
    "        check_query = f\"SELECT COUNT(*) FROM {table_name} WHERE {check_conditions}\"\n",
    "        cursor.execute(check_query, check_values)\n",
    "        record_count = cursor.fetchone()[0]\n",
    "\n",
    "        try:\n",
    "            if record_count > 0:\n",
    "                update_values = [row[col] for col in data_df.columns] + check_values\n",
    "                cursor.execute(update_query, update_values)\n",
    "                update_count += 1\n",
    "            else:\n",
    "                insert_values = [row[col] for col in data_df.columns]\n",
    "                cursor.execute(insert_query, insert_values)\n",
    "                insert_count += 1\n",
    "            \n",
    "            conn.commit()\n",
    "        except Exception as e:\n",
    "            conn.rollback()\n",
    "            print(f\"Error occurred while processing record: {row}\")\n",
    "            print(f\"Error message: {str(e)}\")\n",
    "\n",
    "    result_message = \"\"\n",
    "    if update_count > 0:\n",
    "        result_message += f\"[UPDATE] There are {update_count} records updated.\\n\"\n",
    "    if insert_count > 0:\n",
    "        result_message += f\"[INSERT] There are {insert_count} records inserted.\"\n",
    "\n",
    "    return result_message"
   ]
  },
  {
   "cell_type": "code",
   "execution_count": 12,
   "metadata": {},
   "outputs": [
    {
     "name": "stdout",
     "output_type": "stream",
     "text": [
      "[EXIST] The table 'ReferenceProduct' already exists.\n"
     ]
    },
    {
     "ename": "OperationalError",
     "evalue": "('08S01', '[08S01] [Microsoft][ODBC Driver 18 for SQL Server]TCP Provider: An established connection was aborted by the software in your host machine.\\r\\n (10053) (SQLExecDirectW); [08S01] [Microsoft][ODBC Driver 18 for SQL Server]Communication link failure (10053)')",
     "output_type": "error",
     "traceback": [
      "\u001b[1;31m---------------------------------------------------------------------------\u001b[0m",
      "\u001b[1;31mOperationalError\u001b[0m                          Traceback (most recent call last)",
      "Cell \u001b[1;32mIn[12], line 5\u001b[0m\n\u001b[0;32m      2\u001b[0m table_name \u001b[38;5;241m=\u001b[39m \u001b[38;5;124m'\u001b[39m\u001b[38;5;124mReferenceProduct\u001b[39m\u001b[38;5;124m'\u001b[39m\n\u001b[0;32m      3\u001b[0m check_columns \u001b[38;5;241m=\u001b[39m [\u001b[38;5;124m'\u001b[39m\u001b[38;5;124mReferenceID\u001b[39m\u001b[38;5;124m'\u001b[39m]\n\u001b[1;32m----> 5\u001b[0m result \u001b[38;5;241m=\u001b[39m \u001b[43mupsert_data\u001b[49m\u001b[43m(\u001b[49m\u001b[43mtable_name\u001b[49m\u001b[43m,\u001b[49m\u001b[43m \u001b[49m\u001b[43mReferenceBrand\u001b[49m\u001b[43m,\u001b[49m\u001b[43m \u001b[49m\u001b[43mcheck_columns\u001b[49m\u001b[43m)\u001b[49m\n\u001b[0;32m      6\u001b[0m \u001b[38;5;28mprint\u001b[39m(result)\n",
      "Cell \u001b[1;32mIn[10], line 45\u001b[0m, in \u001b[0;36mupsert_data\u001b[1;34m(table_name, data_df, check_columns)\u001b[0m\n\u001b[0;32m     43\u001b[0m check_values \u001b[38;5;241m=\u001b[39m [row[col] \u001b[38;5;28;01mfor\u001b[39;00m col \u001b[38;5;129;01min\u001b[39;00m check_columns]\n\u001b[0;32m     44\u001b[0m check_query \u001b[38;5;241m=\u001b[39m \u001b[38;5;124mf\u001b[39m\u001b[38;5;124m\"\u001b[39m\u001b[38;5;124mSELECT COUNT(*) FROM \u001b[39m\u001b[38;5;132;01m{\u001b[39;00mtable_name\u001b[38;5;132;01m}\u001b[39;00m\u001b[38;5;124m WHERE \u001b[39m\u001b[38;5;132;01m{\u001b[39;00mcheck_conditions\u001b[38;5;132;01m}\u001b[39;00m\u001b[38;5;124m\"\u001b[39m\n\u001b[1;32m---> 45\u001b[0m \u001b[43mcursor\u001b[49m\u001b[38;5;241;43m.\u001b[39;49m\u001b[43mexecute\u001b[49m\u001b[43m(\u001b[49m\u001b[43mcheck_query\u001b[49m\u001b[43m,\u001b[49m\u001b[43m \u001b[49m\u001b[43mcheck_values\u001b[49m\u001b[43m)\u001b[49m\n\u001b[0;32m     46\u001b[0m record_count \u001b[38;5;241m=\u001b[39m cursor\u001b[38;5;241m.\u001b[39mfetchone()[\u001b[38;5;241m0\u001b[39m]\n\u001b[0;32m     48\u001b[0m \u001b[38;5;28;01mtry\u001b[39;00m:\n",
      "\u001b[1;31mOperationalError\u001b[0m: ('08S01', '[08S01] [Microsoft][ODBC Driver 18 for SQL Server]TCP Provider: An established connection was aborted by the software in your host machine.\\r\\n (10053) (SQLExecDirectW); [08S01] [Microsoft][ODBC Driver 18 for SQL Server]Communication link failure (10053)')"
     ]
    }
   ],
   "source": [
    "ReferenceBrand = pd.read_csv('reference_product.csv', encoding='utf-8-sig')\n",
    "table_name = 'ReferenceProduct'\n",
    "check_columns = ['ReferenceID']\n",
    "\n",
    "result = upsert_data(table_name, ReferenceBrand, check_columns)\n",
    "print(result)"
   ]
  },
  {
   "cell_type": "code",
   "execution_count": null,
   "metadata": {},
   "outputs": [],
   "source": [
    "cursor.close()\n",
    "conn.close()"
   ]
  }
 ],
 "metadata": {
  "kernelspec": {
   "display_name": "Python 3",
   "language": "python",
   "name": "python3"
  },
  "language_info": {
   "codemirror_mode": {
    "name": "ipython",
    "version": 3
   },
   "file_extension": ".py",
   "mimetype": "text/x-python",
   "name": "python",
   "nbconvert_exporter": "python",
   "pygments_lexer": "ipython3",
   "version": "3.12.1"
  }
 },
 "nbformat": 4,
 "nbformat_minor": 2
}
