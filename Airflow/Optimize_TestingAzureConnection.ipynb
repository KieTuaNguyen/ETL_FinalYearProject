{
 "cells": [
  {
   "cell_type": "code",
   "execution_count": 7,
   "metadata": {},
   "outputs": [],
   "source": [
    "import pyodbc\n",
    "import json\n",
    "import pandas as pd"
   ]
  },
  {
   "cell_type": "code",
   "execution_count": 8,
   "metadata": {},
   "outputs": [],
   "source": [
    "# Read the configuration from the config.prod.json file\n",
    "with open('./configs/config.prod.json') as f:\n",
    "    config = json.load(f)['ProductionDB']\n",
    "\n",
    "# Configuration for the SQL Server connection\n",
    "server = config['server']\n",
    "database = config['database']\n",
    "username = config['username']\n",
    "password = config['password']\n",
    "driver = config['driver']\n",
    "\n",
    "# Connection string\n",
    "conn_str = (\n",
    "    f\"DRIVER={driver};\"\n",
    "    f\"SERVER={server};\"\n",
    "    f\"DATABASE={database};\"\n",
    "    f\"UID={username};\"\n",
    "    f\"PWD={password}\"\n",
    ")"
   ]
  },
  {
   "cell_type": "code",
   "execution_count": 9,
   "metadata": {},
   "outputs": [
    {
     "name": "stdout",
     "output_type": "stream",
     "text": [
      "Connected to Azure SQL Server\n"
     ]
    }
   ],
   "source": [
    "conn = pyodbc.connect(conn_str)\n",
    "print(\"Connected to Azure SQL Server\")\n",
    "\n",
    "# You can execute queries or perform other operations here\n",
    "cursor = conn.cursor()"
   ]
  },
  {
   "cell_type": "code",
   "execution_count": 10,
   "metadata": {},
   "outputs": [],
   "source": [
    "def upsert_data(table_name, data_df, check_columns):\n",
    "    # Check if the table exists\n",
    "    cursor.execute(f\"SELECT 1 FROM sys.tables WHERE name = '{table_name}'\")\n",
    "    table_exists = cursor.fetchone()\n",
    "\n",
    "    if not table_exists:\n",
    "        # Create a new table with the specified columns\n",
    "        columns = [f\"{col} VARCHAR(255)\" if col in check_columns else f\"{col}\" for col in data_df.columns]\n",
    "        columns_str = \", \".join(columns)\n",
    "        primary_key_columns = \", \".join(check_columns)\n",
    "        create_table_query = f\"\"\"\n",
    "            CREATE TABLE {table_name} (\n",
    "                {columns_str},\n",
    "                PRIMARY KEY ({primary_key_columns})\n",
    "            )\n",
    "        \"\"\"\n",
    "        cursor.execute(create_table_query)\n",
    "        conn.commit()\n",
    "        print(f\"[CREATE NEW] The table '{table_name}' created.\")\n",
    "    else:\n",
    "        print(f\"[EXIST] The table '{table_name}' already exists.\")\n",
    "\n",
    "    # Prepare the insert and update queries\n",
    "    column_placeholders = \", \".join([\"?\"] * len(data_df.columns))\n",
    "    insert_query = f\"INSERT INTO {table_name} VALUES ({column_placeholders})\"\n",
    "    update_placeholders = \", \".join([f\"{col} = ?\" for col in data_df.columns])\n",
    "    check_conditions = \" AND \".join([f\"{col} = ?\" for col in check_columns])\n",
    "    update_query = f\"UPDATE {table_name} SET {update_placeholders} WHERE {check_conditions}\"\n",
    "\n",
    "    update_count = 0\n",
    "    insert_count = 0\n",
    "\n",
    "    for _, row in data_df.iterrows():\n",
    "        check_values = [row[col] for col in check_columns]\n",
    "        check_query = f\"SELECT COUNT(*) FROM {table_name} WHERE {check_conditions}\"\n",
    "        cursor.execute(check_query, check_values)\n",
    "        record_count = cursor.fetchone()[0]\n",
    "\n",
    "        try:\n",
    "            if record_count > 0:\n",
    "                update_values = [row[col] for col in data_df.columns] + check_values\n",
    "                cursor.execute(update_query, update_values)\n",
    "                update_count += 1\n",
    "            else:\n",
    "                insert_values = [row[col] for col in data_df.columns]\n",
    "                cursor.execute(insert_query, insert_values)\n",
    "                insert_count += 1\n",
    "            \n",
    "            conn.commit()\n",
    "        except Exception as e:\n",
    "            conn.rollback()\n",
    "            print(f\"Error occurred while processing record: {row}\")\n",
    "            print(f\"Error message: {str(e)}\")\n",
    "\n",
    "    result_message = \"\"\n",
    "    if update_count > 0:\n",
    "        result_message += f\"[UPDATE] There are {update_count} records updated.\\n\"\n",
    "    if insert_count > 0:\n",
    "        result_message += f\"[INSERT] There are {insert_count} records inserted.\"\n",
    "\n",
    "    return result_message"
   ]
  },
  {
   "cell_type": "code",
   "execution_count": 11,
   "metadata": {},
   "outputs": [],
   "source": [
    "ReferenceBrand = pd.read_csv('brand.csv')"
   ]
  },
  {
   "cell_type": "code",
   "execution_count": 12,
   "metadata": {},
   "outputs": [
    {
     "name": "stdout",
     "output_type": "stream",
     "text": [
      "[CREATE NEW] The table 'ReferenceProduct' created.\n"
     ]
    }
   ],
   "source": [
    "table_name = 'ReferenceProduct'\n",
    "check_columns = ['SubCategoryID', 'ProductID', 'BrandName']\n",
    "\n",
    "result = upsert_data(table_name, ReferenceBrand, check_columns)\n",
    "print(result)"
   ]
  },
  {
   "cell_type": "code",
   "execution_count": null,
   "metadata": {},
   "outputs": [],
   "source": [
    "cursor.close()\n",
    "conn.close()"
   ]
  }
 ],
 "metadata": {
  "kernelspec": {
   "display_name": "Python 3",
   "language": "python",
   "name": "python3"
  },
  "language_info": {
   "codemirror_mode": {
    "name": "ipython",
    "version": 3
   },
   "file_extension": ".py",
   "mimetype": "text/x-python",
   "name": "python",
   "nbconvert_exporter": "python",
   "pygments_lexer": "ipython3",
   "version": "3.12.1"
  }
 },
 "nbformat": 4,
 "nbformat_minor": 2
}
