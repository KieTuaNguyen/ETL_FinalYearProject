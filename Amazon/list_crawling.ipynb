{
 "cells": [
  {
   "cell_type": "code",
   "execution_count": 1,
   "metadata": {},
   "outputs": [],
   "source": [
    "from bs4 import BeautifulSoup\n",
    "import requests\n",
    "import pandas as pd"
   ]
  },
  {
   "cell_type": "code",
   "execution_count": 2,
   "metadata": {},
   "outputs": [
    {
     "name": "stdout",
     "output_type": "stream",
     "text": [
      "<Response [200]>\n"
     ]
    }
   ],
   "source": [
    "URL = \"https://www.amazon.com/s?k=iPhone+12+Pro+Max&ref=nb_sb_noss_2\"\n",
    "HEADERS = {\n",
    "        'Accept-Language': 'en-US, en;q=0.5',\n",
    "        'User-Agent': 'Mozilla/5.0 (Windows NT 10.0; Win64; x64) AppleWebKit/537.36 (KHTML, like Gecko) Chrome/121.0.0.0 Safari/537.36 Edg/121.0.0.0'\n",
    "    }\n",
    "\n",
    "# HTTP Request\n",
    "webpage = requests.get(URL, headers=HEADERS)\n",
    "# Connection \n",
    "print(requests.get(URL, headers=HEADERS))"
   ]
  },
  {
   "cell_type": "code",
   "execution_count": 3,
   "metadata": {},
   "outputs": [],
   "source": [
    "# Function to extract product information\n",
    "def extract_product_info(link):\n",
    "    HEADERS = {\n",
    "        'Accept-Language': 'en-US, en;q=0.5',\n",
    "        'User-Agent': 'Mozilla/5.0 (Windows NT 10.0; Win64; x64) AppleWebKit/537.36 (KHTML, like Gecko) Chrome/121.0.0.0 Safari/537.36 Edg/121.0.0.0'\n",
    "    }\n",
    "    # HTTP Request\n",
    "    webpage = requests.get(link, headers=HEADERS)\n",
    "    # Soup Object containing all data\n",
    "    soup = BeautifulSoup(webpage.content, \"html.parser\")\n",
    "    # Extracting required information\n",
    "    title = soup.find(\"span\", attrs={\"id\": 'productTitle'}).text.strip()\n",
    "    rating = soup.find(\"span\", attrs={\"class\": 'a-icon-alt'}).text\n",
    "    div_element = soup.find(\"div\", attrs={\"id\": \"imgTagWrapperId\"})\n",
    "    img_tag = div_element.find(\"img\")\n",
    "    img_src = img_tag.get(\"src\")\n",
    "    return {'Title': title, 'Rating': rating, 'Image URL': img_src}\n",
    "\n",
    "# Function to extract product links from a search page\n",
    "def extract_product_links(URL):\n",
    "    HEADERS = {'Accept-Language': 'en-US, en;q=0.5',\n",
    "               'User-Agent': 'Mozilla/5.0 (Windows NT 10.0; Win64; x64) AppleWebKit/537.36 (KHTML, like Gecko) Chrome/121.0.0.0 Safari/537.36 Edg/121.0.0.0'}\n",
    "    # HTTP Request\n",
    "    webpage = requests.get(URL, headers=HEADERS)\n",
    "    # Soup Object containing all data\n",
    "    soup = BeautifulSoup(webpage.content, \"html.parser\")\n",
    "    # Fetching links\n",
    "    links = soup.find_all(\"a\", class_=\"a-link-normal s-underline-text s-underline-link-text s-link-style a-text-normal\")\n",
    "    product_links = [\"https://amazon.com\" + link.get('href') for link in links]\n",
    "    return product_links\n",
    "\n",
    "# Function to get total number of pages\n",
    "def get_total_pages(URL):\n",
    "    HEADERS = {'Accept-Language': 'en-US, en;q=0.5',\n",
    "               'User-Agent': 'Mozilla/5.0 (Windows NT 10.0; Win64; x64) AppleWebKit/537.36 (KHTML, like Gecko) Chrome/121.0.0.0 Safari/537.36 Edg/121.0.0.0'}\n",
    "    # HTTP Request\n",
    "    webpage = requests.get(URL, headers=HEADERS)\n",
    "    # Soup Object containing all data\n",
    "    soup = BeautifulSoup(webpage.content, \"html.parser\")\n",
    "    # Finding pagination element\n",
    "    pagination = soup.find('div', {'class': 's-pagination-container'})\n",
    "    if pagination:\n",
    "        # Extracting last page number\n",
    "        last_page_element = pagination.find('span', {'class': 's-pagination-item s-pagination-disabled'})\n",
    "        if last_page_element:\n",
    "            last_page_number = int(last_page_element.text)\n",
    "            return last_page_number\n",
    "        else:\n",
    "            return 1  # If only one page\n",
    "    else:\n",
    "        return 1  # If pagination is not found, assume only one page"
   ]
  },
  {
   "cell_type": "code",
   "execution_count": 4,
   "metadata": {},
   "outputs": [],
   "source": [
    "# Main function to perform crawling\n",
    "def main():\n",
    "    base_url = \"https://www.amazon.com/s?k=iPhone+12+Pro+Max&ref=nb_sb_noss_2\"\n",
    "    total_pages = get_total_pages(base_url)\n",
    "    all_products = []\n",
    "    \n",
    "    for page_num in range(1, total_pages + 1):\n",
    "        page_url = f\"{base_url}&page={page_num}\"\n",
    "        product_links = extract_product_links(page_url)\n",
    "        for link in product_links:\n",
    "            product_info = extract_product_info(link)\n",
    "            all_products.append(product_info)\n",
    "    \n",
    "    # Converting to DataFrame\n",
    "    df = pd.DataFrame(all_products)\n",
    "    print(df)\n",
    "    # Store in a CSV file\n",
    "    df.to_csv('crawling_amazon_data.csv', index=False)"
   ]
  },
  {
   "cell_type": "code",
   "execution_count": 5,
   "metadata": {},
   "outputs": [
    {
     "name": "stdout",
     "output_type": "stream",
     "text": [
      "                                                 Title              Rating  \\\n",
      "0    JETech Case for iPhone 12 Pro Max 6.7-Inch, No...  4.6 out of 5 stars   \n",
      "1    OTTERBOX COMMUTER SERIES Case for iPhone 12 Pr...  4.6 out of 5 stars   \n",
      "2    OtterBox Defender Series Screenless Edition Ca...  4.7 out of 5 stars   \n",
      "3    OtterBox iPhone 13 Pro Max & iPhone 12 Pro Max...  4.5 out of 5 stars   \n",
      "4    OtterBox iPhone 13 Pro Max and iPhone 12 Pro M...  4.5 out of 5 stars   \n",
      "..                                                 ...                 ...   \n",
      "339  iPhone 12 Pro Max Lepricorn Funny Leprechaun R...  5.0 out of 5 stars   \n",
      "340  Motorola razr | 2023 | Unlocked | Made for US ...  4.3 out of 5 stars   \n",
      "341  Motorola razr+ | 2023 | Unlocked | Made for US...  4.1 out of 5 stars   \n",
      "342  iPhone 12 Pro Max Emerald Green Shamrock Irish...  5.0 out of 5 stars   \n",
      "343  iPhone 12 Pro Max Emerald Green Shamrock Irish...  5.0 out of 5 stars   \n",
      "\n",
      "                                             Image URL  \n",
      "0    https://m.media-amazon.com/images/I/61fiNGjsYU...  \n",
      "1    https://m.media-amazon.com/images/I/51lsw+n0i+...  \n",
      "2    https://m.media-amazon.com/images/I/71gXfbUfuf...  \n",
      "3    https://m.media-amazon.com/images/I/618F7K4Rld...  \n",
      "4    https://m.media-amazon.com/images/I/6173ZpI--Q...  \n",
      "..                                                 ...  \n",
      "339  https://m.media-amazon.com/images/I/61tNOiQ1SO...  \n",
      "340  https://m.media-amazon.com/images/I/61nVT+i3rd...  \n",
      "341  https://m.media-amazon.com/images/I/617sNgvewW...  \n",
      "342  https://m.media-amazon.com/images/I/71+R-pzfWE...  \n",
      "343  https://m.media-amazon.com/images/I/71UhqxhaDa...  \n",
      "\n",
      "[344 rows x 3 columns]\n"
     ]
    }
   ],
   "source": [
    "if __name__ == \"__main__\":\n",
    "    main()"
   ]
  },
  {
   "cell_type": "code",
   "execution_count": 6,
   "metadata": {},
   "outputs": [
    {
     "name": "stdout",
     "output_type": "stream",
     "text": [
      "Total pages: 20\n"
     ]
    }
   ],
   "source": [
    "import requests\n",
    "from bs4 import BeautifulSoup\n",
    "\n",
    "\n",
    "# Test the function\n",
    "URL = \"https://www.amazon.com/s?k=iPhone+12+Pro+Max&ref=nb_sb_noss_2\"\n",
    "total_pages = get_total_pages(URL)\n",
    "print(\"Total pages:\", total_pages)\n"
   ]
  }
 ],
 "metadata": {
  "kernelspec": {
   "display_name": "Python 3",
   "language": "python",
   "name": "python3"
  },
  "language_info": {
   "codemirror_mode": {
    "name": "ipython",
    "version": 3
   },
   "file_extension": ".py",
   "mimetype": "text/x-python",
   "name": "python",
   "nbconvert_exporter": "python",
   "pygments_lexer": "ipython3",
   "version": "3.12.1"
  }
 },
 "nbformat": 4,
 "nbformat_minor": 2
}
